{
  "nbformat": 4,
  "nbformat_minor": 0,
  "metadata": {
    "kernelspec": {
      "display_name": "Python 3",
      "language": "python",
      "name": "python3"
    },
    "language_info": {
      "codemirror_mode": {
        "name": "ipython",
        "version": 3
      },
      "file_extension": ".py",
      "mimetype": "text/x-python",
      "name": "python",
      "nbconvert_exporter": "python",
      "pygments_lexer": "ipython3",
      "version": "3.7.3"
    },
    "colab": {
      "name": "Copy of my_schools.ipynb",
      "provenance": [],
      "collapsed_sections": [
        "3LMj_6jyHXZp",
        "q2T-oHSwHXaV",
        "Yi1cfqdMHXav",
        "aS-ocfjZHXa4"
      ]
    }
  },
  "cells": [
    {
      "cell_type": "markdown",
      "metadata": {
        "id": "Uz_7KphdHXZC",
        "colab_type": "text"
      },
      "source": [
        "# Introduction\n",
        "\n",
        "In this Data Cleaning Walkthrough we'll be working with SAT test data from NY Schools. We will be investigating correlations between SAT scores and demographics, as well as factors like race, gender, income, and more.\n",
        "\n",
        "New York City makes its data on high school SAT scores available [online](https://data.cityofnewyork.us/Education/SAT-Results/f9bf-2cp4), as well as the [demographics](https://data.cityofnewyork.us/Education/DOE-High-School-Directory-2014-2015/n3p6-zve2) for each high school.\n"
      ]
    },
    {
      "cell_type": "markdown",
      "metadata": {
        "id": "gA3u_-vDHXZE",
        "colab_type": "text"
      },
      "source": [
        "## The Data\n",
        "\n",
        "#### From our background research we can state the following:\n",
        "\n",
        " - Only high school students take the SAT, so we'll want to focus on high schools.\n",
        " - New York City is made up of five boroughs, which are essentially distinct regions.\n",
        " - New York City schools fall within several different school districts, each of which can contains dozens of schools.\n",
        " - Our data sets include several different types of schools. We'll need to clean them so that we can focus on high schools only.\n",
        " - Each school in New York City has a unique code called a DBN, or district borough number.\n",
        " - Aggregating data by district will allow us to use the district mapping data to plot district-by-district differences.\n",
        "\n",
        "#### The following files have been stored in the `schools` folder:\n",
        "\n",
        "\n",
        " - `ap_2010.csv` - Data on AP test results\n",
        " - `class_size.csv` - Data on class size\n",
        " - `demographics.csv` - Data on demographics\n",
        " - `graduation.csv` - Data on graduation outcomes\n",
        " - `hs_directory.csv` - A directory of high schools\n",
        " - `sat_results.csv` - Data on SAT scores\n",
        " \n",
        " - `survey_all.txt` - Data on surveys from all schools\n",
        " - `survey_d75.txt` - Data on surveys from New York City district 75\n",
        " \n",
        "We'll start by importing necessary modules and the CSV files. We'll read each of these CSV files into a pandas dataframe, and then store all of the dataframes in a dictionary. This will give us a convenient way to store them, and a quick way to reference them later on."
      ]
    },
    {
      "cell_type": "code",
      "metadata": {
        "id": "4GxMdOYPHeSi",
        "colab_type": "code",
        "outputId": "940d7fe3-a1e0-4c58-8054-5c009e4723fd",
        "colab": {
          "base_uri": "https://localhost:8080/",
          "height": 374
        }
      },
      "source": [
        "!apt-get install libgeos-dev"
      ],
      "execution_count": 0,
      "outputs": [
        {
          "output_type": "stream",
          "text": [
            "Reading package lists... Done\n",
            "Building dependency tree       \n",
            "Reading state information... Done\n",
            "The following package was automatically installed and is no longer required:\n",
            "  libnvidia-common-430\n",
            "Use 'apt autoremove' to remove it.\n",
            "Suggested packages:\n",
            "  libgdal-doc\n",
            "The following NEW packages will be installed:\n",
            "  libgeos-dev\n",
            "0 upgraded, 1 newly installed, 0 to remove and 7 not upgraded.\n",
            "Need to get 73.1 kB of archives.\n",
            "After this operation, 486 kB of additional disk space will be used.\n",
            "Get:1 http://archive.ubuntu.com/ubuntu bionic/universe amd64 libgeos-dev amd64 3.6.2-1build2 [73.1 kB]\n",
            "Fetched 73.1 kB in 1s (113 kB/s)\n",
            "Selecting previously unselected package libgeos-dev.\n",
            "(Reading database ... 134985 files and directories currently installed.)\n",
            "Preparing to unpack .../libgeos-dev_3.6.2-1build2_amd64.deb ...\n",
            "Unpacking libgeos-dev (3.6.2-1build2) ...\n",
            "Setting up libgeos-dev (3.6.2-1build2) ...\n",
            "Processing triggers for man-db (2.8.3-2ubuntu0.1) ...\n"
          ],
          "name": "stdout"
        }
      ]
    },
    {
      "cell_type": "code",
      "metadata": {
        "id": "wdR2NQNNIPnw",
        "colab_type": "code",
        "outputId": "c866261a-4b18-4eea-8e8d-5372d6c11c38",
        "colab": {
          "base_uri": "https://localhost:8080/",
          "height": 582
        }
      },
      "source": [
        "!pip install https://github.com/matplotlib/basemap/archive/master.zip"
      ],
      "execution_count": 0,
      "outputs": [
        {
          "output_type": "stream",
          "text": [
            "Collecting https://github.com/matplotlib/basemap/archive/master.zip\n",
            "\u001b[?25l  Downloading https://github.com/matplotlib/basemap/archive/master.zip (133.1MB)\n",
            "\u001b[K     |████████████████████████████████| 133.1MB 74kB/s \n",
            "\u001b[?25hRequirement already satisfied: matplotlib!=3.0.1,>=1.0.0 in /usr/local/lib/python3.6/dist-packages (from basemap==1.2.1) (3.1.2)\n",
            "Requirement already satisfied: numpy>=1.2.1 in /usr/local/lib/python3.6/dist-packages (from basemap==1.2.1) (1.17.4)\n",
            "Collecting pyproj>=1.9.3\n",
            "\u001b[?25l  Downloading https://files.pythonhosted.org/packages/d6/70/eedc98cd52b86de24a1589c762612a98bea26cde649ffdd60c1db396cce8/pyproj-2.4.2.post1-cp36-cp36m-manylinux2010_x86_64.whl (10.1MB)\n",
            "\u001b[K     |████████████████████████████████| 10.1MB 5.0MB/s \n",
            "\u001b[?25hCollecting pyshp>=1.2.0\n",
            "\u001b[?25l  Downloading https://files.pythonhosted.org/packages/27/16/3bf15aa864fb77845fab8007eda22c2bd67bd6c1fd13496df452c8c43621/pyshp-2.1.0.tar.gz (215kB)\n",
            "\u001b[K     |████████████████████████████████| 225kB 58.9MB/s \n",
            "\u001b[?25hRequirement already satisfied: six in /usr/local/lib/python3.6/dist-packages (from basemap==1.2.1) (1.12.0)\n",
            "Requirement already satisfied: python-dateutil>=2.1 in /usr/local/lib/python3.6/dist-packages (from matplotlib!=3.0.1,>=1.0.0->basemap==1.2.1) (2.6.1)\n",
            "Requirement already satisfied: pyparsing!=2.0.4,!=2.1.2,!=2.1.6,>=2.0.1 in /usr/local/lib/python3.6/dist-packages (from matplotlib!=3.0.1,>=1.0.0->basemap==1.2.1) (2.4.5)\n",
            "Requirement already satisfied: kiwisolver>=1.0.1 in /usr/local/lib/python3.6/dist-packages (from matplotlib!=3.0.1,>=1.0.0->basemap==1.2.1) (1.1.0)\n",
            "Requirement already satisfied: cycler>=0.10 in /usr/local/lib/python3.6/dist-packages (from matplotlib!=3.0.1,>=1.0.0->basemap==1.2.1) (0.10.0)\n",
            "Requirement already satisfied: setuptools in /usr/local/lib/python3.6/dist-packages (from kiwisolver>=1.0.1->matplotlib!=3.0.1,>=1.0.0->basemap==1.2.1) (42.0.2)\n",
            "Building wheels for collected packages: basemap, pyshp\n",
            "  Building wheel for basemap (setup.py) ... \u001b[?25l\u001b[?25hdone\n",
            "  Created wheel for basemap: filename=basemap-1.2.1-cp36-cp36m-linux_x86_64.whl size=121756043 sha256=33715323a00b01efffdad6104f7298ba9e4363f7ee022b9cddbacabc04adc0eb\n",
            "  Stored in directory: /tmp/pip-ephem-wheel-cache-krgie_x2/wheels/98/4a/fc/ce719b75d97e646645c225f3332b1b217536100314922e9572\n",
            "  Building wheel for pyshp (setup.py) ... \u001b[?25l\u001b[?25hdone\n",
            "  Created wheel for pyshp: filename=pyshp-2.1.0-cp36-none-any.whl size=32607 sha256=77c7987df96f822b42ebec4551f04b189edcb21c20196030c6edddce26b40be8\n",
            "  Stored in directory: /root/.cache/pip/wheels/a6/0c/de/321b5192ad416b328975a2f0385f72c64db4656501eba7cc1a\n",
            "Successfully built basemap pyshp\n",
            "Installing collected packages: pyproj, pyshp, basemap\n",
            "Successfully installed basemap-1.2.1 pyproj-2.4.2.post1 pyshp-2.1.0\n"
          ],
          "name": "stdout"
        },
        {
          "output_type": "display_data",
          "data": {
            "application/vnd.colab-display-data+json": {
              "pip_warning": {
                "packages": [
                  "mpl_toolkits"
                ]
              }
            }
          },
          "metadata": {
            "tags": []
          }
        }
      ]
    },
    {
      "cell_type": "code",
      "metadata": {
        "id": "v0pWqtR2HXZF",
        "colab_type": "code",
        "colab": {}
      },
      "source": [
        "import numpy as np\n",
        "import pandas as pd\n",
        "import matplotlib.pyplot as plt\n",
        "import mpl_toolkits.basemap\n",
        "#import seaborn as sns\n",
        "#import cartopy.crs as ccrs\n",
        "#import cartopy.feature as cf \n",
        "# import geopandas\n",
        "import re\n",
        "\n",
        "# This will need to be done in the future so \n",
        "# get accustomed to using now\n",
        "from pandas.plotting import register_matplotlib_converters\n",
        "register_matplotlib_converters()\n",
        "\n",
        "%matplotlib inline\n",
        " \n",
        "\n",
        "\n",
        "\n",
        "data_files = [\n",
        "    \"ap_2010.csv\",\n",
        "    \"class_size.csv\",\n",
        "    \"demographics.csv\",\n",
        "    \"graduation.csv\",\n",
        "    \"hs_directory.csv\",\n",
        "    \"sat_results.csv\"\n",
        "]\n",
        "data = {}\n",
        "\n",
        "for f in data_files:\n",
        "    d = pd.read_csv(\"/content/drive/My Drive/schools/{0}\".format(f))\n",
        "    key_name = f.replace(\".csv\", \"\")\n",
        "    data[key_name] = d"
      ],
      "execution_count": 0,
      "outputs": []
    },
    {
      "cell_type": "code",
      "metadata": {
        "id": "-rhXdRR8J8b1",
        "colab_type": "code",
        "outputId": "878b5d13-c253-4d40-d5e6-57ee497d4d9c",
        "colab": {
          "base_uri": "https://localhost:8080/",
          "height": 122
        }
      },
      "source": [
        "from google.colab import drive\n",
        "drive.mount('/content/drive')"
      ],
      "execution_count": 0,
      "outputs": [
        {
          "output_type": "stream",
          "text": [
            "Go to this URL in a browser: https://accounts.google.com/o/oauth2/auth?client_id=947318989803-6bn6qk8qdgf4n4g3pfee6491hc0brc4i.apps.googleusercontent.com&redirect_uri=urn%3aietf%3awg%3aoauth%3a2.0%3aoob&response_type=code&scope=email%20https%3a%2f%2fwww.googleapis.com%2fauth%2fdocs.test%20https%3a%2f%2fwww.googleapis.com%2fauth%2fdrive%20https%3a%2f%2fwww.googleapis.com%2fauth%2fdrive.photos.readonly%20https%3a%2f%2fwww.googleapis.com%2fauth%2fpeopleapi.readonly\n",
            "\n",
            "Enter your authorization code:\n",
            "··········\n",
            "Mounted at /content/drive\n"
          ],
          "name": "stdout"
        }
      ]
    },
    {
      "cell_type": "markdown",
      "metadata": {
        "id": "SZadTjO3HXZL",
        "colab_type": "text"
      },
      "source": [
        "## Explore the SAT data\n",
        "\n",
        "We're mainly interested in the SAT test results, so we'll start exploring there:\n",
        "\n",
        "print(data[\"sat_results\"].head())"
      ]
    },
    {
      "cell_type": "markdown",
      "metadata": {
        "id": "tq0sqB0RHXZM",
        "colab_type": "text"
      },
      "source": [
        "### Observations:\n",
        "\n",
        "We can make a few observations based on this output:\n",
        "\n",
        " - The `DBN` is a unique ID for each school.\n",
        " - We can tell from the first few rows of names that we only have data about high schools.\n",
        " - There's only a single row for each high school, so each `DBN` is unique in the SAT data.\n",
        " - We may eventually want to combine the three columns that contain `SAT scores` -- `SAT Critical Reading Avg. Score`, `SAT Math Avg. Score`, and `SAT Writing Avg. Score` -- into a single column to make the scores easier to analyze."
      ]
    },
    {
      "cell_type": "code",
      "metadata": {
        "id": "yOMK6XxRHXZN",
        "colab_type": "code",
        "outputId": "ac9c4762-0803-4e42-ba83-be82d3daab8e",
        "colab": {
          "base_uri": "https://localhost:8080/",
          "height": 833
        }
      },
      "source": [
        "for key in data: \n",
        "    print(data[key].head())"
      ],
      "execution_count": 0,
      "outputs": [
        {
          "output_type": "stream",
          "text": [
            "      DBN  ... Number of Exams with scores 3 4 or 5\n",
            "0  01M448  ...                                   10\n",
            "1  01M450  ...                                    s\n",
            "2  01M515  ...                                   24\n",
            "3  01M539  ...                                  191\n",
            "4  02M296  ...                                    s\n",
            "\n",
            "[5 rows x 5 columns]\n",
            "   CSD BOROUGH  ... DATA SOURCE SCHOOLWIDE PUPIL-TEACHER RATIO\n",
            "0    1       M  ...         ATS                            NaN\n",
            "1    1       M  ...         ATS                            NaN\n",
            "2    1       M  ...         ATS                            NaN\n",
            "3    1       M  ...         ATS                            NaN\n",
            "4    1       M  ...         ATS                            NaN\n",
            "\n",
            "[5 rows x 16 columns]\n",
            "      DBN                       Name  ...  female_num female_per\n",
            "0  01M015  P.S. 015 ROBERTO CLEMENTE  ...       123.0       43.8\n",
            "1  01M015  P.S. 015 ROBERTO CLEMENTE  ...       103.0       42.4\n",
            "2  01M015  P.S. 015 ROBERTO CLEMENTE  ...       118.0       45.2\n",
            "3  01M015  P.S. 015 ROBERTO CLEMENTE  ...       103.0       40.9\n",
            "4  01M015  P.S. 015 ROBERTO CLEMENTE  ...        84.0       40.4\n",
            "\n",
            "[5 rows x 38 columns]\n",
            "    Demographic     DBN  ... Dropped Out - n Dropped Out - % of cohort\n",
            "0  Total Cohort  01M292  ...               s                         s\n",
            "1  Total Cohort  01M292  ...               3                      5.5%\n",
            "2  Total Cohort  01M292  ...               9                     14.1%\n",
            "3  Total Cohort  01M292  ...              11                     14.1%\n",
            "4  Total Cohort  01M292  ...              11                     14.1%\n",
            "\n",
            "[5 rows x 23 columns]\n",
            "      dbn  ...                                         Location 1\n",
            "0  17K548  ...  883 Classon Avenue\\nBrooklyn, NY 11225\\n(40.67...\n",
            "1  09X543  ...  1110 Boston Road\\nBronx, NY 10456\\n(40.8276026...\n",
            "2  09X327  ...  1501 Jerome Avenue\\nBronx, NY 10452\\n(40.84241...\n",
            "3  02M280  ...  411 Pearl Street\\nNew York, NY 10038\\n(40.7106...\n",
            "4  28Q680  ...  160-20 Goethals Avenue\\nJamaica, NY 11432\\n(40...\n",
            "\n",
            "[5 rows x 58 columns]\n",
            "      DBN  ... SAT Writing Avg. Score\n",
            "0  01M292  ...                    363\n",
            "1  01M448  ...                    366\n",
            "2  01M450  ...                    370\n",
            "3  01M458  ...                    359\n",
            "4  01M509  ...                    384\n",
            "\n",
            "[5 rows x 6 columns]\n"
          ],
          "name": "stdout"
        }
      ]
    },
    {
      "cell_type": "markdown",
      "metadata": {
        "id": "Jg26NmAiHXZT",
        "colab_type": "text"
      },
      "source": [
        "### Observations: \n",
        "\n",
        " - As `DBN` is an ID for each school, we can use that column to combine the data sets. First we'll pinpoint matching rows from different data sets by looking for identical `DBN`s, then group all of their columns together in a single data set.\n",
        " - Some fields look interesting for mapping -- particularly `Location 1`, which contains coordinates inside a larger string.\n",
        " - Some of the data sets appear to contain multiple rows for each school (because the rows have duplicate `DBN` values). That means we’ll have to do some preprocessing to ensure that each `DBN` is unique within each data set. If we don't do this, we'll run into problems when we combine the data sets, because we might be merging two rows in one data set with one row in another data set."
      ]
    },
    {
      "cell_type": "markdown",
      "metadata": {
        "id": "HgT2z0DeHXZU",
        "colab_type": "text"
      },
      "source": [
        "## More Data\n",
        "\n",
        "We'll now concentrate on reading in the survey data (`survey_all.txt` and `survey_d75.txt`). These are tab delimited with `Windows-1252` encoding which we'll need to specify. \n",
        "\n",
        "After we read in the file we will combine it with the pandas `concat` method: `z = pd.concat([x,y], axis=0)`"
      ]
    },
    {
      "cell_type": "code",
      "metadata": {
        "id": "R3TuavvSHXZV",
        "colab_type": "code",
        "outputId": "daca19e4-8a38-41ce-a7c5-e3d154549e46",
        "colab": {
          "base_uri": "https://localhost:8080/",
          "height": 173
        }
      },
      "source": [
        "all_survey = pd.read_csv('/content/drive/My Drive/schools/survey_all.txt', delimiter=\"\\t\", encoding=\"windows-1252\")\n",
        "\n",
        "d75_survey = pd.read_csv('/content/drive/My Drive/schools/survey_d75.txt', delimiter=\"\\t\", encoding=\"windows-1252\")\n",
        "\n",
        "# z = pd.concat([x,y], axis=0)\n",
        "survey = pd.concat([all_survey, d75_survey], axis=0)"
      ],
      "execution_count": 0,
      "outputs": [
        {
          "output_type": "stream",
          "text": [
            "/usr/local/lib/python3.6/dist-packages/ipykernel_launcher.py:6: FutureWarning: Sorting because non-concatenation axis is not aligned. A future version\n",
            "of pandas will change to not sort by default.\n",
            "\n",
            "To accept the future behavior, pass 'sort=False'.\n",
            "\n",
            "To retain the current behavior and silence the warning, pass 'sort=True'.\n",
            "\n",
            "  \n"
          ],
          "name": "stderr"
        }
      ]
    },
    {
      "cell_type": "markdown",
      "metadata": {
        "id": "nfuswQzyHXZZ",
        "colab_type": "text"
      },
      "source": [
        "### Observations \n",
        "\n",
        "There are over 2000 columns, nearly all of which we don't need. We'll have to filter the data to remove the unnecessary ones. Working with fewer columns will make it easier to print the dataframe out and find correlations within it.\n",
        "The survey data has a `dbn` column that we'll want to convert to uppercase (`DBN`). The conversion will make the column name consistent with the other data sets.\n",
        "\n",
        "To filter the columns to remove the ones we don't need, we'll use the [available data dictionary](https://data.cityofnewyork.us/Education/NYC-School-Survey-2011/mnz3-dyi8). The dictionary tells us what each column represents. Based on our knowledge of the problem and the analysis we're trying to do, we can use the data dictionary to determine which columns to use."
      ]
    },
    {
      "cell_type": "code",
      "metadata": {
        "id": "Qvg854giHXZa",
        "colab_type": "code",
        "outputId": "402b5e53-6df4-417d-cc0a-bff63f719e6c",
        "colab": {
          "base_uri": "https://localhost:8080/",
          "height": 153
        }
      },
      "source": [
        "survey[\"DBN\"] = survey[\"dbn\"]\n",
        "\n",
        "relevant_columns = [\n",
        "    \"DBN\", \n",
        "    \"rr_s\", \n",
        "    \"rr_t\", \n",
        "    \"rr_p\", \n",
        "    \"N_s\", \n",
        "    \"N_t\", \n",
        "    \"N_p\", \n",
        "    \"saf_p_11\", \n",
        "    \"com_p_11\", \n",
        "    \"eng_p_11\", \n",
        "    \"aca_p_11\", \n",
        "    \"saf_t_11\", \n",
        "    \"com_t_11\", \n",
        "    \"eng_t_11\", \n",
        "    \"aca_t_11\", \n",
        "    \"saf_s_11\", \n",
        "    \"com_s_11\", \n",
        "    \"eng_s_11\", \n",
        "    \"aca_s_11\", \n",
        "    \"saf_tot_11\", \n",
        "    \"com_tot_11\", \n",
        "    \"eng_tot_11\", \n",
        "    \"aca_tot_11\"\n",
        "]\n",
        "\n",
        "survey = survey.loc[:, relevant_columns]\n",
        "data[\"survey\"] = survey\n",
        "\n",
        "print(survey.head())"
      ],
      "execution_count": 0,
      "outputs": [
        {
          "output_type": "stream",
          "text": [
            "      DBN  rr_s  rr_t  rr_p  ...  saf_tot_11  com_tot_11  eng_tot_11  aca_tot_11\n",
            "0  01M015   NaN    88    60  ...         8.0         7.7         7.5         7.9\n",
            "1  01M019   NaN   100    60  ...         8.5         8.1         8.2         8.4\n",
            "2  01M020   NaN    88    73  ...         8.2         7.3         7.5         8.0\n",
            "3  01M034  89.0    73    50  ...         7.3         6.7         7.1         7.9\n",
            "4  01M063   NaN   100    60  ...         8.5         7.6         7.9         8.0\n",
            "\n",
            "[5 rows x 23 columns]\n"
          ],
          "name": "stdout"
        }
      ]
    },
    {
      "cell_type": "code",
      "metadata": {
        "id": "D_Mfoqo7HXZf",
        "colab_type": "code",
        "outputId": "58d958df-8b33-44e9-c35a-199fe6854e88",
        "colab": {
          "base_uri": "https://localhost:8080/",
          "height": 493
        }
      },
      "source": [
        "survey.info()"
      ],
      "execution_count": 0,
      "outputs": [
        {
          "output_type": "stream",
          "text": [
            "<class 'pandas.core.frame.DataFrame'>\n",
            "Int64Index: 1702 entries, 0 to 55\n",
            "Data columns (total 23 columns):\n",
            "DBN           1702 non-null object\n",
            "rr_s          1041 non-null float64\n",
            "rr_t          1702 non-null int64\n",
            "rr_p          1702 non-null int64\n",
            "N_s           1036 non-null float64\n",
            "N_t           1700 non-null float64\n",
            "N_p           1696 non-null float64\n",
            "saf_p_11      1696 non-null float64\n",
            "com_p_11      1696 non-null float64\n",
            "eng_p_11      1696 non-null float64\n",
            "aca_p_11      1696 non-null float64\n",
            "saf_t_11      1700 non-null float64\n",
            "com_t_11      1700 non-null float64\n",
            "eng_t_11      1700 non-null float64\n",
            "aca_t_11      1700 non-null float64\n",
            "saf_s_11      1036 non-null float64\n",
            "com_s_11      1036 non-null float64\n",
            "eng_s_11      1036 non-null float64\n",
            "aca_s_11      1036 non-null float64\n",
            "saf_tot_11    1702 non-null float64\n",
            "com_tot_11    1702 non-null float64\n",
            "eng_tot_11    1702 non-null float64\n",
            "aca_tot_11    1702 non-null float64\n",
            "dtypes: float64(20), int64(2), object(1)\n",
            "memory usage: 319.1+ KB\n"
          ],
          "name": "stdout"
        }
      ]
    },
    {
      "cell_type": "markdown",
      "metadata": {
        "id": "ti1W0Xj0HXZm",
        "colab_type": "text"
      },
      "source": [
        "### Inserting DBN fields\n",
        "\n",
        "When we explored all of the data sets, we noticed that some of them, like `class_size` and `hs_directory`, don't have a `DBN` column. `hs_directory` does have a `dbn` column, though, so we can just rename it.\n",
        "\n",
        "However, `class_size` doesn't appear to have the column at all. Here are the first few rows of the data set:"
      ]
    },
    {
      "cell_type": "code",
      "metadata": {
        "id": "vqp3zo0sHXZm",
        "colab_type": "code",
        "outputId": "422cab93-0a31-4a2b-b8ac-0311a4c247b1",
        "colab": {
          "base_uri": "https://localhost:8080/",
          "height": 153
        }
      },
      "source": [
        "print(data['class_size'].head())"
      ],
      "execution_count": 0,
      "outputs": [
        {
          "output_type": "stream",
          "text": [
            "   CSD BOROUGH  ... DATA SOURCE SCHOOLWIDE PUPIL-TEACHER RATIO\n",
            "0    1       M  ...         ATS                            NaN\n",
            "1    1       M  ...         ATS                            NaN\n",
            "2    1       M  ...         ATS                            NaN\n",
            "3    1       M  ...         ATS                            NaN\n",
            "4    1       M  ...         ATS                            NaN\n",
            "\n",
            "[5 rows x 16 columns]\n"
          ],
          "name": "stdout"
        }
      ]
    },
    {
      "cell_type": "markdown",
      "metadata": {
        "id": "3LMj_6jyHXZp",
        "colab_type": "text"
      },
      "source": [
        "#### DBN form\n",
        "\n",
        "The `DBN` in the `sat_results` data is a combination of the `CSD` and `SCHOOL CODE` columns in the `class_size` data. The main difference is that the `DBN` is padded, so that the `CSD` portion of it always consists of two digits. That means we'll need to add a leading 0 to the `CSD` if the `CSD` is less than two digits long. "
      ]
    },
    {
      "cell_type": "markdown",
      "metadata": {
        "id": "h_UxE1H4HXZp",
        "colab_type": "text"
      },
      "source": [
        "#### Strategy\n",
        "\n",
        "We can accomplish this using the `pandas.Series.apply()` method, along with a custom function that:\n",
        "\n",
        " - Takes in a number.\n",
        " - Converts the number to a string using the `str()` function.\n",
        " - Check the length of the string using the `len()` function.\n",
        " - If the string is two digits long, returns the string.\n",
        " - If the string is one digit long, adds a 0 to the front of the string, then returns it.\n",
        " - Use the string method `zfill()` to do this."
      ]
    },
    {
      "cell_type": "code",
      "metadata": {
        "id": "VpYNI-TDHXZq",
        "colab_type": "code",
        "outputId": "13e15e6b-0ff0-444c-ede1-89762d9da267",
        "colab": {
          "base_uri": "https://localhost:8080/",
          "height": 119
        }
      },
      "source": [
        "# Copy the dbn column in hs_directory into a new column called DBN\n",
        "data[\"hs_directory\"][\"DBN\"] = data[\"hs_directory\"][\"dbn\"]\n",
        "\n",
        "# custom function which accepts a number, returns a padded string\n",
        "def pad_csd(num):\n",
        "    return str(num).zfill(2)\n",
        "\n",
        "data[\"class_size\"][\"padded_csd\"] = data[\"class_size\"][\"CSD\"].apply(pad_csd)\n",
        "data[\"class_size\"][\"DBN\"] = data[\"class_size\"][\"padded_csd\"] + data[\"class_size\"][\"SCHOOL CODE\"]\n",
        "print(data['class_size']['DBN'].head())"
      ],
      "execution_count": 0,
      "outputs": [
        {
          "output_type": "stream",
          "text": [
            "0    01M015\n",
            "1    01M015\n",
            "2    01M015\n",
            "3    01M015\n",
            "4    01M015\n",
            "Name: DBN, dtype: object\n"
          ],
          "name": "stdout"
        }
      ]
    },
    {
      "cell_type": "markdown",
      "metadata": {
        "id": "ZWQGd4SgHXZw",
        "colab_type": "text"
      },
      "source": [
        "## Combine SAT data and test scores\n"
      ]
    },
    {
      "cell_type": "code",
      "metadata": {
        "id": "EpYawV2-HXZx",
        "colab_type": "code",
        "outputId": "abc79018-3994-4391-8b20-08ea4de05d28",
        "colab": {
          "base_uri": "https://localhost:8080/",
          "height": 119
        }
      },
      "source": [
        "cols = ['SAT Math Avg. Score', 'SAT Critical Reading Avg. Score', 'SAT Writing Avg. Score']\n",
        "for c in cols:\n",
        "    data[\"sat_results\"][c] = pd.to_numeric(data[\"sat_results\"][c], errors=\"coerce\")\n",
        "\n",
        "data['sat_results']['sat_score'] = data['sat_results'][cols[0]] + data['sat_results'][cols[1]] + data['sat_results'][cols[2]]\n",
        "print(data['sat_results']['sat_score'].head())"
      ],
      "execution_count": 0,
      "outputs": [
        {
          "output_type": "stream",
          "text": [
            "0    1122.0\n",
            "1    1172.0\n",
            "2    1149.0\n",
            "3    1174.0\n",
            "4    1207.0\n",
            "Name: sat_score, dtype: float64\n"
          ],
          "name": "stdout"
        }
      ]
    },
    {
      "cell_type": "markdown",
      "metadata": {
        "id": "1K_usT5THXZ1",
        "colab_type": "text"
      },
      "source": [
        "## Parsing Geographic Coordinates for Schools\n",
        "\n",
        "Next, we'll want to parse the `latitude` and `longitude` coordinates for each school. This will enable us to map the schools and uncover any geographic patterns in the data. The coordinates are currently in the text field `Location 1` in the `hs_directory` data set:"
      ]
    },
    {
      "cell_type": "code",
      "metadata": {
        "id": "1TdgQtQGHXZ2",
        "colab_type": "code",
        "outputId": "80586776-6400-45c9-b31b-92f6c6079a30",
        "colab": {}
      },
      "source": [
        "print(data['hs_directory']['Location 1'].head())"
      ],
      "execution_count": 0,
      "outputs": [
        {
          "output_type": "stream",
          "text": [
            "0    883 Classon Avenue\\nBrooklyn, NY 11225\\n(40.67...\n",
            "1    1110 Boston Road\\nBronx, NY 10456\\n(40.8276026...\n",
            "2    1501 Jerome Avenue\\nBronx, NY 10452\\n(40.84241...\n",
            "3    411 Pearl Street\\nNew York, NY 10038\\n(40.7106...\n",
            "4    160-20 Goethals Avenue\\nJamaica, NY 11432\\n(40...\n",
            "Name: Location 1, dtype: object\n"
          ],
          "name": "stdout"
        }
      ]
    },
    {
      "cell_type": "markdown",
      "metadata": {
        "id": "lNhfdkPqHXZ4",
        "colab_type": "text"
      },
      "source": [
        "As you can see, this field contains a lot of information we don't need. We want to extract the coordinates, which are in parentheses at the end of the field."
      ]
    },
    {
      "cell_type": "code",
      "metadata": {
        "id": "Tf47iutaHXZ4",
        "colab_type": "code",
        "outputId": "bb08381c-2955-4216-de6b-323805b7c079",
        "colab": {
          "base_uri": "https://localhost:8080/",
          "height": 119
        }
      },
      "source": [
        "# Function to extract the latitude\n",
        "def find_lat(loc):\n",
        "    \n",
        "    #re to pull out the coordinates inside the parentheses\n",
        "    coords = re.findall(\"\\(.+\\)\", loc)\n",
        "    \n",
        "    # Uses string manipulation functions to pull out the latitude\n",
        "    lat = coords[0].split(\",\")[0].replace(\"(\", \"\")\n",
        "    return lat\n",
        "\n",
        "# Use the Series.apply() method to apply the function across the Location 1 column of hs_directory\n",
        "data[\"hs_directory\"][\"lat\"] = data[\"hs_directory\"][\"Location 1\"].apply(find_lat)\n",
        "\n",
        "print(data['hs_directory']['lat'].head())"
      ],
      "execution_count": 0,
      "outputs": [
        {
          "output_type": "stream",
          "text": [
            "0     40.67029890700047\n",
            "1      40.8276026690005\n",
            "2    40.842414068000494\n",
            "3     40.71067947100045\n",
            "4    40.718810094000446\n",
            "Name: lat, dtype: object\n"
          ],
          "name": "stdout"
        }
      ]
    },
    {
      "cell_type": "code",
      "metadata": {
        "id": "eNUY6alUHXZ6",
        "colab_type": "code",
        "outputId": "08e93e79-6ea3-4382-81db-622ede955667",
        "colab": {
          "base_uri": "https://localhost:8080/",
          "height": 119
        }
      },
      "source": [
        "# Function to extract the longitude\n",
        "def find_lon(loc):\n",
        "    \n",
        "    #re to pull out the coordinates inside the parentheses\n",
        "    coords = re.findall(\"\\(.+\\)\", loc)\n",
        "    \n",
        "    # Uses string manipulation functions to pull out the longitute\n",
        "    lon = coords[0].split(\",\")[1].replace(\")\", \"\").strip()\n",
        "    return lon\n",
        "\n",
        "# Use the Series.apply() method to apply the function across the Location 1 column of hs_directory\n",
        "data[\"hs_directory\"][\"lon\"] = data[\"hs_directory\"][\"Location 1\"].apply(find_lon)\n",
        "\n",
        "# Use the to_numeric() function to convert the lat and lon columns of hs_directory to numbers.\n",
        "# Specify the errors=\"coerce\" keyword argument to handle missing values properly.\n",
        "\n",
        "data[\"hs_directory\"][\"lat\"] = pd.to_numeric(data[\"hs_directory\"][\"lat\"], errors=\"coerce\")\n",
        "data[\"hs_directory\"][\"lon\"] = pd.to_numeric(data[\"hs_directory\"][\"lon\"], errors=\"coerce\")\n",
        "\n",
        "print(data['hs_directory']['lon'].head())"
      ],
      "execution_count": 0,
      "outputs": [
        {
          "output_type": "stream",
          "text": [
            "0   -73.961648\n",
            "1   -73.904475\n",
            "2   -73.916162\n",
            "3   -74.000807\n",
            "4   -73.806500\n",
            "Name: lon, dtype: float64\n"
          ],
          "name": "stdout"
        }
      ]
    },
    {
      "cell_type": "markdown",
      "metadata": {
        "id": "IraPnzIsHXZ7",
        "colab_type": "text"
      },
      "source": [
        "## Condensing Data\n",
        "\n",
        "Condensing the Class Size Data Set\n",
        "\n",
        "The first data set that we'll condense is `class_size`, which looks like this: "
      ]
    },
    {
      "cell_type": "code",
      "metadata": {
        "id": "jjUNKL38HXZ8",
        "colab_type": "code",
        "outputId": "ec5dc506-93cd-4f47-99bb-f99e28a4ca3a",
        "colab": {}
      },
      "source": [
        "print(data['class_size'].head())"
      ],
      "execution_count": 0,
      "outputs": [
        {
          "output_type": "stream",
          "text": [
            "   CSD BOROUGH SCHOOL CODE                SCHOOL NAME GRADE  PROGRAM TYPE  \\\n",
            "0    1       M        M015  P.S. 015 Roberto Clemente     0K       GEN ED   \n",
            "1    1       M        M015  P.S. 015 Roberto Clemente     0K          CTT   \n",
            "2    1       M        M015  P.S. 015 Roberto Clemente     01       GEN ED   \n",
            "3    1       M        M015  P.S. 015 Roberto Clemente     01          CTT   \n",
            "4    1       M        M015  P.S. 015 Roberto Clemente     02       GEN ED   \n",
            "\n",
            "  CORE SUBJECT (MS CORE and 9-12 ONLY) CORE COURSE (MS CORE and 9-12 ONLY)  \\\n",
            "0                                    -                                   -   \n",
            "1                                    -                                   -   \n",
            "2                                    -                                   -   \n",
            "3                                    -                                   -   \n",
            "4                                    -                                   -   \n",
            "\n",
            "  SERVICE CATEGORY(K-9* ONLY)  NUMBER OF STUDENTS / SEATS FILLED  \\\n",
            "0                           -                               19.0   \n",
            "1                           -                               21.0   \n",
            "2                           -                               17.0   \n",
            "3                           -                               17.0   \n",
            "4                           -                               15.0   \n",
            "\n",
            "   NUMBER OF SECTIONS  AVERAGE CLASS SIZE  SIZE OF SMALLEST CLASS  \\\n",
            "0                 1.0                19.0                    19.0   \n",
            "1                 1.0                21.0                    21.0   \n",
            "2                 1.0                17.0                    17.0   \n",
            "3                 1.0                17.0                    17.0   \n",
            "4                 1.0                15.0                    15.0   \n",
            "\n",
            "   SIZE OF LARGEST CLASS DATA SOURCE  SCHOOLWIDE PUPIL-TEACHER RATIO  \\\n",
            "0                   19.0         ATS                             NaN   \n",
            "1                   21.0         ATS                             NaN   \n",
            "2                   17.0         ATS                             NaN   \n",
            "3                   17.0         ATS                             NaN   \n",
            "4                   15.0         ATS                             NaN   \n",
            "\n",
            "  padded_csd     DBN  \n",
            "0         01  01M015  \n",
            "1         01  01M015  \n",
            "2         01  01M015  \n",
            "3         01  01M015  \n",
            "4         01  01M015  \n"
          ],
          "name": "stdout"
        }
      ]
    },
    {
      "cell_type": "code",
      "metadata": {
        "id": "Um_se_gfHXZ_",
        "colab_type": "code",
        "outputId": "4c2e5243-5dd9-435b-de40-817e4e69103a",
        "colab": {}
      },
      "source": [
        "# class_size.info()\n",
        "#class_size['GRADE'].unique()\n",
        "class_size['GRADE '].unique()"
      ],
      "execution_count": 0,
      "outputs": [
        {
          "output_type": "error",
          "ename": "NameError",
          "evalue": "name 'class_size' is not defined",
          "traceback": [
            "\u001b[0;31m---------------------------------------------------------------------------\u001b[0m",
            "\u001b[0;31mNameError\u001b[0m                                 Traceback (most recent call last)",
            "\u001b[0;32m<ipython-input-21-b4bbc850695d>\u001b[0m in \u001b[0;36m<module>\u001b[0;34m\u001b[0m\n\u001b[1;32m      1\u001b[0m \u001b[0;31m# class_size.info()\u001b[0m\u001b[0;34m\u001b[0m\u001b[0;34m\u001b[0m\u001b[0;34m\u001b[0m\u001b[0m\n\u001b[1;32m      2\u001b[0m \u001b[0;31m#class_size['GRADE'].unique()\u001b[0m\u001b[0;34m\u001b[0m\u001b[0;34m\u001b[0m\u001b[0;34m\u001b[0m\u001b[0m\n\u001b[0;32m----> 3\u001b[0;31m \u001b[0mclass_size\u001b[0m\u001b[0;34m[\u001b[0m\u001b[0;34m'GRADE '\u001b[0m\u001b[0;34m]\u001b[0m\u001b[0;34m.\u001b[0m\u001b[0munique\u001b[0m\u001b[0;34m(\u001b[0m\u001b[0;34m)\u001b[0m\u001b[0;34m\u001b[0m\u001b[0;34m\u001b[0m\u001b[0m\n\u001b[0m",
            "\u001b[0;31mNameError\u001b[0m: name 'class_size' is not defined"
          ]
        }
      ]
    },
    {
      "cell_type": "code",
      "metadata": {
        "id": "MP8p7jhmHXaB",
        "colab_type": "code",
        "colab": {}
      },
      "source": [
        "class_size['PROGRAM TYPE'].unique()"
      ],
      "execution_count": 0,
      "outputs": []
    },
    {
      "cell_type": "markdown",
      "metadata": {
        "id": "JegueDVkHXaC",
        "colab_type": "text"
      },
      "source": [
        "### Observations\n",
        "\n",
        "We can see that the first few rows all pertain to the same school, which is why the `DBN` appears more than once. Each school has multiple values for `GRADE`, `PROGRAM TYPE`, `CORE SUBJECT (MS CORE and 9-12 ONLY)`, and `CORE COURSE (MS CORE and 9-12 ONLY)`. \n",
        "\n",
        "We'll filter out data where `GRADE` is `09-12`, since that is high school. \n",
        "\n",
        "Each school can have multiple program types. We'll select the largest `PROGRAM TYPE` which is `GEN ED`.\n",
        "\n",
        " - df.name.unique()"
      ]
    },
    {
      "cell_type": "code",
      "metadata": {
        "id": "mslEdv3gHXaC",
        "colab_type": "code",
        "outputId": "631f8e7e-68e0-4062-c9b5-c37b25a6acb2",
        "colab": {
          "base_uri": "https://localhost:8080/",
          "height": 153
        }
      },
      "source": [
        "class_size = data[\"class_size\"]\n",
        "class_size = class_size[class_size[\"GRADE \"] == \"09-12\"]\n",
        "class_size = class_size[class_size[\"PROGRAM TYPE\"] == \"GEN ED\"]\n",
        "print(class_size.head())"
      ],
      "execution_count": 0,
      "outputs": [
        {
          "output_type": "stream",
          "text": [
            "     CSD BOROUGH SCHOOL CODE  ... SCHOOLWIDE PUPIL-TEACHER RATIO padded_csd     DBN\n",
            "225    1       M        M292  ...                            NaN         01  01M292\n",
            "226    1       M        M292  ...                            NaN         01  01M292\n",
            "227    1       M        M292  ...                            NaN         01  01M292\n",
            "228    1       M        M292  ...                            NaN         01  01M292\n",
            "229    1       M        M292  ...                            NaN         01  01M292\n",
            "\n",
            "[5 rows x 18 columns]\n"
          ],
          "name": "stdout"
        }
      ]
    },
    {
      "cell_type": "code",
      "metadata": {
        "id": "gqe29d41HXaE",
        "colab_type": "code",
        "outputId": "50c065f0-6237-484c-b297-95294a9d1a85",
        "colab": {}
      },
      "source": [
        "class_size['CORE SUBJECT (MS CORE and 9-12 ONLY)'].unique()"
      ],
      "execution_count": 0,
      "outputs": [
        {
          "output_type": "execute_result",
          "data": {
            "text/plain": [
              "array(['ENGLISH', 'MATH', 'SCIENCE', 'SOCIAL STUDIES'], dtype=object)"
            ]
          },
          "metadata": {
            "tags": []
          },
          "execution_count": 23
        }
      ]
    },
    {
      "cell_type": "markdown",
      "metadata": {
        "id": "_t8g73P_HXaF",
        "colab_type": "text"
      },
      "source": [
        "###  Condensing & Data Aggregation - `pd.DataFrame.groupby()`\n",
        "#### Computing Average Class Size\n",
        "\n",
        "This column only seems to include certain subjects. We want our class size data to include every single class a school offers -- not just a subset of them. What we can do is take the average across all of the classes a school offers. This will give us unique `DBN` values, while also incorporating as much data as possible into the average.\n",
        "\n",
        "Fortunately, we can use the `pandas.DataFrame.groupby()` method to help us with this. The `DataFrame.groupby()` method will split a dataframe up into unique groups, based on a given column. We can then use the `agg()` method on the resulting `pandas.core.groupby` object to find the mean of each column."
      ]
    },
    {
      "cell_type": "code",
      "metadata": {
        "id": "B27019V8HXaG",
        "colab_type": "code",
        "outputId": "2d7f324c-ecc9-4406-9d03-c40c29ac2793",
        "colab": {
          "base_uri": "https://localhost:8080/",
          "height": 153
        }
      },
      "source": [
        "# Find the average values for each column associated with each DBN in class_size\n",
        "\n",
        "# Use the pandas.DataFrame.groupby() method to group class_size by DBN\n",
        "# Use the agg() method on the resulting pandas.core.groupby object, \n",
        "# with the numpy.mean() function as an argument, to calculate the average of each group.\n",
        "class_size = class_size.groupby(\"DBN\").agg(np.mean)\n",
        "\n",
        "# Reset the index to make DBN a column again.\n",
        "# Use the pandas.DataFrame.reset_index() method, keyword argument inplace=True.\n",
        "class_size.reset_index(inplace=True)\n",
        "\n",
        "#Assign class_size back to the class_size key of the data dictionary\n",
        "data[\"class_size\"] = class_size\n",
        "print(data[\"class_size\"].head())"
      ],
      "execution_count": 0,
      "outputs": [
        {
          "output_type": "stream",
          "text": [
            "      DBN  CSD  ...  SIZE OF LARGEST CLASS  SCHOOLWIDE PUPIL-TEACHER RATIO\n",
            "0  01M292    1  ...              26.571429                             NaN\n",
            "1  01M332    1  ...              23.500000                             NaN\n",
            "2  01M378    1  ...              33.000000                             NaN\n",
            "3  01M448    1  ...              27.062500                             NaN\n",
            "4  01M450    1  ...              22.866667                             NaN\n",
            "\n",
            "[5 rows x 8 columns]\n"
          ],
          "name": "stdout"
        }
      ]
    },
    {
      "cell_type": "markdown",
      "metadata": {
        "id": "-3SAftsuHXaI",
        "colab_type": "text"
      },
      "source": [
        "### Condense `demographics`\n",
        "\n",
        "Now that we've finished condensing `class_size`, let's condense `demographics`. The first few rows look like this:"
      ]
    },
    {
      "cell_type": "code",
      "metadata": {
        "id": "nWzuc-DpHXaJ",
        "colab_type": "code",
        "outputId": "1c2bdfc5-a7eb-4db4-fb0a-463cacd5c31b",
        "colab": {
          "base_uri": "https://localhost:8080/",
          "height": 153
        }
      },
      "source": [
        "print(data['demographics'].head())"
      ],
      "execution_count": 0,
      "outputs": [
        {
          "output_type": "stream",
          "text": [
            "      DBN                       Name  ...  female_num female_per\n",
            "0  01M015  P.S. 015 ROBERTO CLEMENTE  ...       123.0       43.8\n",
            "1  01M015  P.S. 015 ROBERTO CLEMENTE  ...       103.0       42.4\n",
            "2  01M015  P.S. 015 ROBERTO CLEMENTE  ...       118.0       45.2\n",
            "3  01M015  P.S. 015 ROBERTO CLEMENTE  ...       103.0       40.9\n",
            "4  01M015  P.S. 015 ROBERTO CLEMENTE  ...        84.0       40.4\n",
            "\n",
            "[5 rows x 38 columns]\n"
          ],
          "name": "stdout"
        }
      ]
    },
    {
      "cell_type": "markdown",
      "metadata": {
        "id": "fF0zjJqNHXaK",
        "colab_type": "text"
      },
      "source": [
        "### Observations: \n",
        "\n",
        "In this case, the only column that prevents a given `DBN` from being unique is `schoolyear`. We only want to select rows where `schoolyear` is `20112012`. This will give us the most recent year of data, and also match our SAT results data."
      ]
    },
    {
      "cell_type": "code",
      "metadata": {
        "id": "cH12T7aEHXaK",
        "colab_type": "code",
        "outputId": "4d9f71e7-7ebc-48b7-8e35-c8672e20ce3b",
        "colab": {
          "base_uri": "https://localhost:8080/",
          "height": 153
        }
      },
      "source": [
        "data[\"demographics\"] = data[\"demographics\"][data[\"demographics\"][\"schoolyear\"] == 20112012]\n",
        "print(data[\"demographics\"].head())"
      ],
      "execution_count": 0,
      "outputs": [
        {
          "output_type": "stream",
          "text": [
            "       DBN  ... female_per\n",
            "6   01M015  ...       48.7\n",
            "13  01M019  ...       55.2\n",
            "20  01M020  ...       47.3\n",
            "27  01M034  ...       49.1\n",
            "35  01M063  ...       44.9\n",
            "\n",
            "[5 rows x 38 columns]\n"
          ],
          "name": "stdout"
        }
      ]
    },
    {
      "cell_type": "markdown",
      "metadata": {
        "id": "2ykyUpv7HXaL",
        "colab_type": "text"
      },
      "source": [
        "### Condense `graduation`\n",
        "\n",
        "Finally, we'll need to condense the `graduation` data set. Here are the first few rows:"
      ]
    },
    {
      "cell_type": "code",
      "metadata": {
        "id": "6-AAB6tfHXaM",
        "colab_type": "code",
        "outputId": "5c0a101e-145c-4a5c-abbd-bc969c6be158",
        "colab": {
          "base_uri": "https://localhost:8080/",
          "height": 153
        }
      },
      "source": [
        "print(data['graduation'].head())"
      ],
      "execution_count": 0,
      "outputs": [
        {
          "output_type": "stream",
          "text": [
            "    Demographic     DBN  ... Dropped Out - n Dropped Out - % of cohort\n",
            "0  Total Cohort  01M292  ...               s                         s\n",
            "1  Total Cohort  01M292  ...               3                      5.5%\n",
            "2  Total Cohort  01M292  ...               9                     14.1%\n",
            "3  Total Cohort  01M292  ...              11                     14.1%\n",
            "4  Total Cohort  01M292  ...              11                     14.1%\n",
            "\n",
            "[5 rows x 23 columns]\n"
          ],
          "name": "stdout"
        }
      ]
    },
    {
      "cell_type": "markdown",
      "metadata": {
        "id": "5fL7Od3VHXaO",
        "colab_type": "text"
      },
      "source": [
        "### Observations:\n",
        "\n",
        "The `Demographic` and `Cohort` columns are what prevent `DBN` from being unique in the graduation data. A `Cohort` refers to the year the data represents, and the `Demographic` refers to a specific demographic group. In this case, we want to pick data from the most recent `Cohort` available, which is `2006`. We also want data from the full cohort, so we'll only pick rows where `Demographic` is `Total Cohort`."
      ]
    },
    {
      "cell_type": "code",
      "metadata": {
        "id": "BOCx_3xqHXaP",
        "colab_type": "code",
        "outputId": "e0f84ab4-f6a6-4699-80c4-46d460ea2c0c",
        "colab": {
          "base_uri": "https://localhost:8080/",
          "height": 119
        }
      },
      "source": [
        "data[\"graduation\"] = data[\"graduation\"][data[\"graduation\"][\"Cohort\"] == \"2006\"]\n",
        "data[\"graduation\"] = data[\"graduation\"][data[\"graduation\"][\"Demographic\"] == \"Total Cohort\"]\n",
        "print(data[\"graduation\"][\"Total Cohort\"].head())"
      ],
      "execution_count": 0,
      "outputs": [
        {
          "output_type": "stream",
          "text": [
            "3      78\n",
            "10    124\n",
            "17     90\n",
            "24     84\n",
            "31    193\n",
            "Name: Total Cohort, dtype: int64\n"
          ],
          "name": "stdout"
        }
      ]
    },
    {
      "cell_type": "markdown",
      "metadata": {
        "id": "5osxicmoHXaQ",
        "colab_type": "text"
      },
      "source": [
        "### Converting AP Test Scores\n",
        "\n",
        "We're almost ready to combine all of the data sets. The only remaining thing to do is convert the Advanced Placement (`AP`) test scores from strings to numeric values.\n",
        "\n",
        "It's of interest to find out whether AP exam scores are correlated with SAT scores across high schools. To determine this, we'll need to convert the AP exam scores in the `ap_2010` data set to numeric values first.\n",
        "\n",
        "There are three columns we'll need to convert:\n",
        "\n",
        " - `AP Test Takers ` (note that there's a trailing space in the column name)\n",
        " - `Total Exams Taken`\n",
        " - `Number of Exams with scores 3 4 or 5`\n",
        " \n",
        "#### Steps: \n",
        " - Convert each of the following columns in `ap_2010` to numeric values using the `pandas.to_numeric()` function with the keyword argument `errors=\"coerce\"`.\n",
        "   - `AP Test Takers `\n",
        "   - `Total Exams Taken`\n",
        "   - `Number of Exams with scores 3 4 or 5`\n",
        "- Display the column types using the `dtypes` attribute."
      ]
    },
    {
      "cell_type": "code",
      "metadata": {
        "id": "QWc8g5PHHXaR",
        "colab_type": "code",
        "outputId": "a02b29ca-39e6-430d-9f86-1412d250a2b8",
        "colab": {
          "base_uri": "https://localhost:8080/",
          "height": 119
        }
      },
      "source": [
        "data[\"ap_2010\"][\"AP Test Takers \"] = pd.to_numeric(data[\"ap_2010\"]\n",
        "                                                   [\"AP Test Takers \"], \n",
        "                                                   errors=\"coerce\")\n",
        "data[\"ap_2010\"][\"Total Exams Taken\"] = pd.to_numeric(data[\"ap_2010\"]\n",
        "                                                     [\"Total Exams Taken\"], \n",
        "                                                     errors=\"coerce\")\n",
        "data[\"ap_2010\"][\"Number of Exams with scores 3 4 or 5\"] = pd.to_numeric(data[\"ap_2010\"]\n",
        "                                                                        [\"Number of Exams with scores 3 4 or 5\"], \n",
        "                                                                        errors=\"coerce\")\n",
        "print(data[\"ap_2010\"].dtypes)"
      ],
      "execution_count": 0,
      "outputs": [
        {
          "output_type": "stream",
          "text": [
            "DBN                                      object\n",
            "SchoolName                               object\n",
            "AP Test Takers                          float64\n",
            "Total Exams Taken                       float64\n",
            "Number of Exams with scores 3 4 or 5    float64\n",
            "dtype: object\n"
          ],
          "name": "stdout"
        }
      ]
    },
    {
      "cell_type": "markdown",
      "metadata": {
        "id": "MpbXeKgWHXaS",
        "colab_type": "text"
      },
      "source": [
        "## Merging Data -  Left, Right, Inner, and Outer Joins\n",
        "\n",
        "Before we merge our data, we'll need to decide on the merge strategy we want to use. We'll be using the `pandas.DataFrame.merge()` function, which supports four types of joins -- `left`, `right`, `inner`, and `outer`. Each of these join types dictates how pandas combines the rows.\n",
        "\n",
        "We'll be using the `DBN` column to identify matching rows across data sets. In other words, the values in that column will help us know which row from the first data set to combine with which row in the second data set.\n",
        "\n",
        "There may be `DBN` values that exist in one data set but not in another. This is partly because the data is from different years. Each data set also has inconsistencies in terms of how it was gathered. Human error (and other types of errors) may also play a role. Therefore, we may not find matches for the `DBN` values in `sat_results` in all of the other data sets, and other data sets may have `DBN` values that don't exist in `sat_results`.\n",
        "\n",
        "We'll merge two data sets at a time. For example, we'll merge `sat_results` and `hs_directory`, then merge the result with `ap_2010`, then merge the result of that with `class_size`. We'll continue combining data sets in this way until we've merged all of them. Afterwards, we'll have roughly the same number of rows, but each row will have columns from all of the data sets.\n",
        "\n",
        "The merge strategy we pick will affect the number of rows we end up with.\n",
        "\n",
        "Because this project is concerned with determing demographic factors that correlate with SAT score, we'll want to preserve as many rows as possible from `sat_results` while minimizing null values.\n",
        "\n",
        "This means that we may need to use different merge strategies with different data sets. Some of the data sets have a lot of missing `DBN` values. This makes a left join more appropriate, because we don't want to lose too many rows when we merge. If we did an inner join, we would lose the data for many high schools.\n",
        "\n",
        "Some data sets have `DBN` values that are almost identical to those in `sat_results`. Those data sets also have information we need to keep. Most of our analysis would be impossible if a significant number of rows was missing from demographics, for example. Therefore, we'll do an inner join to avoid missing data in these columns."
      ]
    },
    {
      "cell_type": "code",
      "metadata": {
        "id": "hCm1JYxBHXaS",
        "colab_type": "code",
        "outputId": "23176b80-7e3b-4609-c6b8-0821608d514b",
        "colab": {
          "base_uri": "https://localhost:8080/",
          "height": 170
        }
      },
      "source": [
        "combined = data[\"sat_results\"]\n",
        "combined = combined.merge(data[\"ap_2010\"], on=\"DBN\", how=\"left\")\n",
        "combined = combined.merge(data[\"graduation\"], on=\"DBN\", how=\"left\")\n",
        "print(combined.head(5))\n",
        "print(combined.shape)"
      ],
      "execution_count": 0,
      "outputs": [
        {
          "output_type": "stream",
          "text": [
            "      DBN  ... Dropped Out - % of cohort\n",
            "0  01M292  ...                     14.1%\n",
            "1  01M448  ...       16.100000000000001%\n",
            "2  01M450  ...                      5.6%\n",
            "3  01M458  ...                       NaN\n",
            "4  01M509  ...                        6%\n",
            "\n",
            "[5 rows x 33 columns]\n",
            "(479, 33)\n"
          ],
          "name": "stdout"
        }
      ]
    },
    {
      "cell_type": "markdown",
      "metadata": {
        "id": "KWz-2Ym-HXaT",
        "colab_type": "text"
      },
      "source": [
        "### Inner Joins \n",
        "\n",
        "Now that we've performed the left joins, we still have to merge `class_size`, `demographics`, `survey`, and `hs_directory` into `combined`. Because these files contain information that's more valuable to our analysis and also have fewer missing `DBN` values, we'll use the inner join type."
      ]
    },
    {
      "cell_type": "code",
      "metadata": {
        "id": "Z9q8_yCQHXaU",
        "colab_type": "code",
        "outputId": "e4d2a5c7-3656-4779-b650-067578875334",
        "colab": {
          "base_uri": "https://localhost:8080/",
          "height": 170
        }
      },
      "source": [
        "to_merge = [\"class_size\", \"demographics\", \"survey\", \"hs_directory\"]\n",
        "\n",
        "for m in to_merge:\n",
        "    combined = combined.merge(data[m], on=\"DBN\", how=\"inner\")\n",
        "\n",
        "print(combined.head(5))\n",
        "print(combined.shape)"
      ],
      "execution_count": 0,
      "outputs": [
        {
          "output_type": "stream",
          "text": [
            "      DBN  ...        lon\n",
            "0  01M292  ... -73.985260\n",
            "1  01M448  ... -73.984797\n",
            "2  01M450  ... -73.983041\n",
            "3  01M509  ... -73.985673\n",
            "4  01M539  ... -73.979426\n",
            "\n",
            "[5 rows x 159 columns]\n",
            "(363, 159)\n"
          ],
          "name": "stdout"
        }
      ]
    },
    {
      "cell_type": "markdown",
      "metadata": {
        "id": "q2T-oHSwHXaV",
        "colab_type": "text"
      },
      "source": [
        "### Observations:\n",
        "\n",
        "We noticed that the inner joins resulted in 116 fewer rows in `sat_results`. This is because pandas couldn't find the `DBN` values that existed in `sat_results` in the other data sets. While this is worth investigating, we're currently looking for high-level correlations, so we don't need to dive into which `DBN`s are missing.\n",
        "\n",
        "You may also have noticed that we now have many columns with `NaN` values. This is because we chose to do left joins, where some columns may not have had data. The data set also had some missing values to begin with. If we hadn't performed a left join, all of the rows with missing data would have been lost in the merge process, which wouldn't have left us with many high schools in our data set.\n",
        "\n",
        "There are several ways to handle missing data, and we'll cover them in more detail later on. For now, we'll just fill in the missing values with the overall `mean` for the column.\n",
        "\n",
        "We can fill in missing data in pandas using the `pandas.DataFrame.fillna()` method. This method will replace any missing values in a dataframe with the values we specify. We can compute the mean of every column using the `pandas.DataFrame.mean()` method. If we pass the results of the `df.mean()` method into the `df.fillna()` method, pandas will fill in the missing values in each column with the mean of that column.\n",
        "\n",
        "Example: \n",
        "`means = df.mean()`\n",
        "`df = df.fillna(means)`\n",
        "\n",
        "Note that if a column consists entirely of `NaN` values, pandas won't be able to fill in the missing values when we use the `df.fillna()` method along with the `df.mean()` method, because there won't be a mean.\n",
        "\n",
        "We should fill any `NaN` values that remain after the initial replacement with the value `0`. We can do this by passing `0` into the `df.fillna()` method.\n"
      ]
    },
    {
      "cell_type": "markdown",
      "metadata": {
        "id": "1HWM4LyIHXaV",
        "colab_type": "text"
      },
      "source": [
        " ## Filling in Missing Values\n",
        " \n",
        " Steps: \n",
        " \n",
        " - Calculate the means of all of the columns in combined using the `pd.DataFrame.mean()` method.\n",
        " - Fill in any missing values in combined with the means of the respective columns using the `pd.DataFrame.fillna()` method.\n",
        " - Fill in any remaining missing values in combined with `0` using the `df.fillna()` method.\n",
        " - Display the first few rows of combined to verify that the correct operations occurred."
      ]
    },
    {
      "cell_type": "code",
      "metadata": {
        "id": "M2QhDOrGHXaV",
        "colab_type": "code",
        "outputId": "6cf31bd2-8b6a-42b2-8bc4-f276d53e9541",
        "colab": {
          "base_uri": "https://localhost:8080/",
          "height": 153
        }
      },
      "source": [
        "combined = combined.fillna(combined.mean())\n",
        "combined = combined.fillna(0)\n",
        "\n",
        "print(combined.head(5))"
      ],
      "execution_count": 0,
      "outputs": [
        {
          "output_type": "stream",
          "text": [
            "      DBN  ...        lon\n",
            "0  01M292  ... -73.985260\n",
            "1  01M448  ... -73.984797\n",
            "2  01M450  ... -73.983041\n",
            "3  01M509  ... -73.985673\n",
            "4  01M539  ... -73.979426\n",
            "\n",
            "[5 rows x 159 columns]\n"
          ],
          "name": "stdout"
        }
      ]
    },
    {
      "cell_type": "markdown",
      "metadata": {
        "id": "Pxi0GvtHHXaX",
        "colab_type": "text"
      },
      "source": [
        "## Next Steps\n",
        "\n",
        "We now have a clean data set on which we can base our analysis. Mapping the statistics out on a school district level might be an interesting way to analyze them. Adding a column to the data set that specifies the school district will help us accomplish this.\n",
        "\n",
        "### Add a school district column for mapping\n",
        "\n",
        "The school district is just the first two characters of the `DBN`. We can apply a function over the `DBN` column of combined that pulls out the first two letters."
      ]
    },
    {
      "cell_type": "code",
      "metadata": {
        "id": "CnrmjewcHXaX",
        "colab_type": "code",
        "outputId": "27e5b30f-d431-476e-bc6a-6c9c083ea153",
        "colab": {
          "base_uri": "https://localhost:8080/",
          "height": 119
        }
      },
      "source": [
        "def get_first_two_chars(dbn):\n",
        "    return dbn[0:2]\n",
        "\n",
        "combined[\"school_dist\"] = combined[\"DBN\"].apply(get_first_two_chars)\n",
        "print(combined[\"school_dist\"].head())"
      ],
      "execution_count": 0,
      "outputs": [
        {
          "output_type": "stream",
          "text": [
            "0    01\n",
            "1    01\n",
            "2    01\n",
            "3    01\n",
            "4    01\n",
            "Name: school_dist, dtype: object\n"
          ],
          "name": "stdout"
        }
      ]
    },
    {
      "cell_type": "markdown",
      "metadata": {
        "id": "zvKdr7YCHXaY",
        "colab_type": "text"
      },
      "source": [
        "## Finding Correlation with the r values\n",
        "\n",
        "The first thing we'll do is find any correlations between any of the columns and `sat_score`. This will help us determine which columns might be interesting to plot out or investigate further. Afterwards, we'll perform more analysis and make maps using the columns we've identified."
      ]
    },
    {
      "cell_type": "code",
      "metadata": {
        "id": "ASxw8tFlHXaY",
        "colab_type": "code",
        "outputId": "2f4b7981-1cdb-4dfe-90c3-65b22d668982",
        "colab": {
          "base_uri": "https://localhost:8080/",
          "height": 221
        }
      },
      "source": [
        "# Use the pandas.DataFrame.corr() method on the \n",
        "# combined dataframe to find all possible correlations\n",
        "correlations = combined.corr()\n",
        "\n",
        "# Filter for sat_score\n",
        "correlations = correlations[\"sat_score\"]\n",
        "print(correlations)"
      ],
      "execution_count": 0,
      "outputs": [
        {
          "output_type": "stream",
          "text": [
            "SAT Critical Reading Avg. Score    0.986820\n",
            "SAT Math Avg. Score                0.972643\n",
            "SAT Writing Avg. Score             0.987771\n",
            "sat_score                          1.000000\n",
            "AP Test Takers                     0.523140\n",
            "                                     ...   \n",
            "priority08                              NaN\n",
            "priority09                              NaN\n",
            "priority10                              NaN\n",
            "lat                               -0.121029\n",
            "lon                               -0.132222\n",
            "Name: sat_score, Length: 67, dtype: float64\n"
          ],
          "name": "stdout"
        }
      ]
    },
    {
      "cell_type": "markdown",
      "metadata": {
        "id": "0hV39YMzHXab",
        "colab_type": "text"
      },
      "source": [
        "### Observations:\n",
        "\n",
        "Unsurprisingly, `SAT Critical Reading Avg. Score`, `SAT Math Avg. Score`, `SAT Writing Avg. Score`, and `sat_score` are strongly correlated with `sat_score`. \n",
        "\n",
        " - `total_enrollment` has a strong positive correlation with `sat_score`. \n",
        "   - This is surprising because we'd expect smaller schools where students receive more attention to have higher scores. However, it looks like the opposite is true -- larger schools tend to do better on the SAT.\n",
        "\n",
        "- Other columns that are proxies for enrollment correlate similarly. \n",
        "  - These include `total_students`, `N_s`, `N_p`, `N_t`, `AP Test Takers`, `Total Exams Taken`, and `NUMBER OF SECTIONS`.\n",
        "\n",
        "\n",
        "- Both the percentage of females (`female_per`) and number of females (`female_num`) at a school correlate positively with SAT score, whereas the percentage of males (`male_per`) and the number of males (`male_num`) correlate negatively. \n",
        "  - This could indicate that women do better on the SAT than men.\n",
        "\n",
        "\n",
        " - Teacher and student ratings of school safety (`saf_t_11`, and `saf_s_11`) correlate with `sat_score`.\n",
        " \n",
        " \n",
        " - Student ratings of school academic standards (`aca_s_11`) correlate with `sat_score`, but this does not hold for ratings from teachers and parents (`aca_p_11` and `aca_t_11`).\n",
        "\n",
        "\n",
        " - There is significant racial inequality in SAT scores (`white_per`, `asian_per`, `black_per`, `hispanic_per`).\n",
        "\n",
        "\n",
        " - The percentage of English language learners at the school (`ell_percent`, `frl_percent`) has a strong negative correlation with SAT scores.\n",
        "\n",
        "\n",
        " - Because enrollment seems to have such a strong correlation, let's make a scatterplot of `total_enrollment` vs `sat_score`. Each point in the scatterplot will represent a high school, so we'll be able to see if there are any interesting patterns.\n",
        "\n",
        "We can plot columns in a dataframe using the `pandas.DataFrame.plot()` accessor on a dataframe. We can also specify a certain plot type. For example, `df.plot.scatter(x=\"A\", y=\"b\")` will create a scatterplot of columns `A` and `B`."
      ]
    },
    {
      "cell_type": "code",
      "metadata": {
        "id": "w6U_m2RkHXab",
        "colab_type": "code",
        "outputId": "c4e10180-525c-407b-a589-aa5ed47d5ccd",
        "colab": {
          "base_uri": "https://localhost:8080/",
          "height": 297
        }
      },
      "source": [
        "# scatterplot of total_enrollment versus sat_score.\n",
        "\n",
        "combined.plot.scatter(x=\"total_enrollment\", y=\"sat_score\")"
      ],
      "execution_count": 0,
      "outputs": [
        {
          "output_type": "execute_result",
          "data": {
            "text/plain": [
              "<matplotlib.axes._subplots.AxesSubplot at 0x7feddc4055c0>"
            ]
          },
          "metadata": {
            "tags": []
          },
          "execution_count": 34
        },
        {
          "output_type": "display_data",
          "data": {
            "image/png": "[encoded data removed]",
            "text/plain": [
              "<Figure size 432x288 with 1 Axes>"
            ]
          },
          "metadata": {
            "tags": []
          }
        }
      ]
    },
    {
      "cell_type": "markdown",
      "metadata": {
        "id": "Fs4yKTQ-HXad",
        "colab_type": "text"
      },
      "source": [
        "### Observations: \n",
        "\n",
        "Judging from the plot we just created, it doesn't appear that there's an extremely strong correlation between `sat_score` and `total_enrollment`. If there was a very strong correlation, we'd expect all of the points to line up. Instead, there's a large cluster of schools, and then a few others going off in three different directions.\n",
        "\n",
        "However, there's an interesting cluster of points at the bottom left where `total_enrollment` and `sat_score` are both low. This cluster may be what's making the `r value` so high. It's worth extracting the names of the schools in this cluster so we can research them further.\n",
        "\n",
        "Steps:\n",
        "\n",
        " - Filter the combined dataframe to keep only those rows where total_enrollment is under 1000 and sat_score is under 1000. Assign the result to low_enrollment.\n",
        " - Display all of the items in the School Name column of low_enrollment."
      ]
    },
    {
      "cell_type": "code",
      "metadata": {
        "id": "ooFbEvzzHXad",
        "colab_type": "code",
        "outputId": "de0ac3dd-2107-47d4-deb6-276d45f96bad",
        "colab": {
          "base_uri": "https://localhost:8080/",
          "height": 238
        }
      },
      "source": [
        "low_enrollment = combined[combined[\"total_enrollment\"] < 1000]\n",
        "low_enrollment = low_enrollment[low_enrollment[\"sat_score\"] < 1000]\n",
        "print(low_enrollment[\"School Name\"])"
      ],
      "execution_count": 0,
      "outputs": [
        {
          "output_type": "stream",
          "text": [
            "91       INTERNATIONAL COMMUNITY HIGH SCHOOL\n",
            "125                                        0\n",
            "126          BRONX INTERNATIONAL HIGH SCHOOL\n",
            "139    KINGSBRIDGE INTERNATIONAL HIGH SCHOOL\n",
            "141    INTERNATIONAL SCHOOL FOR LIBERAL ARTS\n",
            "176                                        0\n",
            "179            HIGH SCHOOL OF WORLD CULTURES\n",
            "188       BROOKLYN INTERNATIONAL HIGH SCHOOL\n",
            "225    INTERNATIONAL HIGH SCHOOL AT PROSPECT\n",
            "237               IT TAKES A VILLAGE ACADEMY\n",
            "253                MULTICULTURAL HIGH SCHOOL\n",
            "286    PAN AMERICAN INTERNATIONAL HIGH SCHOO\n",
            "Name: School Name, dtype: object\n"
          ],
          "name": "stdout"
        }
      ]
    },
    {
      "cell_type": "markdown",
      "metadata": {
        "id": "pQMMJZGMHXae",
        "colab_type": "text"
      },
      "source": [
        "### Plotting Language Learning \n",
        "\n",
        "We discovered that most of the high schools with low total enrollment and low SAT scores have high percentages of English language learners. This indicates that it's actually `ell_percent` that correlates strongly with `sat_score`, rather than `total_enrollment`. To explore this relationship further, let's plot out `ell_percent` vs `sat_score` with a scatter plot."
      ]
    },
    {
      "cell_type": "code",
      "metadata": {
        "id": "0sHjzbVUHXaf",
        "colab_type": "code",
        "outputId": "0c210327-e709-47e2-c2da-eeef1dbb7070",
        "colab": {
          "base_uri": "https://localhost:8080/",
          "height": 280
        }
      },
      "source": [
        "combined.plot.scatter(x='ell_percent', y='sat_score')\n",
        "plt.show()"
      ],
      "execution_count": 0,
      "outputs": [
        {
          "output_type": "display_data",
          "data": {
            "image/png": "[encoded data removed]",
            "text/plain": [
              "<Figure size 432x288 with 1 Axes>"
            ]
          },
          "metadata": {
            "tags": []
          }
        }
      ]
    },
    {
      "cell_type": "markdown",
      "metadata": {
        "id": "Q_cO9T03HXag",
        "colab_type": "text"
      },
      "source": [
        "### Observations:\n",
        "\n",
        "It looks like `ell_percent` correlates with `sat_score` more strongly, because the scatterplot is more linear. However, there's still the cluster of schools that have very high `ell_percent` values and low `sat_score` values. This cluster represents the same group of international high schools we investigated earlier.\n",
        "\n",
        "In order to explore this relationship, we'll want to map out `ell_percent` by school district. The map will show us which areas of the city have a lot of English language learners.\n",
        "\n"
      ]
    },
    {
      "cell_type": "code",
      "metadata": {
        "id": "TweMnKm4LqFm",
        "colab_type": "code",
        "colab": {}
      },
      "source": [
        "import mpl_toolkits.basemap as Basemap"
      ],
      "execution_count": 0,
      "outputs": []
    },
    {
      "cell_type": "code",
      "metadata": {
        "id": "aDVBJl0fHXah",
        "colab_type": "code",
        "outputId": "52e0f8f0-8dd8-431d-c42e-8a977c7f46c5",
        "colab": {
          "base_uri": "https://localhost:8080/",
          "height": 252
        }
      },
      "source": [
        "\n",
        "m = Basemap(\n",
        "    projection='merc', \n",
        "    llcrnrlat=40.496044, # latitude of lower left corner\n",
        "    urcrnrlat=40.915256, # lat of upper right corner\n",
        "    llcrnrlon=-74.255735, # lon ll corner\n",
        "    urcrnrlon=-73.700272, # lon upper right corner\n",
        "    resolution='i'\n",
        ")\n",
        "m.fillcontinents(color='white',lake_color='#85A6D9')\n",
        "m.drawmapboundary(fill_color='#85A6D9')\n",
        "m.drawcoastlines(color='#6D5F47', linewidth=.4)\n",
        "m.drawrivers(color='#6D5F47', linewidth=.4)\n",
        "m.scatter(longitudes, latitudes, s=20, zorder=2, latlon=True, c=combined[\"ell_percent\"], cmap=\"summer\")\n",
        "plt.show()"
      ],
      "execution_count": 0,
      "outputs": [
        {
          "output_type": "display_data",
          "data": {
            "image/png": "[encoded data removed]",
            "text/plain": [
              "<Figure size 432x288 with 1 Axes>"
            ]
          },
          "metadata": {
            "tags": []
          }
        }
      ]
    },
    {
      "cell_type": "markdown",
      "metadata": {
        "id": "iJYRrno8HXai",
        "colab_type": "text"
      },
      "source": [
        "![title](https://github.com/orspain/Dataquest/blob/master/2.6%20Data%20Cleaning%20Project%20Walkthrough/map_schools.png?raw=1)"
      ]
    },
    {
      "cell_type": "markdown",
      "metadata": {
        "id": "RsAAGwWZHXai",
        "colab_type": "text"
      },
      "source": [
        "### Plotting out Statistics"
      ]
    },
    {
      "cell_type": "code",
      "metadata": {
        "id": "XHVU4UBCHXai",
        "colab_type": "code",
        "outputId": "24f36a3c-2209-4ad0-c90b-0b03c911d0bf",
        "colab": {
          "base_uri": "https://localhost:8080/",
          "height": 252
        }
      },
      "source": [
        "\n",
        "\n",
        "from mpl_toolkits.basemap import Basemap\n",
        "\n",
        "m = Basemap(\n",
        "    projection='merc', \n",
        "    llcrnrlat=40.496044, \n",
        "    urcrnrlat=40.915256, \n",
        "    llcrnrlon=-74.255735, \n",
        "    urcrnrlon=-73.700272,\n",
        "    resolution='i'\n",
        ")\n",
        "\n",
        "m.drawmapboundary(fill_color='#85A6D9')\n",
        "m.drawcoastlines(color='#6D5F47', linewidth=.4)\n",
        "m.drawrivers(color='#6D5F47', linewidth=.4)\n",
        "m.fillcontinents(color='white',lake_color='#85A6D9')\n",
        "longitudes = combined[\"lon\"].tolist()\n",
        "latitudes = combined[\"lat\"].tolist()\n",
        "m.scatter(longitudes, latitudes, s=20, zorder=2, latlon=True, c=combined[\"ell_percent\"], cmap=\"summer\")\n",
        "plt.show()\n"
      ],
      "execution_count": 0,
      "outputs": [
        {
          "output_type": "display_data",
          "data": {
            "image/png": "[encoded data removed]",
            "text/plain": [
              "<Figure size 432x288 with 1 Axes>"
            ]
          },
          "metadata": {
            "tags": []
          }
        }
      ]
    },
    {
      "cell_type": "code",
      "metadata": {
        "id": "imZDKCsXHXak",
        "colab_type": "code",
        "outputId": "8da4022b-c642-410c-d422-f25ef18817c8",
        "colab": {}
      },
      "source": [
        "from IPython.display import Image\n",
        "Image(\"stats.png\")"
      ],
      "execution_count": 0,
      "outputs": [
        {
          "output_type": "execute_result",
          "data": {
            "image/png": "[encoded data removed]",
            "text/plain": [
              "<IPython.core.display.Image object>"
            ]
          },
          "metadata": {
            "tags": []
          },
          "execution_count": 40
        }
      ]
    },
    {
      "cell_type": "code",
      "metadata": {
        "id": "wzO-tAoYHXal",
        "colab_type": "code",
        "outputId": "7dc1abec-df52-47d1-ba2f-4806d395be30",
        "colab": {
          "base_uri": "https://localhost:8080/",
          "height": 153
        }
      },
      "source": [
        "districts = combined.groupby(\"school_dist\").agg(np.mean)\n",
        "districts.reset_index(inplace=True)\n",
        "print(districts.head())"
      ],
      "execution_count": 0,
      "outputs": [
        {
          "output_type": "stream",
          "text": [
            "  school_dist  SAT Critical Reading Avg. Score  ...        lat        lon\n",
            "0          01                       441.833333  ...  40.719022 -73.982377\n",
            "1          02                       426.619092  ...  40.739699 -73.991386\n",
            "2          03                       428.529851  ...  40.781574 -73.977370\n",
            "3          04                       402.142857  ...  40.793449 -73.943215\n",
            "4          05                       427.159915  ...  40.817077 -73.949251\n",
            "\n",
            "[5 rows x 68 columns]\n"
          ],
          "name": "stdout"
        }
      ]
    },
    {
      "cell_type": "markdown",
      "metadata": {
        "id": "JNOYvdp5HXan",
        "colab_type": "text"
      },
      "source": [
        "### Plotting Percent Of English Learners by District"
      ]
    },
    {
      "cell_type": "code",
      "metadata": {
        "id": "rua8ubzUHXan",
        "colab_type": "code",
        "outputId": "e0074073-87fc-41ca-ed7f-f24696534b01",
        "colab": {
          "base_uri": "https://localhost:8080/",
          "height": 252
        }
      },
      "source": [
        "\n",
        "\n",
        "from mpl_toolkits.basemap import Basemap\n",
        "\n",
        "m = Basemap(\n",
        "    projection='merc', \n",
        "    llcrnrlat=40.496044, \n",
        "    urcrnrlat=40.915256, \n",
        "    llcrnrlon=-74.255735, \n",
        "    urcrnrlon=-73.700272,\n",
        "    resolution='i'\n",
        ")\n",
        "\n",
        "m.drawmapboundary(fill_color='#85A6D9')\n",
        "m.drawcoastlines(color='#6D5F47', linewidth=.4)\n",
        "m.drawrivers(color='#6D5F47', linewidth=.4)\n",
        "m.fillcontinents(color='white',lake_color='#85A6D9')\n",
        "longitudes = districts[\"lon\"].tolist()\n",
        "latitudes = districts[\"lat\"].tolist()\n",
        "m.scatter(longitudes, latitudes, s=50, zorder=2, latlon=True, c=districts[\"ell_percent\"], cmap=\"summer\")\n",
        "plt.show()\n"
      ],
      "execution_count": 0,
      "outputs": [
        {
          "output_type": "display_data",
          "data": {
            "image/png": "[encoded data removed]",
            "text/plain": [
              "<Figure size 432x288 with 1 Axes>"
            ]
          },
          "metadata": {
            "tags": []
          }
        }
      ]
    },
    {
      "cell_type": "code",
      "metadata": {
        "id": "Vaee7OpPHXao",
        "colab_type": "code",
        "outputId": "19d2872b-085d-4634-d4dc-c608075d6f35",
        "colab": {}
      },
      "source": [
        "from IPython.display import Image\n",
        "Image(\"ell.png\")"
      ],
      "execution_count": 0,
      "outputs": [
        {
          "output_type": "execute_result",
          "data": {
            "image/png": "[encoded data removed]",
            "text/plain": [
              "<IPython.core.display.Image object>"
            ]
          },
          "metadata": {
            "tags": []
          },
          "execution_count": 44
        }
      ]
    },
    {
      "cell_type": "markdown",
      "metadata": {
        "id": "8hu-6QmsHXas",
        "colab_type": "text"
      },
      "source": [
        "### Plotting Survey Correlations\n",
        "\n",
        "There are several fields in `combined` that originally came from a survey of `parents`, `teachers`, and `students`. We'll create a bar plot of the correlations between these fields and `sat_score`."
      ]
    },
    {
      "cell_type": "code",
      "metadata": {
        "id": "DWm0a4sbHXas",
        "colab_type": "code",
        "colab": {}
      },
      "source": [
        "# Remove DBN since it's a unique identifier, not a useful numerical value for correlation.\n",
        "relevant_columns.remove(\"DBN\")"
      ],
      "execution_count": 0,
      "outputs": []
    },
    {
      "cell_type": "code",
      "metadata": {
        "id": "9vmYrRv4HXat",
        "colab_type": "code",
        "outputId": "b0a528ca-37c0-43de-c026-f487b1762dcd",
        "colab": {
          "base_uri": "https://localhost:8080/",
          "height": 330
        }
      },
      "source": [
        "combined.corr()[\"sat_score\"][relevant_columns].plot.bar()"
      ],
      "execution_count": 0,
      "outputs": [
        {
          "output_type": "execute_result",
          "data": {
            "text/plain": [
              "<matplotlib.axes._subplots.AxesSubplot at 0x7feddc420940>"
            ]
          },
          "metadata": {
            "tags": []
          },
          "execution_count": 46
        },
        {
          "output_type": "display_data",
          "data": {
            "image/png": "[encoded data removed]",
            "text/plain": [
              "<Figure size 432x288 with 1 Axes>"
            ]
          },
          "metadata": {
            "tags": []
          }
        }
      ]
    },
    {
      "cell_type": "markdown",
      "metadata": {
        "id": "Yi1cfqdMHXav",
        "colab_type": "text"
      },
      "source": [
        "### Findings:\n",
        "\n",
        " - There are high correlations between `N_s`, `N_t`, `N_p` and `sat_score`. Since these columns are correlated with `total_enrollment`, it makes sense that they would be high.\n",
        "\n",
        "- It is more interesting that `rr_s`, the student response rate, or the percentage of students that completed the survey, correlates with `sat_score`. This might make sense because students who are more likely to fill out surveys may be more likely to also be doing well academically.\n",
        "\n",
        "How students and teachers percieved safety (`saf_t_11` and `saf_s_11`) correlate with `sat_score`. This make sense, as it's hard to teach or learn in an unsafe environment.\n",
        "\n",
        "The last interesting correlation is the `aca_s_11`, which indicates how the student perceives academic standards, correlates with `sat_score`, but this is not true for `aca_t_11`, how teachers perceive academic standards, or `aca_p_11`, how parents perceive academic standards."
      ]
    },
    {
      "cell_type": "markdown",
      "metadata": {
        "id": "GPva9GiPHXaw",
        "colab_type": "text"
      },
      "source": [
        "### Next Steps: Investigate safety scores.\n",
        "\n",
        "We'll create a scatter plot of the `saf_s_11` column vs. the `sat_score` in `combined`."
      ]
    },
    {
      "cell_type": "code",
      "metadata": {
        "id": "ypX2SA4qHXaw",
        "colab_type": "code",
        "outputId": "bbc1ddd8-0df5-48ac-f1e7-12af8eefc29c",
        "colab": {
          "base_uri": "https://localhost:8080/",
          "height": 297
        }
      },
      "source": [
        "combined.plot.scatter(\"saf_s_11\", \"sat_score\")"
      ],
      "execution_count": 0,
      "outputs": [
        {
          "output_type": "execute_result",
          "data": {
            "text/plain": [
              "<matplotlib.axes._subplots.AxesSubplot at 0x7feddc3dfbe0>"
            ]
          },
          "metadata": {
            "tags": []
          },
          "execution_count": 47
        },
        {
          "output_type": "display_data",
          "data": {
            "image/png": "[encoded data removed]",
            "text/plain": [
              "<Figure size 432x288 with 1 Axes>"
            ]
          },
          "metadata": {
            "tags": []
          }
        }
      ]
    },
    {
      "cell_type": "markdown",
      "metadata": {
        "id": "qzR5saR7HXax",
        "colab_type": "text"
      },
      "source": [
        "### Findings\n",
        "\n",
        "There appears to be a correlation between SAT scores and safety, although it isn't that strong. It looks like there are a few schools with extremely high SAT scores and high safety scores. There are a few schools with low safety scores and low SAT scores. No school with a safety score lower than 6.5 has an average SAT score higher than aroun 1500.\n",
        "\n",
        "Map out safety scores.\n",
        "Compute the average safety score for each district.\n",
        "Make a map that shows safety scores by district.\n",
        "Write up your conclusions about safety by geographic area in a Markdown cell. "
      ]
    },
    {
      "cell_type": "code",
      "metadata": {
        "id": "-m94aM0OHXax",
        "colab_type": "code",
        "outputId": "62519872-3e17-4b72-ba36-05a75bc7ea90",
        "colab": {
          "base_uri": "https://localhost:8080/",
          "height": 252
        }
      },
      "source": [
        "\n",
        "\n",
        "districts = combined.groupby(\"school_dist\").agg(np.mean)\n",
        "districts.reset_index(inplace=True)\n",
        "\n",
        "m = Basemap(\n",
        "    projection='merc', \n",
        "    llcrnrlat=40.496044, \n",
        "    urcrnrlat=40.915256, \n",
        "    llcrnrlon=-74.255735, \n",
        "    urcrnrlon=-73.700272,\n",
        "    resolution='i'\n",
        ")\n",
        "\n",
        "m.drawmapboundary(fill_color='#85A6D9')\n",
        "m.drawcoastlines(color='#6D5F47', linewidth=.4)\n",
        "m.drawrivers(color='#6D5F47', linewidth=.4)\n",
        "# Temporary bug: if you run the following line of code in the Jupyter Guided Project interface on Dataquest, you'll get an error. \n",
        "# We're working on a fix, thanks for your patience! This should work fine locally on your own computer though.\n",
        "m.fillcontinents(color='white',lake_color='#85A6D9')\n",
        "\n",
        "longitudes = districts[\"lon\"].tolist()\n",
        "latitudes = districts[\"lat\"].tolist()\n",
        "m.scatter(longitudes, latitudes, s=50, zorder=2, latlon=True, c=districts[\"saf_s_11\"], cmap=\"summer\")\n",
        "plt.show()\n",
        "\n",
        "\n"
      ],
      "execution_count": 0,
      "outputs": [
        {
          "output_type": "display_data",
          "data": {
            "image/png": "[encoded data removed]",
            "text/plain": [
              "<Figure size 432x288 with 1 Axes>"
            ]
          },
          "metadata": {
            "tags": []
          }
        }
      ]
    },
    {
      "cell_type": "code",
      "metadata": {
        "id": "AIecduxiHXay",
        "colab_type": "code",
        "outputId": "08ca6f82-d9dd-4c03-ad26-e79dabed9a97",
        "colab": {}
      },
      "source": [
        "from IPython.display import Image\n",
        "Image(\"safety.png\")"
      ],
      "execution_count": 0,
      "outputs": [
        {
          "output_type": "execute_result",
          "data": {
            "image/png": "[encoded data removed]",
            "text/plain": [
              "<IPython.core.display.Image object>"
            ]
          },
          "metadata": {
            "tags": []
          },
          "execution_count": 51
        }
      ]
    },
    {
      "cell_type": "code",
      "metadata": {
        "id": "Fk6-XVR_HXaz",
        "colab_type": "code",
        "colab": {}
      },
      "source": [
        "districts = combined.groupby(\"school_dist\").agg(np.mean)\n",
        "districts.reset_index(inplace=True)"
      ],
      "execution_count": 0,
      "outputs": []
    },
    {
      "cell_type": "markdown",
      "metadata": {
        "id": "T2tWgnVqHXa0",
        "colab_type": "text"
      },
      "source": [
        "It looks like Upper Manhattan and parts of Queens and the Bronx tend to have higher safety scores, whereas Brooklyn has low safety scores."
      ]
    },
    {
      "cell_type": "markdown",
      "metadata": {
        "id": "Ya-zP2v-HXa0",
        "colab_type": "text"
      },
      "source": [
        "### Racial differences in SAT scores\n",
        "\n",
        "We'll now take a closer look at racial differences in SAT scores. We'll create a bar plot of the correlations between the columns above and `sat_score`."
      ]
    },
    {
      "cell_type": "code",
      "metadata": {
        "id": "MaXuhWq0HXa0",
        "colab_type": "code",
        "outputId": "e9785069-3f4b-485e-c8aa-da2400fa7778",
        "colab": {
          "base_uri": "https://localhost:8080/",
          "height": 335
        }
      },
      "source": [
        "race_fields = [\"white_per\", \"asian_per\", \"black_per\", \"hispanic_per\"]\n",
        "combined.corr()[\"sat_score\"][race_fields].plot.bar()"
      ],
      "execution_count": 0,
      "outputs": [
        {
          "output_type": "execute_result",
          "data": {
            "text/plain": [
              "<matplotlib.axes._subplots.AxesSubplot at 0x7feddc48b208>"
            ]
          },
          "metadata": {
            "tags": []
          },
          "execution_count": 52
        },
        {
          "output_type": "display_data",
          "data": {
            "image/png": "[encoded data removed]",
            "text/plain": [
              "<Figure size 432x288 with 1 Axes>"
            ]
          },
          "metadata": {
            "tags": []
          }
        }
      ]
    },
    {
      "cell_type": "markdown",
      "metadata": {
        "id": "qkeceCOnHXa1",
        "colab_type": "text"
      },
      "source": [
        "### Findings\n",
        "\n",
        "It looks like a higher percentage of white or asian students at a school correlates positively with sat score, whereas a higher percentage of black or hispanic students correlates negatively with sat score. This may be due to a lack of funding for schools in certain areas, which are more likely to have a higher percentage of black or hispanic students.\n",
        "\n",
        "We'll now explore schools with low SAT scores and high values for `hispanic_per`, by making a scatter plot of `hispanic_per` vs. `sat_score`."
      ]
    },
    {
      "cell_type": "code",
      "metadata": {
        "id": "KXGgWjHIM0bg",
        "colab_type": "code",
        "outputId": "37f5b6e5-3961-4ad8-85db-5f521c787668",
        "colab": {
          "base_uri": "https://localhost:8080/",
          "height": 297
        }
      },
      "source": [
        "combined.plot.scatter(\"hispanic_per\", \"sat_score\")"
      ],
      "execution_count": 0,
      "outputs": [
        {
          "output_type": "execute_result",
          "data": {
            "text/plain": [
              "<matplotlib.axes._subplots.AxesSubplot at 0x7feddc45ea90>"
            ]
          },
          "metadata": {
            "tags": []
          },
          "execution_count": 55
        },
        {
          "output_type": "display_data",
          "data": {
            "image/png": "[encoded data removed]",
            "text/plain": [
              "<Figure size 432x288 with 1 Axes>"
            ]
          },
          "metadata": {
            "tags": []
          }
        }
      ]
    },
    {
      "cell_type": "markdown",
      "metadata": {
        "id": "uWvfOgWXHXa1",
        "colab_type": "text"
      },
      "source": [
        "[link text](`https://`)"
      ]
    },
    {
      "cell_type": "markdown",
      "metadata": {
        "id": "bkYk3RUFHXa2",
        "colab_type": "text"
      },
      "source": [
        "We'll take a closer look at any schools with a `hispanic_per` greater than 95%."
      ]
    },
    {
      "cell_type": "code",
      "metadata": {
        "id": "KKvizJVFHXa2",
        "colab_type": "code",
        "outputId": "bf69bac2-062c-46f4-e661-3cfccf56f43f",
        "colab": {
          "base_uri": "https://localhost:8080/",
          "height": 170
        }
      },
      "source": [
        "print(combined[combined[\"hispanic_per\"] > 95][\"SCHOOL NAME\"])"
      ],
      "execution_count": 0,
      "outputs": [
        {
          "output_type": "stream",
          "text": [
            "44                         MANHATTAN BRIDGES HIGH SCHOOL\n",
            "82      WASHINGTON HEIGHTS EXPEDITIONARY LEARNING SCHOOL\n",
            "89     GREGORIO LUPERON HIGH SCHOOL FOR SCIENCE AND M...\n",
            "125                  ACADEMY FOR LANGUAGE AND TECHNOLOGY\n",
            "141                INTERNATIONAL SCHOOL FOR LIBERAL ARTS\n",
            "176     PAN AMERICAN INTERNATIONAL HIGH SCHOOL AT MONROE\n",
            "253                            MULTICULTURAL HIGH SCHOOL\n",
            "286               PAN AMERICAN INTERNATIONAL HIGH SCHOOL\n",
            "Name: SCHOOL NAME, dtype: object\n"
          ],
          "name": "stdout"
        }
      ]
    },
    {
      "cell_type": "markdown",
      "metadata": {
        "id": "UiVTCp6tHXa3",
        "colab_type": "text"
      },
      "source": [
        "The schools listed above appear to primarily be geared towards recent immigrants to the US. These schools have a lot of students who are learning English, which would explain the lower SAT scores."
      ]
    },
    {
      "cell_type": "code",
      "metadata": {
        "id": "95O6Ev0AHXa3",
        "colab_type": "code",
        "outputId": "623c99af-2f05-4de8-d7e1-bb6749afe628",
        "colab": {
          "base_uri": "https://localhost:8080/",
          "height": 119
        }
      },
      "source": [
        "print(combined[(combined[\"hispanic_per\"] < 10) & (combined[\"sat_score\"] > 1800)][\"SCHOOL NAME\"])"
      ],
      "execution_count": 0,
      "outputs": [
        {
          "output_type": "stream",
          "text": [
            "37                                STUYVESANT HIGH SCHOOL\n",
            "151                         BRONX HIGH SCHOOL OF SCIENCE\n",
            "187                       BROOKLYN TECHNICAL HIGH SCHOOL\n",
            "327    QUEENS HIGH SCHOOL FOR THE SCIENCES AT YORK CO...\n",
            "356                  STATEN ISLAND TECHNICAL HIGH SCHOOL\n",
            "Name: SCHOOL NAME, dtype: object\n"
          ],
          "name": "stdout"
        }
      ]
    },
    {
      "cell_type": "markdown",
      "metadata": {
        "id": "aS-ocfjZHXa4",
        "colab_type": "text"
      },
      "source": [
        "### Findings \n",
        "\n",
        "Many of the schools above appear to be specialized science and technology schools that receive extra funding, and only admit students who pass an entrance exam. This doesn't explain the low `hispanic_per`, but it does explain why their students tend to do better on the SAT -- they are students from all over New York City who did well on a standardized test."
      ]
    },
    {
      "cell_type": "markdown",
      "metadata": {
        "id": "BDPm210ZHXa5",
        "colab_type": "text"
      },
      "source": [
        "## Gender differences in SAT scores\n",
        "\n",
        "There are two columns that indicate the percentage of each gender at a school:\n",
        "\n",
        " - male_per\n",
        " - female_per\n",
        "\n",
        "We can plot out the correlations between each percentage and `sat_score`.\n"
      ]
    },
    {
      "cell_type": "code",
      "metadata": {
        "id": "3JcloHHqHXa5",
        "colab_type": "code",
        "outputId": "2b168454-4ba7-4df4-8a92-215c9b0a917f",
        "colab": {
          "base_uri": "https://localhost:8080/",
          "height": 328
        }
      },
      "source": [
        "gender_fields = [\"male_per\", \"female_per\"]\n",
        "combined.corr()[\"sat_score\"][gender_fields].plot.bar()"
      ],
      "execution_count": 0,
      "outputs": [
        {
          "output_type": "execute_result",
          "data": {
            "text/plain": [
              "<matplotlib.axes._subplots.AxesSubplot at 0x7feddcd9cac8>"
            ]
          },
          "metadata": {
            "tags": []
          },
          "execution_count": 56
        },
        {
          "output_type": "display_data",
          "data": {
            "image/png": "[encoded data removed]",
            "text/plain": [
              "<Figure size 432x288 with 1 Axes>"
            ]
          },
          "metadata": {
            "tags": []
          }
        }
      ]
    },
    {
      "cell_type": "markdown",
      "metadata": {
        "id": "9cdTzoDCHXa6",
        "colab_type": "text"
      },
      "source": [
        "In the plot above, we can see that a high percentage of females at a school positively correlates with SAT score, whereas a high percentage of males at a school negatively correlates with SAT score. Neither correlation is extremely strong."
      ]
    },
    {
      "cell_type": "code",
      "metadata": {
        "id": "iFO-4xkvHXa6",
        "colab_type": "code",
        "outputId": "08569b8e-1a7d-4d91-c78e-d4175fe657ae",
        "colab": {
          "base_uri": "https://localhost:8080/",
          "height": 297
        }
      },
      "source": [
        "combined.plot.scatter(\"female_per\", \"sat_score\")"
      ],
      "execution_count": 0,
      "outputs": [
        {
          "output_type": "execute_result",
          "data": {
            "text/plain": [
              "<matplotlib.axes._subplots.AxesSubplot at 0x7feddc3eb470>"
            ]
          },
          "metadata": {
            "tags": []
          },
          "execution_count": 57
        },
        {
          "output_type": "display_data",
          "data": {
            "image/png": "[encoded data removed]",
            "text/plain": [
              "<Figure size 432x288 with 1 Axes>"
            ]
          },
          "metadata": {
            "tags": []
          }
        }
      ]
    },
    {
      "cell_type": "markdown",
      "metadata": {
        "id": "Qvbn8z9tHXa7",
        "colab_type": "text"
      },
      "source": [
        "Based on the scatterplot, there doesn't seem to be any real correlation between `sat_score` and `female_per`. However, there is a cluster of schools with a high percentage of females (60 to 80), and high SAT scores."
      ]
    },
    {
      "cell_type": "code",
      "metadata": {
        "id": "mH9KGPoxHXa7",
        "colab_type": "code",
        "outputId": "8c792d7f-8269-4ff8-a376-96bdba22d8e6",
        "colab": {}
      },
      "source": [
        "print(combined[(combined[\"female_per\"] > 60) & (combined[\"sat_score\"] > 1700)][\"SCHOOL NAME\"])"
      ],
      "execution_count": 0,
      "outputs": [
        {
          "output_type": "stream",
          "text": [
            "5                         BARD HIGH SCHOOL EARLY COLLEGE\n",
            "26                         ELEANOR ROOSEVELT HIGH SCHOOL\n",
            "60                                    BEACON HIGH SCHOOL\n",
            "61     FIORELLO H. LAGUARDIA HIGH SCHOOL OF MUSIC & A...\n",
            "302                          TOWNSEND HARRIS HIGH SCHOOL\n",
            "Name: SCHOOL NAME, dtype: object\n"
          ],
          "name": "stdout"
        }
      ]
    },
    {
      "cell_type": "markdown",
      "metadata": {
        "id": "XnkY0MzyHXa8",
        "colab_type": "text"
      },
      "source": [
        "These schools appears to be very selective liberal arts schools that have high academic standards."
      ]
    },
    {
      "cell_type": "markdown",
      "metadata": {
        "id": "EJuJNoegHXa8",
        "colab_type": "text"
      },
      "source": [
        "## Exploring AP Scores vs. SAT Scores\n",
        "\n",
        "It makes sense that the number of students at a school who took AP exams would be highly correlated with the school's SAT scores. Let's explore this relationship. Because `total_enrollment` is highly correlated with `sat_score`, we don't want to bias our results. Instead, we'll look at the percentage of students in each school who took at least one AP exam."
      ]
    },
    {
      "cell_type": "code",
      "metadata": {
        "id": "jXJncpMxHXa9",
        "colab_type": "code",
        "outputId": "db725f89-44b7-42a7-ac79-f470c89d353c",
        "colab": {
          "base_uri": "https://localhost:8080/",
          "height": 296
        }
      },
      "source": [
        "combined[\"ap_per\"] = combined[\"AP Test Takers \"] / combined[\"total_enrollment\"]\n",
        "\n",
        "combined.plot.scatter(x='ap_per', y='sat_score')"
      ],
      "execution_count": 0,
      "outputs": [
        {
          "output_type": "execute_result",
          "data": {
            "text/plain": [
              "<matplotlib.axes._subplots.AxesSubplot at 0x7feddc4c23c8>"
            ]
          },
          "metadata": {
            "tags": []
          },
          "execution_count": 58
        },
        {
          "output_type": "display_data",
          "data": {
            "image/png": "[encoded data removed]",
            "text/plain": [
              "<Figure size 432x288 with 1 Axes>"
            ]
          },
          "metadata": {
            "tags": []
          }
        }
      ]
    },
    {
      "cell_type": "markdown",
      "metadata": {
        "id": "wddYOiCFHXa9",
        "colab_type": "text"
      },
      "source": [
        "\n",
        "It looks like there is a relationship between the percentage of students in a school who take the AP exam, and their average SAT scores. It's not an extremely strong correlation, though."
      ]
    },
    {
      "cell_type": "code",
      "metadata": {
        "id": "XaHzOgeqHXa-",
        "colab_type": "code",
        "colab": {}
      },
      "source": [
        ""
      ],
      "execution_count": 0,
      "outputs": []
    }
  ]
}