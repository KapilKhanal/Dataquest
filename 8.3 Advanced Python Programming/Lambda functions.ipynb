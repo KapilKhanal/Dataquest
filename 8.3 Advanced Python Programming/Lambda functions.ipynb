{
 "cells": [
  {
   "cell_type": "markdown",
   "metadata": {},
   "source": [
    "We use `lambda` functions when we only want to run a function once, and don't need to save it for reuse"
   ]
  },
  {
   "cell_type": "code",
   "execution_count": 1,
   "metadata": {},
   "outputs": [
    {
     "name": "stdout",
     "output_type": "stream",
     "text": [
      "string\n"
     ]
    }
   ],
   "source": [
    "hello = \"hello world\"[0:5]\n",
    "foo = \"some string\"\n",
    "password = \"password\"\n",
    "\n",
    "print(foo[5:11])\n",
    "\n",
    "\n",
    "fifth = password[4]\n",
    "last_four = password[4:8]"
   ]
  },
  {
   "cell_type": "code",
   "execution_count": 4,
   "metadata": {},
   "outputs": [],
   "source": [
    "my_string = \"string slicing is fun!\"\n",
    "\n",
    "first_nine = my_string[:9]\n",
    "remainder = my_string[9:]"
   ]
  },
  {
   "cell_type": "code",
   "execution_count": 3,
   "metadata": {},
   "outputs": [],
   "source": [
    "hlo = \"hello world\"[:5:2]\n",
    "\n",
    "my_string = \"string slicing is fun!\"\n",
    "\n",
    "srn_lcn_sfn = my_string[::2]\n",
    "scgsu = my_string[7::3]"
   ]
  },
  {
   "cell_type": "code",
   "execution_count": 5,
   "metadata": {},
   "outputs": [],
   "source": [
    "olleh = \"hello world\"[4::-1]\n",
    "able_string = \"able was I ere I saw elba\"\n",
    "\n",
    "\n",
    "def is_palindrome(my_string):\n",
    "    return my_string == my_string[::-1]\n",
    "\n",
    "phrase_palindrome = is_palindrome(able_string)"
   ]
  },
  {
   "cell_type": "code",
   "execution_count": 10,
   "metadata": {},
   "outputs": [
    {
     "name": "stdout",
     "output_type": "stream",
     "text": [
      "1\n"
     ]
    }
   ],
   "source": [
    "# Searching for substrings \n",
    "# passwords is a list of strings\n",
    "passwords = ['12345@54321',\n",
    " 'ennaanne',\n",
    " '97799779',\n",
    " '029893398920',\n",
    " 'zzzzzzzzzzzzzzzzzzzz',\n",
    " 'axaaxa',\n",
    " 'ddaadd',\n",
    "            'cheeseburger',\n",
    "            'potatop']\n",
    "\n",
    "theres_no = \"I\" in \"team\"\n",
    "\n",
    "def easy_patterns(pattern):\n",
    "    count = 0\n",
    "    for password in passwords:\n",
    "        if pattern in password:\n",
    "            count += 1\n",
    "    return count\n",
    "\n",
    "countup_passwords = easy_patterns(\"1234\") # 22 in the example\n",
    "print(countup_passwords)"
   ]
  },
  {
   "cell_type": "code",
   "execution_count": 8,
   "metadata": {},
   "outputs": [
    {
     "name": "stdout",
     "output_type": "stream",
     "text": [
      "[1, 2, 199, 56]\n"
     ]
    }
   ],
   "source": [
    "ints = list(map(int, [1.5, 2.4, 199.7, 56.0]))\n",
    "print(ints)\n",
    "\n",
    "not_floats = ['1.4', '71.833', '0.1', '109.2', '77.7', '618.44', '12.004']\n",
    "floats = list(map(float, not_floats))"
   ]
  },
  {
   "cell_type": "code",
   "execution_count": 12,
   "metadata": {},
   "outputs": [
    {
     "name": "stdout",
     "output_type": "stream",
     "text": [
      "['12345@54321', 'ennaanne', '97799779', '029893398920', 'zzzzzzzzzzzzzzzzzzzz', 'axaaxa', 'ddaadd', 'potatop']\n"
     ]
    }
   ],
   "source": [
    "def is_palindrome(my_string):\n",
    "    return my_string == my_string[::-1]\n",
    "\n",
    "palindrome_passwords = list(filter(is_palindrome, passwords))\n",
    "print(palindrome_passwords)"
   ]
  },
  {
   "cell_type": "code",
   "execution_count": 13,
   "metadata": {},
   "outputs": [
    {
     "name": "stdout",
     "output_type": "stream",
     "text": [
      "[2, 4, 6, 8, 10]\n"
     ]
    }
   ],
   "source": [
    "numbers = [1, 2, 3, 4, 5, 6, 7, 8, 9, 10]\n",
    "evens = list(filter(lambda x : x % 2 == 0, numbers))\n",
    "print(evens)\n",
    "\n",
    "palindrome_passwords = list(filter(lambda my_string : my_string[::-1] == my_string, passwords))"
   ]
  },
  {
   "cell_type": "code",
   "execution_count": 14,
   "metadata": {},
   "outputs": [],
   "source": [
    "weak_passwords = list(filter(lambda x : len(x) < 6, passwords))\n",
    "medium_passwords = list(filter(lambda x : len(x) >= 6 and len(x) <= 10, passwords))\n",
    "strong_passwords = list(filter(lambda x : len(x) > 10, passwords))"
   ]
  },
  {
   "cell_type": "code",
   "execution_count": null,
   "metadata": {},
   "outputs": [],
   "source": []
  }
 ],
 "metadata": {
  "kernelspec": {
   "display_name": "Python 3",
   "language": "python",
   "name": "python3"
  },
  "language_info": {
   "codemirror_mode": {
    "name": "ipython",
    "version": 3
   },
   "file_extension": ".py",
   "mimetype": "text/x-python",
   "name": "python",
   "nbconvert_exporter": "python",
   "pygments_lexer": "ipython3",
   "version": "3.7.3"
  }
 },
 "nbformat": 4,
 "nbformat_minor": 2
}
