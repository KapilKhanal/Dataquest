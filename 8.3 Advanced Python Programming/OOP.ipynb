{
 "cells": [
  {
   "cell_type": "code",
   "execution_count": 1,
   "metadata": {},
   "outputs": [],
   "source": [
    "import numpy as np\n",
    "import pandas as pd\n"
   ]
  },
  {
   "cell_type": "code",
   "execution_count": 42,
   "metadata": {},
   "outputs": [],
   "source": [
    "nba_df = pd.read_csv(\"nba_players_2013.csv\")"
   ]
  },
  {
   "cell_type": "code",
   "execution_count": 43,
   "metadata": {},
   "outputs": [
    {
     "data": {
      "text/plain": [
       "Index(['player', 'pos', 'age', 'team', 'g', 'gs', 'mp', 'fg', 'fga', 'fg.',\n",
       "       'x3p', 'x3pa', 'x3p.', 'x2p', 'x2pa', 'x2p.', 'efg.', 'ft', 'fta',\n",
       "       'ft.', 'orb', 'drb', 'trb', 'ast', 'stl', 'blk', 'tov', 'pf', 'pts',\n",
       "       'season', 'season_end'],\n",
       "      dtype='object')"
      ]
     },
     "execution_count": 43,
     "metadata": {},
     "output_type": "execute_result"
    }
   ],
   "source": [
    "nba_df.columns"
   ]
  },
  {
   "cell_type": "code",
   "execution_count": 44,
   "metadata": {},
   "outputs": [],
   "source": [
    "# df.drop(['B', 'C'], axis=1)\n",
    "nba_df = nba_df.drop(['g', 'gs', 'mp', 'fg', 'fga', 'fg.', 'x3p', 'x3pa', 'x3p.','x2p', 'x2pa', 'x2p.', 'efg.', 'ft', 'fta', 'ft.', 'orb', 'drb', 'trb', 'ast', 'stl', 'blk', 'tov', 'pf', 'pts', 'season', 'season_end'], axis=1)"
   ]
  },
  {
   "cell_type": "code",
   "execution_count": 45,
   "metadata": {},
   "outputs": [],
   "source": [
    "# header = nba_df.columns"
   ]
  },
  {
   "cell_type": "code",
   "execution_count": 46,
   "metadata": {},
   "outputs": [
    {
     "data": {
      "text/plain": [
       "pandas.core.frame.DataFrame"
      ]
     },
     "execution_count": 46,
     "metadata": {},
     "output_type": "execute_result"
    }
   ],
   "source": [
    "type(nba_df)"
   ]
  },
  {
   "cell_type": "code",
   "execution_count": 47,
   "metadata": {},
   "outputs": [],
   "source": [
    "# The class below uses a list -  \n",
    "# Should we convert to list? \n",
    "# Let's just read it in directly to a list for now "
   ]
  },
  {
   "cell_type": "code",
   "execution_count": 51,
   "metadata": {},
   "outputs": [],
   "source": [
    "import csv\n",
    "\n",
    "with open('nba_players_2013.csv', 'r') as f:\n",
    "  reader = csv.reader(f)\n",
    "  nba = list(reader)"
   ]
  },
  {
   "cell_type": "code",
   "execution_count": 52,
   "metadata": {},
   "outputs": [],
   "source": [
    "# print(header)\n",
    "\n",
    "# In the exercise only the first 4 columns are used\n",
    "# \n",
    "\n",
    "# Defining Custom Classes\n",
    "\n",
    "class Player():\n",
    "    # The special __init__ function runs whenever a class is instantiated\n",
    "    # The init function can take arguments, but self is always the first one\n",
    "    # Self is just a reference to the instance of the class\n",
    "    # It is automatically passed in when you instantiate an instance of the class\n",
    "    def __init__(self, data_row):\n",
    "        self.player_name = data_row[0]\n",
    "        self.position = data_row[1]\n",
    "        self.age = data_row[2]\n",
    "        self.team = data_row[3]\n",
    "\n",
    "# Initialize a player using the first row of our list\n",
    "first_player = Player(nba[0])\n",
    "\n",
    "# Implement the Team class\n",
    "class Team():\n",
    "    def __init__(self, team_name):\n",
    "        self.team_name = team_name\n",
    "spurs = Team(\"San Antonio Spurs\")"
   ]
  },
  {
   "cell_type": "markdown",
   "metadata": {},
   "source": [
    "Now that we have a Team class with a team name, we can also store a team roster within each Team instance.\n",
    "\n",
    "We'll represent a roster as a list of Player instances. We can write code inside the `__init__ ` method to run some initialization logic."
   ]
  },
  {
   "cell_type": "code",
   "execution_count": 53,
   "metadata": {},
   "outputs": [],
   "source": [
    "class Team():\n",
    "    def __init__(self, team_name):\n",
    "        self.team_name = team_name\n",
    "        # Team roster initially empty\n",
    "        self.roster = []\n",
    "        # Find the players for the roster in the data set\n",
    "        for row in nba:\n",
    "            if row[3] == self.team_name:\n",
    "                self.roster.append(Player(row))\n",
    "spurs = Team(\"San Antonio Spurs\")"
   ]
  },
  {
   "cell_type": "markdown",
   "metadata": {},
   "source": [
    "The Player and Team classes we've defined serve as blueprints that we can use to create instances of these classes. Classes and the instances of those classes, which are collectively known as objects, are fundamental to object-oriented programming.\n",
    "\n",
    "We can define some of our own methods on a class. For example, if we want to compute the average age of the players on a team, we would write a method for the Team class that does this. However, because this number can be different for each team, we want to make sure the method acts individually on specific instances of the Team class. We call these methods instance methods.\n",
    "\n",
    "For method declarations, the first argument to the method is always `self`, even though we don't explicitly pass in self when we call the method."
   ]
  },
  {
   "cell_type": "code",
   "execution_count": 55,
   "metadata": {},
   "outputs": [],
   "source": [
    "class Team():\n",
    "    def __init__(self, team_name):\n",
    "        self.team_name = team_name\n",
    "        # Team roster initially empty\n",
    "        self.roster = []\n",
    "        # Find the players for the roster in the data set\n",
    "        for row in nba:\n",
    "            if row[3] == self.team_name:\n",
    "                self.roster.append(Player(row))\n",
    "    def num_players(self):\n",
    "        count = 0\n",
    "        for player in self.roster:\n",
    "            count += 1\n",
    "        return count\n",
    "    # Implement the average_age() instance method\n",
    "    def average_age(self):\n",
    "        total_age = 0\n",
    "        for player in self.roster:\n",
    "            # converting player age to int \n",
    "            # in the exercise it had already been done\n",
    "            total_age += int(player.age)\n",
    "        return total_age / self.num_players()\n",
    "\n",
    "  \n",
    "spurs = Team(\"San Antonio Spurs\")\n",
    "spurs_num_players = spurs.num_players()\n",
    "spurs_avg_age = spurs.average_age()"
   ]
  },
  {
   "cell_type": "code",
   "execution_count": 56,
   "metadata": {},
   "outputs": [
    {
     "name": "stdout",
     "output_type": "stream",
     "text": [
      "28.428571428571427\n"
     ]
    }
   ],
   "source": [
    "print(spurs_avg_age)"
   ]
  },
  {
   "cell_type": "code",
   "execution_count": 57,
   "metadata": {},
   "outputs": [],
   "source": [
    "# Class methods need to use @\n",
    "\n",
    "import math\n",
    "\n",
    "class Player():\n",
    "    # The special __init__ function runs whenever a class is instantiated\n",
    "    # The init function can take arguments, but self is always the first one\n",
    "    # Self is just a reference to the instance of the class\n",
    "    # It's automatically passed in when you instantiate an instance of the class\n",
    "    def __init__(self, data_row):\n",
    "        self.player_name = data_row[0]\n",
    "        self.position = data_row[1]\n",
    "        self.age = int(data_row[2])\n",
    "        self.team = data_row[3]\n",
    "\n",
    "class Team():\n",
    "    def __init__(self, team_name):\n",
    "        self.team_name = team_name\n",
    "        self.roster = []\n",
    "        for row in nba:\n",
    "            if row[3] == self.team_name:\n",
    "                self.roster.append(Player(row))\n",
    "    \n",
    "    def num_players(self):\n",
    "        count = 0\n",
    "        for player in self.roster:\n",
    "            count += 1\n",
    "        return count\n",
    "   \n",
    "    def average_age(self):\n",
    "        return math.fsum([player.age for player in self.roster]) / self.num_players()\n",
    "    \n",
    "    @classmethod\n",
    "    def older_team(self, team1, team2):\n",
    "        if team1.average_age() > team2.average_age():\n",
    "            return team1\n",
    "        else:\n",
    "            return team2\n",
    "\n",
    "old_team = Team.older_team(Team(\"New York Knicks\"), Team(\"Miami Heat\"))"
   ]
  },
  {
   "cell_type": "code",
   "execution_count": 59,
   "metadata": {},
   "outputs": [],
   "source": [
    "# Overloading inherited behaviour\n",
    "\n",
    "class Player(object):\n",
    "    # The special __init__ function runs whenever a class is instantiated\n",
    "    # The init function can take arguments, but self is always the first one\n",
    "    # Self is just a reference to the instance of the class\n",
    "    # It is automatically passed in when you instantiate an instance of the class\n",
    "    def __init__(self, data_row):\n",
    "        self.player_name = data_row[0]\n",
    "        self.position = data_row[1]\n",
    "        self.age = int(data_row[2])\n",
    "        self.team = data_row[3]\n",
    "    def __lt__(self, other):\n",
    "        return self.age < other.age\n",
    "    def __gt__(self, other):\n",
    "        return self.age > other.age\n",
    "    def __le__(self, other):\n",
    "        return self.age <= other.age\n",
    "    def __ge__(self, other):\n",
    "        return self.age >= other.age\n",
    "    def __eq__(self, other):\n",
    "        return self.age == other.age\n",
    "    def __ne__(self, other):\n",
    "        return self.age != other.age\n",
    "carmelo = Player(nba[17])\n",
    "kobe = Player(nba[68])\n",
    "result = carmelo != kobe"
   ]
  },
  {
   "cell_type": "code",
   "execution_count": 60,
   "metadata": {},
   "outputs": [
    {
     "name": "stdout",
     "output_type": "stream",
     "text": [
      "True\n"
     ]
    }
   ],
   "source": [
    "print(result)"
   ]
  },
  {
   "cell_type": "code",
   "execution_count": 62,
   "metadata": {},
   "outputs": [],
   "source": [
    "class Team(object):\n",
    "    def __init__(self, team_name):\n",
    "        self.team_name = team_name\n",
    "        self.roster = []\n",
    "        for row in nba:\n",
    "            if row[3] == self.team_name:\n",
    "                self.roster.append(Player(row))\n",
    "    def num_players(self):\n",
    "        count = 0\n",
    "        for player in self.roster:\n",
    "            count += 1\n",
    "        return count\n",
    "    def average_age(self):\n",
    "        return math.fsum([player.age for player in self.roster]) / self.num_players()\n",
    "    # Define operators here\n",
    "    def __lt__(self, other):\n",
    "        return self.average_age() < other.average_age()\n",
    "    def __gt__(self, other):\n",
    "        return self.average_age() > other.average_age()\n",
    "    def __le__(self, other):\n",
    "        return self.average_age() <= other.average_age()\n",
    "    def __ge__(self, other):\n",
    "        return self.average_age() >= other.average_age()\n",
    "    def __eq__(self, other):\n",
    "        return self.average_age() == other.average_age()\n",
    "    def __ne__(self, other):\n",
    "        return self.average_age() != other.average_age()\n",
    "\n",
    "jazz = Team(\"Utah Jazz\")\n",
    "pistons = Team(\"Detroit Pistons\")\n",
    "older_team = max([jazz, pistons])\n",
    "\n"
   ]
  },
  {
   "cell_type": "code",
   "execution_count": 63,
   "metadata": {},
   "outputs": [],
   "source": [
    "# Oldest NBA team\n",
    "\n",
    "import math\n",
    "\n",
    "class Team(object):\n",
    "    def __init__(self, team_name):\n",
    "        self.team_name = team_name\n",
    "        self.roster = []\n",
    "        for row in nba:\n",
    "            if row[3] == self.team_name:\n",
    "                self.roster.append(Player(row))\n",
    "    def num_players(self):\n",
    "        count = 0\n",
    "        for player in self.roster:\n",
    "            count += 1\n",
    "        return count\n",
    "    def average_age(self):\n",
    "        return math.fsum([player.age for player in self.roster]) / self.num_players()\n",
    "    def __lt__(self, other):\n",
    "        return self.average_age() < other.average_age()\n",
    "    def __gt__(self, other):\n",
    "        return self.average_age() > other.average_age()\n",
    "    def __le__(self, other):\n",
    "        return self.average_age() <= other.average_age()\n",
    "    def __ge__(self, other):\n",
    "        return self.average_age() >= other.average_age()\n",
    "    def __eq__(self, other):\n",
    "        return self.average_age() == other.average_age()\n",
    "    def __ne__(self, other):\n",
    "        return self.average_age() != other.average_age()\n",
    "\n",
    "team_names = [\"Boston Celtics\", \"Brooklyn Nets\", \"New York Knicks\", \"Philadelphia 76ers\", \"Toronto Raptors\", \n",
    "         \"Chicago Bulls\", \"Cleveland Cavaliers\", \"Detroit Pistons\", \"Indiana Pacers\", \"Milwaukee Bucks\",\n",
    "         \"Atlanta Hawks\", \"Charlotte Hornets\", \"Miami Heat\", \"Orlando Magic\", \"Washington Wizards\",\n",
    "         \"Dallas Mavericks\", \"Houston Rockets\", \"Memphis Grizzlies\", \"New Orleans Pelicans\", \"San Antonio Spurs\",\n",
    "         \"Denver Nuggets\", \"Minnesota Timberwolves\", \"Oklahoma City Thunder\", \"Portland Trail Blazers\", \"Utah Jazz\",\n",
    "         \"Golden State Warriors\", \"Los Angeles Clippers\", \"Los Angeles Lakers\", \"Phoenix Suns\", \"Sacramento Kings\"]\n",
    "\n",
    "teams = [Team(name) for name in team_names]\n",
    "\n",
    "oldest_team = max(teams)\n",
    "youngest_team = min(teams)\n",
    "sorted_teams = sorted(teams)"
   ]
  },
  {
   "cell_type": "code",
   "execution_count": null,
   "metadata": {},
   "outputs": [],
   "source": []
  }
 ],
 "metadata": {
  "kernelspec": {
   "display_name": "Python 3",
   "language": "python",
   "name": "python3"
  },
  "language_info": {
   "codemirror_mode": {
    "name": "ipython",
    "version": 3
   },
   "file_extension": ".py",
   "mimetype": "text/x-python",
   "name": "python",
   "nbconvert_exporter": "python",
   "pygments_lexer": "ipython3",
   "version": "3.7.3"
  }
 },
 "nbformat": 4,
 "nbformat_minor": 2
}
