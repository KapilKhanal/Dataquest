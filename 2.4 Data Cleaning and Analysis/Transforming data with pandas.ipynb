{
 "cells": [
  {
   "cell_type": "code",
   "execution_count": 14,
   "metadata": {},
   "outputs": [],
   "source": [
    "import pandas as pd\n",
    "%matplotlib inline\n",
    "happiness2015 = pd.read_csv(\"World_Happiness_2015.csv\")\n",
    "\n",
    "mapping = {'Economy (GDP per Capita)': 'Economy', 'Health (Life Expectancy)': 'Health', 'Trust (Government Corruption)': 'Trust' }\n",
    "\n",
    "happiness2015 = happiness2015.rename(mapping, axis = 1) "
   ]
  },
  {
   "cell_type": "code",
   "execution_count": 15,
   "metadata": {},
   "outputs": [],
   "source": [
    "def label(element):\n",
    "    if element > 1:\n",
    "        return 'High'\n",
    "    else:\n",
    "        return 'Low'\n",
    "    \n",
    "economy_impact_map = happiness2015['Economy'].map(label)\n",
    "economy_impact_apply = happiness2015['Economy'].apply(label)\n",
    "equal = economy_impact_map.equals(economy_impact_apply)"
   ]
  },
  {
   "cell_type": "code",
   "execution_count": 16,
   "metadata": {},
   "outputs": [],
   "source": [
    "economy_apply = happiness2015['Economy'].apply(label)\n",
    "factors = ['Economy', 'Family', 'Health', 'Freedom', 'Trust', 'Generosity']\n",
    "factors_impact = happiness2015[factors].applymap(label)"
   ]
  },
  {
   "cell_type": "code",
   "execution_count": 17,
   "metadata": {},
   "outputs": [],
   "source": [
    "def v_counts(col):\n",
    "    num = col.value_counts()\n",
    "    den = col.size\n",
    "    return num/den\n",
    "v_counts_pct = factors_impact.apply(v_counts)"
   ]
  },
  {
   "cell_type": "code",
   "execution_count": 18,
   "metadata": {},
   "outputs": [],
   "source": [
    "factors = ['Economy', 'Family', 'Health', 'Freedom', 'Trust', 'Generosity', 'Dystopia Residual']\n",
    "def percentages(col):\n",
    "    div = col/happiness2015['Happiness Score'] \n",
    "    return div * 100\n",
    "factor_percentages = happiness2015[factors].apply(percentages)"
   ]
  },
  {
   "cell_type": "code",
   "execution_count": 19,
   "metadata": {},
   "outputs": [],
   "source": [
    "main_cols = ['Country', 'Region', 'Happiness Rank', 'Happiness Score']\n",
    "factors = ['Economy', 'Family', 'Health', 'Freedom', 'Trust', 'Generosity', 'Dystopia Residual']\n",
    "melt = pd.melt(happiness2015, id_vars = main_cols, value_vars = factors)\n",
    "melt['Percentage'] = round(melt['value']/melt['Happiness Score'] * 100, 2)"
   ]
  },
  {
   "cell_type": "code",
   "execution_count": 20,
   "metadata": {},
   "outputs": [
    {
     "data": {
      "text/plain": [
       "<matplotlib.axes._subplots.AxesSubplot at 0x1130891d0>"
      ]
     },
     "execution_count": 20,
     "metadata": {},
     "output_type": "execute_result"
    },
    {
     "data": {
      "image/png": "[encoded data removed]",
      "text/plain": [
       "<Figure size 432x288 with 1 Axes>"
      ]
     },
     "metadata": {},
     "output_type": "display_data"
    }
   ],
   "source": [
    "pv_melt = melt.pivot_table(index='variable', values='value')\n",
    "pv_melt.plot(kind='pie', y='value', legend=False)"
   ]
  },
  {
   "cell_type": "code",
   "execution_count": null,
   "metadata": {},
   "outputs": [],
   "source": []
  }
 ],
 "metadata": {
  "kernelspec": {
   "display_name": "Python 3",
   "language": "python",
   "name": "python3"
  },
  "language_info": {
   "codemirror_mode": {
    "name": "ipython",
    "version": 3
   },
   "file_extension": ".py",
   "mimetype": "text/x-python",
   "name": "python",
   "nbconvert_exporter": "python",
   "pygments_lexer": "ipython3",
   "version": "3.7.3"
  }
 },
 "nbformat": 4,
 "nbformat_minor": 2
}
