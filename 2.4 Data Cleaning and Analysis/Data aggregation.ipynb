{
 "cells": [
  {
   "cell_type": "markdown",
   "metadata": {},
   "source": [
    "# Aggregate Data with pandas\n",
    "\n",
    "we'll work with the World Happiness Report, an annual report created by the UN Sustainable Development Solutions Network with the intent of guiding policy. The report assigns each country a happiness score based on the answers to a poll question that asks respondents to rank their life on a scale of 0 - 10.\n",
    "\n",
    " - How can aggregating the data give us more insight into happiness scores?\n",
    " - How did world happiness change from 2015 to 2017?\n",
    " - Which factors contribute the most to the happiness score?"
   ]
  },
  {
   "cell_type": "code",
   "execution_count": 1,
   "metadata": {},
   "outputs": [
    {
     "name": "stdout",
     "output_type": "stream",
     "text": [
      "<class 'pandas.core.frame.DataFrame'>\n",
      "RangeIndex: 158 entries, 0 to 157\n",
      "Data columns (total 12 columns):\n",
      "Country                          158 non-null object\n",
      "Region                           158 non-null object\n",
      "Happiness Rank                   158 non-null int64\n",
      "Happiness Score                  158 non-null float64\n",
      "Standard Error                   158 non-null float64\n",
      "Economy (GDP per Capita)         158 non-null float64\n",
      "Family                           158 non-null float64\n",
      "Health (Life Expectancy)         158 non-null float64\n",
      "Freedom                          158 non-null float64\n",
      "Trust (Government Corruption)    158 non-null float64\n",
      "Generosity                       158 non-null float64\n",
      "Dystopia Residual                158 non-null float64\n",
      "dtypes: float64(9), int64(1), object(2)\n",
      "memory usage: 14.9+ KB\n"
     ]
    }
   ],
   "source": [
    "import pandas as pd\n",
    "\n",
    "happiness2015 = pd.read_csv(\"World_Happiness_2015.csv\")\n",
    "first_5 = happiness2015.head()\n",
    "happiness2015.info()"
   ]
  },
  {
   "cell_type": "markdown",
   "metadata": {},
   "source": [
    "#### Identify each unique group in the data set.\n",
    "\n",
    "- For each group:\n",
    "  - Select only the rows corresponding to that group.\n",
    "  - Calculate the average for those rows."
   ]
  },
  {
   "cell_type": "code",
   "execution_count": 3,
   "metadata": {},
   "outputs": [],
   "source": [
    "mean_happiness = {}\n",
    "regions = happiness2015['Region'].unique()\n",
    "for r in regions:\n",
    "    # Split the dataframe into groups\n",
    "    region_group = happiness2015[happiness2015['Region'] == r]\n",
    "    # Apply a function to each group\n",
    "    region_mean = region_group['Happiness Score'].mean()\n",
    "    # Combine the results into one data structure\n",
    "    mean_happiness[r] = region_mean"
   ]
  },
  {
   "cell_type": "code",
   "execution_count": 5,
   "metadata": {},
   "outputs": [],
   "source": [
    "# Use the df.groupby() method to group happiness2015 by the Region column\n",
    "grouped = happiness2015.groupby('Region')\n",
    "\n",
    "# Use the GroupBy.get_group() method to select the data \n",
    "# for the Australia and New Zealand group only.\n",
    "aus_nz = grouped.get_group('Australia and New Zealand')"
   ]
  },
  {
   "cell_type": "code",
   "execution_count": 8,
   "metadata": {},
   "outputs": [],
   "source": [
    "# use the result from the dictionary returned by grouped.groups\n",
    "# 'North America': Int64Index([4, 14], dtype='int64'\n",
    "\n",
    "# Prove that the values for the 'North America' group in the dictionary \n",
    "# returned by grouped.groups above correspond to countries in North America \n",
    "# in the happiness2015 dataframe.\n",
    "\n",
    "# Use the snippet above to identify the indexes of the countries \n",
    "# in happiness2015 that belong to the North America group.\n",
    "\n",
    "grouped = happiness2015.groupby('Region')\n",
    "\n",
    "# Use the indexes to assign just the countries in North America \n",
    "# in happiness2015 to north_america.\n",
    "north_america = happiness2015.iloc[[4,14]]\n",
    "\n",
    "\n",
    "# Use the GroupBy.get_group() method to select the data for the \n",
    "# North America group only. Assign the result to na_group.\n",
    "\n",
    "\n",
    "na_group = grouped.get_group('North America')\n",
    "\n",
    "equal = north_america == na_group"
   ]
  },
  {
   "cell_type": "code",
   "execution_count": 9,
   "metadata": {},
   "outputs": [],
   "source": [
    "# Apply the GroupBy.mean() method to grouped. \n",
    "# Assign the result to means.\n",
    "means = grouped.mean()"
   ]
  },
  {
   "cell_type": "code",
   "execution_count": 10,
   "metadata": {},
   "outputs": [],
   "source": [
    "happy_grouped = grouped['Happiness Score']\n",
    "happy_mean = happy_grouped.mean()"
   ]
  },
  {
   "cell_type": "code",
   "execution_count": 12,
   "metadata": {},
   "outputs": [],
   "source": [
    "#  GroupBy.agg() method\n",
    "import numpy as np\n",
    "def dif(group):\n",
    "    return (group.max() - group.mean())\n",
    "happy_mean_max = happy_grouped.agg([np.mean, np.max])\n",
    "mean_max_dif = happy_grouped.agg(dif)"
   ]
  },
  {
   "cell_type": "code",
   "execution_count": 13,
   "metadata": {},
   "outputs": [
    {
     "name": "stdout",
     "output_type": "stream",
     "text": [
      "Region\n",
      "Australia and New Zealand          7.285000\n",
      "Central and Eastern Europe         5.332931\n",
      "Eastern Asia                       5.626167\n",
      "Latin America and Caribbean        6.144682\n",
      "Middle East and Northern Africa    5.406900\n",
      "North America                      7.273000\n",
      "Southeastern Asia                  5.317444\n",
      "Southern Asia                      4.580857\n",
      "Sub-Saharan Africa                 4.202800\n",
      "Western Europe                     6.689619\n",
      "Name: Happiness Score, dtype: float64\n"
     ]
    }
   ],
   "source": [
    "happiness_means = happiness2015.groupby('Region')['Happiness Score'].mean()\n",
    "happiness_means = happiness2015.groupby('Region')['Happiness Score'].mean()\n",
    "print(happiness_means)"
   ]
  },
  {
   "cell_type": "code",
   "execution_count": 14,
   "metadata": {},
   "outputs": [
    {
     "data": {
      "image/png": "[encoded data removed]",
      "text/plain": [
       "<Figure size 432x288 with 1 Axes>"
      ]
     },
     "metadata": {
      "needs_background": "light"
     },
     "output_type": "display_data"
    }
   ],
   "source": [
    "pv_happiness = happiness2015.pivot_table(values='Happiness Score', index='Region', aggfunc=np.mean, margins=True)\n",
    "pv_happiness.plot(kind='barh', xlim=(0,10), title='Mean Happiness Scores by Region', legend=False)\n",
    "world_mean_happiness = happiness2015['Happiness Score'].mean()"
   ]
  },
  {
   "cell_type": "code",
   "execution_count": 15,
   "metadata": {},
   "outputs": [],
   "source": [
    "grouped = happiness2015.groupby('Region')[['Happiness Score','Family']]\n",
    "happy_family_stats = grouped.agg([np.min, np.max, np.mean])\n",
    "pv_happy_family_stats = happiness2015.pivot_table(['Happiness Score', 'Family'], 'Region', aggfunc=[np.min, np.max, np.mean], margins=True)"
   ]
  },
  {
   "cell_type": "code",
   "execution_count": null,
   "metadata": {},
   "outputs": [],
   "source": []
  }
 ],
 "metadata": {
  "kernelspec": {
   "display_name": "Python 3",
   "language": "python",
   "name": "python3"
  },
  "language_info": {
   "codemirror_mode": {
    "name": "ipython",
    "version": 3
   },
   "file_extension": ".py",
   "mimetype": "text/x-python",
   "name": "python",
   "nbconvert_exporter": "python",
   "pygments_lexer": "ipython3",
   "version": "3.7.3"
  }
 },
 "nbformat": 4,
 "nbformat_minor": 2
}
