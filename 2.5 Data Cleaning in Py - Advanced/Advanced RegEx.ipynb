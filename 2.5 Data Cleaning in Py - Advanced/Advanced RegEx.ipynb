{
 "cells": [
  {
   "cell_type": "code",
   "execution_count": 1,
   "metadata": {},
   "outputs": [],
   "source": [
    "import pandas as pd\n",
    "import re\n",
    "\n",
    "hn = pd.read_csv(\"hacker_news.csv\")\n",
    "titles = hn['title']"
   ]
  },
  {
   "cell_type": "code",
   "execution_count": 2,
   "metadata": {},
   "outputs": [],
   "source": [
    "\n",
    "pattern = r\"sql\"\n",
    "sql_counts = titles.str.contains(pattern, flags=re.I).sum()"
   ]
  },
  {
   "cell_type": "code",
   "execution_count": 3,
   "metadata": {},
   "outputs": [],
   "source": [
    "# new dataframe, hn_sql, including only rows that mention a SQL flavor\n",
    "hn_sql = hn[hn['title'].str.contains(r\"\\w+SQL\", flags=re.I)].copy()\n",
    "\n",
    "# Create a new column called flavor in the hn_sql dataframe, \n",
    "# containing extracted mentions of SQL flavors, defined as:\n",
    "# Any time 'SQL' is preceded by one or more word characters.\n",
    "# Ignoring all case variation.\n",
    "hn_sql[\"flavor\"] = hn_sql[\"title\"].str.extract(r\"(\\w+SQL)\", re.I)\n",
    "\n",
    "\n",
    "# Use the Series.str.lower() method to converting to lowercase - cleaning\n",
    "hn_sql[\"flavor\"] = hn_sql[\"flavor\"].str.lower()\n",
    "\n",
    "# Use the DataFrame.pivot_table() method to create a pivot table, sql_pivot.\n",
    "# index of the pivot table = flavor column.\n",
    "# values of the pivot table = the mean of the num_comments column, aggregated by SQL flavor.\n",
    "sql_pivot = hn_sql.pivot_table(index=\"flavor\", values=\"num_comments\", aggfunc='mean')"
   ]
  },
  {
   "cell_type": "code",
   "execution_count": 5,
   "metadata": {},
   "outputs": [],
   "source": [
    "pattern = r\"[Pp]ython ([\\d\\.]+)\"\n",
    "\n",
    "# DataQuest platform is using Pandas version 0.22.0. \n",
    "# expand parameter is set to False by default in str.extract(). \n",
    "# expand= False will return a Series if there is only 1 capture group.\n",
    "py_versions = titles.str.extract(pattern, re.I, expand=False)\n",
    "\n",
    "py_versions_freq = dict(py_versions.value_counts())"
   ]
  },
  {
   "cell_type": "code",
   "execution_count": 8,
   "metadata": {},
   "outputs": [],
   "source": [
    "def first_10_matches(pattern):\n",
    "    \"\"\"\n",
    "    Return the first 10 story titles that match\n",
    "    the provided regular expression\n",
    "    \"\"\"\n",
    "    all_matches = titles[titles.str.contains(pattern)]\n",
    "    first_10 = all_matches.head(10)\n",
    "    return first_10\n",
    "\n",
    "#  use a negative set to prevent matches for \n",
    "# the + character and the . character (cases C++ or C.E.O.)\n",
    "pattern = r\"\\b[Cc]\\b[^.+]\"\n",
    "first_ten = first_10_matches(pattern)"
   ]
  },
  {
   "cell_type": "code",
   "execution_count": 9,
   "metadata": {},
   "outputs": [
    {
     "name": "stdout",
     "output_type": "stream",
     "text": [
      "<re.Match object; span=(4, 9), match='Green'>\n",
      "NO MATCH\n",
      "NO MATCH\n",
      "<re.Match object; span=(7, 12), match='Green'>\n",
      "NO MATCH\n"
     ]
    }
   ],
   "source": [
    "### Using Lookarounds\n",
    "\n",
    "test_cases = ['Red_Green_Blue',\n",
    "              'Yellow_Green_Red',\n",
    "              'Red_Green_Red',\n",
    "              'Yellow_Green_Blue',\n",
    "              'Green']\n",
    "\n",
    "def run_test_cases(pattern):\n",
    "    for tc in test_cases:\n",
    "        result = re.search(pattern, tc)\n",
    "        print(result or \"NO MATCH\")\n",
    "        \n",
    "        \n",
    "        \n",
    "run_test_cases(r\"Green(?=_Blue)\")"
   ]
  },
  {
   "cell_type": "code",
   "execution_count": 10,
   "metadata": {},
   "outputs": [],
   "source": [
    "# Match instances of C or c where they are not preceded or followed by another letter.\n",
    "# Exclude instances where the match is followed by a . or + character, \n",
    "# without removing instances where the match occurs at the end of the string.\n",
    "# Exclude instances where the word 'Series' immediately precedes the match.\n",
    "\n",
    "pattern = r\"(?<!Series\\s)\\b[Cc]\\b(?![\\+\\.])\"\n",
    "\n",
    "c_mentions = titles.str.contains(pattern).sum()"
   ]
  },
  {
   "cell_type": "code",
   "execution_count": 12,
   "metadata": {},
   "outputs": [],
   "source": [
    "# identify story titles that have repeated words\n",
    "\n",
    "pattern = r\"\\b(\\w+)\\s\\1\\b\"\n",
    "\n",
    "repeated_words = titles[titles.str.contains(pattern)]"
   ]
  },
  {
   "cell_type": "code",
   "execution_count": 13,
   "metadata": {},
   "outputs": [],
   "source": [
    "email_variations = pd.Series(['email', 'Email', 'e Mail',\n",
    "                        'e mail', 'E-mail', 'e-mail',\n",
    "                        'eMail', 'E-Mail', 'EMAIL'])\n",
    "\n",
    "pattern = r\"e[\\-\\s]?mail\"\n",
    "\n",
    "email_uniform = email_variations.str.replace(pattern, \"email\", flags=re.I)\n",
    "\n",
    "titles_clean = titles.str.replace(pattern, \"email\", flags=re.I)"
   ]
  },
  {
   "cell_type": "code",
   "execution_count": 14,
   "metadata": {},
   "outputs": [],
   "source": [
    "test_urls = pd.Series([\n",
    " 'https://www.amazon.com/Technology-Ventures-Enterprise-Thomas-Byers/dp/0073523429',\n",
    " 'http://www.interactivedynamicvideo.com/',\n",
    " 'http://www.nytimes.com/2007/11/07/movies/07stein.html?_r=0',\n",
    " 'http://evonomics.com/advertising-cannot-maintain-internet-heres-solution/',\n",
    " 'HTTPS://github.com/keppel/pinn',\n",
    " 'Http://phys.org/news/2015-09-scale-solar-youve.html',\n",
    " 'https://iot.seeed.cc',\n",
    " 'http://www.bfilipek.com/2016/04/custom-deleters-for-c-smart-pointers.html',\n",
    " 'http://beta.crowdfireapp.com/?beta=agnipath',\n",
    " 'https://www.valid.ly?param'\n",
    "])\n",
    "pattern = r\"https?://([\\w\\.]+)\"\n",
    "\n",
    "test_urls_clean = test_urls.str.extract(pattern, flags=re.I, expand=False)\n",
    "domains = hn['url'].str.extract(pattern, flags=re.I, expand=False)\n",
    "top_domains = domains.value_counts().head(20)"
   ]
  },
  {
   "cell_type": "code",
   "execution_count": 16,
   "metadata": {},
   "outputs": [],
   "source": [
    "# capture   protocol://domain/path\n",
    "pattern = r\"(.+)://([\\w\\.]+)/?(.*)\"\n",
    "\n",
    "test_url_parts = test_urls.str.extract(pattern, flags=re.I, expand=False)\n",
    "\n",
    "url_parts = hn['url'].str.extract(pattern, flags=re.I, expand=False)"
   ]
  },
  {
   "cell_type": "code",
   "execution_count": 17,
   "metadata": {},
   "outputs": [
    {
     "name": "stdout",
     "output_type": "stream",
     "text": [
      "      protocol                           domain  \\\n",
      "0         http  www.interactivedynamicvideo.com   \n",
      "1         http                   hueniverse.com   \n",
      "2         http                  www.thewire.com   \n",
      "3        https                   www.amazon.com   \n",
      "4         http                  www.nytimes.com   \n",
      "...        ...                              ...   \n",
      "20095    https                          puri.sm   \n",
      "20096    https                       medium.com   \n",
      "20097     http               blog.darknedgy.net   \n",
      "20098    https                       medium.com   \n",
      "20099    https                       github.com   \n",
      "\n",
      "                                                    path  \n",
      "0                                                         \n",
      "1      2016/01/26/how-to-use-open-source-and-shut-the...  \n",
      "2      entertainment/2013/04/florida-djs-april-fools-...  \n",
      "3      Technology-Ventures-Enterprise-Thomas-Byers/dp...  \n",
      "4                    2007/11/07/movies/07stein.html?_r=0  \n",
      "...                                                  ...  \n",
      "20095  philosophy/how-purism-avoids-intels-active-man...  \n",
      "20096  @zreitano/the-yc-application-broken-down-and-t...  \n",
      "20097                           technology/2016/01/01/0/  \n",
      "20098  @benjiwheeler/how-product-hunt-really-works-d8...  \n",
      "20099                                 jmcarp/robobrowser  \n",
      "\n",
      "[20100 rows x 3 columns]\n"
     ]
    }
   ],
   "source": [
    "# Using named capture groups\n",
    "pattern = r\"(?P<protocol>.+)://(?P<domain>[\\w\\.]+)/?(?P<path>.*)\"\n",
    "\n",
    "\n",
    "url_parts = hn['url'].str.extract(pattern, flags=re.I, expand=False)\n",
    "\n",
    "print(url_parts)"
   ]
  },
  {
   "cell_type": "code",
   "execution_count": null,
   "metadata": {},
   "outputs": [],
   "source": []
  }
 ],
 "metadata": {
  "kernelspec": {
   "display_name": "Python 3",
   "language": "python",
   "name": "python3"
  },
  "language_info": {
   "codemirror_mode": {
    "name": "ipython",
    "version": 3
   },
   "file_extension": ".py",
   "mimetype": "text/x-python",
   "name": "python",
   "nbconvert_exporter": "python",
   "pygments_lexer": "ipython3",
   "version": "3.7.3"
  }
 },
 "nbformat": 4,
 "nbformat_minor": 2
}
