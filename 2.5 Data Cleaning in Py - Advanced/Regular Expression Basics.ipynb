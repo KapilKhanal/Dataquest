{
 "cells": [
  {
   "cell_type": "code",
   "execution_count": 2,
   "metadata": {},
   "outputs": [],
   "source": [
    "#   (.+)://([\\w\\.]+)/?(.*)"
   ]
  },
  {
   "cell_type": "code",
   "execution_count": 19,
   "metadata": {},
   "outputs": [],
   "source": [
    "import numpy as np\n",
    "import pandas as pd\n",
    "import matplotlib.pyplot as plt\n",
    "import seaborn as sns\n",
    "\n",
    "# This will need to be done in the future so \n",
    "# get accustomed to using now\n",
    "from pandas.plotting import register_matplotlib_converters\n",
    "register_matplotlib_converters()\n",
    "\n",
    "%matplotlib inline"
   ]
  },
  {
   "cell_type": "code",
   "execution_count": 20,
   "metadata": {},
   "outputs": [],
   "source": [
    "hn = pd.read_csv(\"hacker_news.csv\")"
   ]
  },
  {
   "cell_type": "code",
   "execution_count": 21,
   "metadata": {},
   "outputs": [
    {
     "name": "stdout",
     "output_type": "stream",
     "text": [
      "160\n"
     ]
    }
   ],
   "source": [
    "import re\n",
    "\n",
    "titles = hn[\"title\"].tolist()\n",
    "\n",
    "python_mentions = 0 \n",
    "\n",
    "pattern = \"[Pp]ython\"\n",
    "\n",
    "for s in titles:\n",
    "    if re.search(pattern, s):\n",
    "        python_mentions += 1\n",
    "\n",
    "print(python_mentions)"
   ]
  },
  {
   "cell_type": "code",
   "execution_count": 22,
   "metadata": {},
   "outputs": [
    {
     "name": "stdout",
     "output_type": "stream",
     "text": [
      "160\n"
     ]
    }
   ],
   "source": [
    "pattern = '[Pp]ython'\n",
    "\n",
    "titles  = hn[\"title\"]\n",
    "\n",
    "pattern_contained = titles.str.contains(pattern)\n",
    "pattern_count = pattern_contained.sum()\n",
    "\n",
    "# Chained, same as 2 lines above\n",
    "python_mentions = titles.str.contains(pattern).sum()\n",
    "\n",
    "\n",
    "print(python_mentions)"
   ]
  },
  {
   "cell_type": "code",
   "execution_count": 23,
   "metadata": {},
   "outputs": [
    {
     "name": "stdout",
     "output_type": "stream",
     "text": [
      "0    False\n",
      "1    False\n",
      "2    False\n",
      "3    False\n",
      "4    False\n",
      "Name: title, dtype: bool\n",
      "103                  From Python to Lua: Why We Switched\n",
      "104            Ubuntu 16.04 LTS to Ship Without Python 2\n",
      "145    Create a GUI Application Using Qt and Python i...\n",
      "197    How I Solved GCHQ's Xmas Card with Python and ...\n",
      "437    Unikernel Power Comes to Java, Node.js, Go, an...\n",
      "Name: title, dtype: object\n",
      "103                  From Python to Lua: Why We Switched\n",
      "104            Ubuntu 16.04 LTS to Ship Without Python 2\n",
      "145    Create a GUI Application Using Qt and Python i...\n",
      "197    How I Solved GCHQ's Xmas Card with Python and ...\n",
      "437    Unikernel Power Comes to Java, Node.js, Go, an...\n",
      "Name: title, dtype: object\n",
      "191                     Ruby on Google AppEngine Goes Beta\n",
      "485           Related: Pure Ruby Relational Algebra Engine\n",
      "1389     Show HN: HTTPalooza  Ruby's greatest HTTP clie...\n",
      "1950     Rewriting a Ruby C Extension in Rust: How a Na...\n",
      "2023     Show HN: CrashBreak  Reproduce exceptions as f...\n",
      "2164                   Ruby 2.3 Is Only 4% Faster than 2.2\n",
      "2307     Websocket Shootout: Clojure, C++, Elixir, Go, ...\n",
      "2621                       Why Startups Use Ruby on Rails?\n",
      "2646     Ask HN: Should I continue working a Ruby gem f...\n",
      "3291     Ruby on Rails and the importance of being stup...\n",
      "3750     Telegram.org Bot Platform Webhooks Server, for...\n",
      "3875     Warp Directory (wd) unix command line tool for...\n",
      "4027     OS X 10.11 Ruby / Rails users can install ther...\n",
      "4164     Charles Nutter of JRuby Banned by Rubinius for...\n",
      "4603     Quiz: Ruby or Rails? Matz and DHH were not abl...\n",
      "5833     Show HN: An experimental Python to C#/Go/Ruby/...\n",
      "6181     Shrine  A new solution for handling file uploa...\n",
      "7172     JRuby+Truffle: Why its important to optimise t...\n",
      "7236                                        Ruby or Rails?\n",
      "7672                    How I hunted the most odd ruby bug\n",
      "7777     Elixir obsoletes Ruby, Erlang and Clojure in o...\n",
      "7871                            Elixir and Ruby Comparison\n",
      "8503     Show HN: Di-ary  a math note-taking app built ...\n",
      "10213               Ruby has been fast enough for 13 years\n",
      "11061    Show HN: VeryAnts: Probabilistic Integer Arith...\n",
      "11535                             The Ruby Code of Conduct\n",
      "11623    FasterPath: Faster Pathname Handling for Ruby ...\n",
      "12062       Ask HN: What's your favorite ruby HTTP client?\n",
      "12092    Show HN: Automated Bundle Update with Descript...\n",
      "12115                                         Awesome Ruby\n",
      "12544    Ruby Bug: SecureRandom should try /dev/urandom...\n",
      "12988    Show HN: Klipse  code evaluator pluggable on a...\n",
      "13551    Matz: I cannot accept the CoC for the Ruby com...\n",
      "13651                  Programs that rewrite Ruby programs\n",
      "14799                  Ruby Wrapper for Telegram's Bot API\n",
      "14981                    A Ruby gem for genetic algorithms\n",
      "16094                          Master Ruby Web APIs Is Out\n",
      "16150         Ruru: native Ruby extensions written in Rust\n",
      "16328                   Make Ruby Great Again [transcript]\n",
      "16423                                 Object Oriented Ruby\n",
      "16537                           Ruby Deoptimization Engine\n",
      "16876                         Video: Make Ruby Great Again\n",
      "17073    A coupon/deals site built using Roda gem for Ruby\n",
      "17511                        Table Flip on Ruby Exceptions\n",
      "18878    Using Rust with Ruby, a Deep Dive with Yehuda ...\n",
      "19078                           Python is Better than Ruby\n",
      "19225                    Modern concurrency tools for Ruby\n",
      "19744    Using a Neural Network to Train a Ruby Twitter...\n",
      "Name: title, dtype: object\n"
     ]
    }
   ],
   "source": [
    "titles = hn['title']\n",
    "\n",
    "py_titles_bool = titles.str.contains(\"[Pp]ython\")\n",
    "print(py_titles_bool.head())\n",
    "py_titles = titles[py_titles_bool]\n",
    "print(py_titles.head())\n",
    "\n",
    "# Again, chaining the bool \n",
    "py_titles = titles[titles.str.contains(\"[Pp]ython\")]\n",
    "print(py_titles.head())\n",
    "\n",
    "ruby_titles = titles[titles.str.contains(\"[Rr]uby\")]\n",
    "\n",
    "print(ruby_titles)"
   ]
  },
  {
   "cell_type": "code",
   "execution_count": 24,
   "metadata": {},
   "outputs": [
    {
     "name": "stdout",
     "output_type": "stream",
     "text": [
      "86\n",
      "120      Show HN: Send an email from your shell to your...\n",
      "314          Disposable emails for safe spam free shopping\n",
      "1362     Ask HN: Doing cold emails? helps us prove this...\n",
      "1751     Protect yourself from spam, bots and phishing ...\n",
      "2422                    Ashley Madison hack treating email\n",
      "                               ...                        \n",
      "18099    House panel looking into Reddit post about Cli...\n",
      "18584    Mailgen  Generates clean, responsive HTML for ...\n",
      "18848    Show HN: Crisp iOS keyboard for email and text...\n",
      "19304    Ask HN: Why big email providers don't sign the...\n",
      "19447    Tell HN: Secure email provider Riseup will run...\n",
      "Name: title, Length: 86, dtype: object\n"
     ]
    }
   ],
   "source": [
    "email_bool = titles.str.contains(\"e-?mail\")\n",
    "email_count = email_bool.sum()\n",
    "email_titles = titles[email_bool]\n",
    "\n",
    "print(email_count)\n",
    "print(email_titles)"
   ]
  },
  {
   "cell_type": "code",
   "execution_count": 25,
   "metadata": {},
   "outputs": [
    {
     "name": "stdout",
     "output_type": "stream",
     "text": [
      "86\n",
      "120      Show HN: Send an email from your shell to your...\n",
      "314          Disposable emails for safe spam free shopping\n",
      "1362     Ask HN: Doing cold emails? helps us prove this...\n",
      "1751     Protect yourself from spam, bots and phishing ...\n",
      "2422                    Ashley Madison hack treating email\n",
      "                               ...                        \n",
      "18099    House panel looking into Reddit post about Cli...\n",
      "18584    Mailgen  Generates clean, responsive HTML for ...\n",
      "18848    Show HN: Crisp iOS keyboard for email and text...\n",
      "19304    Ask HN: Why big email providers don't sign the...\n",
      "19447    Tell HN: Secure email provider Riseup will run...\n",
      "Name: title, Length: 86, dtype: object\n"
     ]
    }
   ],
   "source": [
    "# Again, a different way\n",
    "\n",
    "email_titles = titles[titles.str.contains(\"e-?mail\")]\n",
    "\n",
    "email_count = titles.str.contains(\"e-?mail\").sum()\n",
    "print(email_count)\n",
    "print(email_titles)"
   ]
  },
  {
   "cell_type": "code",
   "execution_count": 26,
   "metadata": {},
   "outputs": [
    {
     "name": "stdout",
     "output_type": "stream",
     "text": [
      "67       Analysis of 114 propaganda sources from ISIS, ...\n",
      "101      Munich Gunman Got Weapon from the Darknet [Ger...\n",
      "160           File indexing and searching for Plan 9 [pdf]\n",
      "163      Attack on Kunduz Trauma Centre, Afghanistan  I...\n",
      "196                 [Beta] Speedtest.net  HTML5 Speed Test\n",
      "                               ...                        \n",
      "19764    TSA can now force you to go through body scann...\n",
      "19868                       Using Pony for Fintech [video]\n",
      "19948                                Swift Reversing [pdf]\n",
      "19980    WSJ/Dowjones Announce Unauthorized Access Betw...\n",
      "20090    Users Really Do Plug in USB Drives They Find [...\n",
      "Name: title, Length: 444, dtype: object\n",
      "444\n"
     ]
    }
   ],
   "source": [
    "pattern = \"\\[\\w+\\]\"\n",
    "\n",
    "\n",
    "tag_titles = titles[titles.str.contains(pattern)]\n",
    "\n",
    "tag_count = tag_titles.shape[0]\n",
    "\n",
    "print(tag_titles)\n",
    "print(tag_count)"
   ]
  },
  {
   "cell_type": "code",
   "execution_count": 48,
   "metadata": {},
   "outputs": [
    {
     "name": "stdout",
     "output_type": "stream",
     "text": [
      "0        NaN\n",
      "1        NaN\n",
      "2        NaN\n",
      "3        NaN\n",
      "4        NaN\n",
      "        ... \n",
      "20095    NaN\n",
      "20096    NaN\n",
      "20097    NaN\n",
      "20098    NaN\n",
      "20099    NaN\n",
      "Name: title, Length: 20100, dtype: object\n"
     ]
    }
   ],
   "source": [
    "pattern = r\"\\[(\\w+)\\]\"\n",
    "\n",
    "# tag_matches = titles.str.extract(pattern)\n",
    "\n",
    "# DataQuest platform is using Pandas version 0.22.0. \n",
    "# expand parameter is set to False by default in str.extract(). \n",
    "# expand= False will return a Series if there is only 1 capture group.\n",
    "tag_matches = titles.str.extract(pattern, expand=False)\n",
    "print(tag_matches)\n",
    "\n"
   ]
  },
  {
   "cell_type": "code",
   "execution_count": 49,
   "metadata": {},
   "outputs": [
    {
     "name": "stdout",
     "output_type": "stream",
     "text": [
      "pdf            276\n",
      "video          111\n",
      "audio            3\n",
      "2015             3\n",
      "2014             2\n",
      "slides           2\n",
      "beta             2\n",
      "videos           1\n",
      "CSS              1\n",
      "Benchmark        1\n",
      "USA              1\n",
      "coffee           1\n",
      "transcript       1\n",
      "GOST             1\n",
      "Challenge        1\n",
      "map              1\n",
      "SPA              1\n",
      "ask              1\n",
      "Australian       1\n",
      "Live             1\n",
      "1996             1\n",
      "Skinnywhale      1\n",
      "NSFW             1\n",
      "React            1\n",
      "HBR              1\n",
      "png              1\n",
      "survey           1\n",
      "Petition         1\n",
      "SpaceX           1\n",
      "viz              1\n",
      "Python           1\n",
      "Excerpt          1\n",
      "satire           1\n",
      "2008             1\n",
      "Map              1\n",
      "Beta             1\n",
      "detainee         1\n",
      "crash            1\n",
      "5                1\n",
      "German           1\n",
      "JavaScript       1\n",
      "repost           1\n",
      "Ubuntu           1\n",
      "blank            1\n",
      "updated          1\n",
      "gif              1\n",
      "song             1\n",
      "ANNOUNCE         1\n",
      "comic            1\n",
      "much             1\n",
      "Infograph        1\n",
      "Videos           1\n",
      "Name: title, dtype: int64\n"
     ]
    }
   ],
   "source": [
    "tag_freq = tag_matches.value_counts()\n",
    "print(tag_freq)"
   ]
  },
  {
   "cell_type": "code",
   "execution_count": 39,
   "metadata": {},
   "outputs": [
    {
     "data": {
      "text/plain": [
       "437     Unikernel Power Comes to Java, Node.js, Go, an...\n",
       "812     Ask HN: Are there any projects or compilers wh...\n",
       "1841                    Adopting RxJava on the Airbnb App\n",
       "1973          Node.js vs. Java: Which Is Faster for APIs?\n",
       "2094                    Java EE and Microservices in 2016\n",
       "2368    Code that is valid in both PHP and Java, and p...\n",
       "2494    Ask HN: I've been a java dev for a couple of y...\n",
       "2752                Eventsourcing for Java 0.4.0 released\n",
       "2911                2016 JavaOne Intel Keynote  32mn Talk\n",
       "3453    What are the Differences Between Java Platform...\n",
       "Name: title, dtype: object"
      ]
     },
     "execution_count": 39,
     "metadata": {},
     "output_type": "execute_result"
    }
   ],
   "source": [
    "def first_10_matches(pattern):\n",
    "    \"\"\"\n",
    "    Return the first 10 story titles that match\n",
    "    the provided regular expression\n",
    "    \"\"\"\n",
    "    all_matches = titles[titles.str.contains(pattern)]\n",
    "    first_10 = all_matches.head(10)\n",
    "    return first_10\n",
    "\n",
    "first_10_matches(r\"[Jj]ava[^Ss]\")"
   ]
  },
  {
   "cell_type": "code",
   "execution_count": 44,
   "metadata": {},
   "outputs": [],
   "source": [
    "\n",
    "\n",
    "def All_matches(pattern):\n",
    "    \"\"\"\n",
    "    Return all story titles that match\n",
    "    the provided regular expression\n",
    "    \"\"\"\n",
    "    all_matches = titles[titles.str.contains(pattern)]\n",
    "    \n",
    "    return all_matches\n",
    "\n",
    "## Doesn't return strings with Java at the end of the phrase\n",
    "java_titles = All_matches(r\"[Jj]ava[^Ss]\")\n"
   ]
  },
  {
   "cell_type": "code",
   "execution_count": 45,
   "metadata": {},
   "outputs": [],
   "source": [
    "# Use word boundary anchor \\b\n",
    "java_titles = All_matches(r\"\\b[Jj]ava\\b\")"
   ]
  },
  {
   "cell_type": "code",
   "execution_count": 46,
   "metadata": {},
   "outputs": [],
   "source": [
    "# find the count of those with a tag at the beginning\n",
    "beginning_count = titles.str.contains(r\"^\\[\\w+\\]\").sum()\n",
    "\n",
    "# find the count of those with a tag at the end\n",
    "ending_count = titles.str.contains(r\"\\[\\w+\\]$\").sum()"
   ]
  },
  {
   "cell_type": "code",
   "execution_count": 47,
   "metadata": {},
   "outputs": [
    {
     "name": "stdout",
     "output_type": "stream",
     "text": [
      "143\n"
     ]
    }
   ],
   "source": [
    "email_tests = pd.Series(['email', 'Email', 'e Mail', 'e mail', 'E-mail',\n",
    "              'e-mail', 'eMail', 'E-Mail', 'EMAIL'])\n",
    "\n",
    "pattern = r\"\\be[\\-\\s]?mail\"\n",
    "email_mentions = titles.str.contains(pattern, flags=re.I).sum()\n",
    "\n",
    "print(email_mentions)"
   ]
  },
  {
   "cell_type": "code",
   "execution_count": null,
   "metadata": {},
   "outputs": [],
   "source": []
  }
 ],
 "metadata": {
  "kernelspec": {
   "display_name": "Python 3",
   "language": "python",
   "name": "python3"
  },
  "language_info": {
   "codemirror_mode": {
    "name": "ipython",
    "version": 3
   },
   "file_extension": ".py",
   "mimetype": "text/x-python",
   "name": "python",
   "nbconvert_exporter": "python",
   "pygments_lexer": "ipython3",
   "version": "3.7.3"
  }
 },
 "nbformat": 4,
 "nbformat_minor": 2
}
