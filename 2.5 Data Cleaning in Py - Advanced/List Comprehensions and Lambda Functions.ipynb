{
 "cells": [
  {
   "cell_type": "code",
   "execution_count": 2,
   "metadata": {},
   "outputs": [],
   "source": [
    "import json"
   ]
  },
  {
   "cell_type": "code",
   "execution_count": 3,
   "metadata": {},
   "outputs": [
    {
     "name": "stdout",
     "output_type": "stream",
     "text": [
      "<class 'list'>\n"
     ]
    }
   ],
   "source": [
    "world_cup_str = \"\"\"\n",
    "[\n",
    "    {\n",
    "        \"team_1\": \"France\",\n",
    "        \"team_2\": \"Croatia\",\n",
    "        \"game_type\": \"Final\",\n",
    "        \"score\" : [4, 2]\n",
    "    },\n",
    "    {\n",
    "        \"team_1\": \"Belgium\",\n",
    "        \"team_2\": \"England\",\n",
    "        \"game_type\": \"3rd/4th Playoff\",\n",
    "        \"score\" : [2, 0]\n",
    "    }\n",
    "]\n",
    "\"\"\"\n",
    "\n",
    "\n",
    "world_cup_obj = json.loads(world_cup_str)\n",
    "print(type(world_cup_obj))"
   ]
  },
  {
   "cell_type": "code",
   "execution_count": 4,
   "metadata": {},
   "outputs": [
    {
     "name": "stdout",
     "output_type": "stream",
     "text": [
      "35806\n",
      "<class 'dict'>\n",
      "dict_keys(['author', 'numComments', 'points', 'url', 'storyText', 'createdAt', 'tags', 'createdAtI', 'title', 'objectId'])\n"
     ]
    }
   ],
   "source": [
    "\n",
    "file = open(\"hn_2014.json\")\n",
    "hn = json.load(file)\n",
    "\n",
    "print(len(hn))\n",
    "print(type(hn[0]))\n",
    "print(hn[0].keys())"
   ]
  },
  {
   "cell_type": "code",
   "execution_count": 5,
   "metadata": {},
   "outputs": [],
   "source": [
    "def del_key(dict_, key):\n",
    "    # create a copy so we don't\n",
    "    # modify the original dict\n",
    "    modified_dict = dict_.copy()\n",
    "    del modified_dict[key]\n",
    "    return modified_dict"
   ]
  },
  {
   "cell_type": "code",
   "execution_count": 6,
   "metadata": {},
   "outputs": [
    {
     "name": "stdout",
     "output_type": "stream",
     "text": [
      "{\n",
      "    \"author\": \"dragongraphics\",\n",
      "    \"createdAt\": \"2014-05-29T08:07:50Z\",\n",
      "    \"createdAtI\": 1401350870,\n",
      "    \"numComments\": 0,\n",
      "    \"objectId\": \"7815238\",\n",
      "    \"points\": 2,\n",
      "    \"storyText\": \"\",\n",
      "    \"tags\": [\n",
      "        \"story\",\n",
      "        \"author_dragongraphics\",\n",
      "        \"story_7815238\"\n",
      "    ],\n",
      "    \"title\": \"Are we getting too Sassy? Weighing up micro-optimisation vs. maintainability\",\n",
      "    \"url\": \"http://ashleynolan.co.uk/blog/are-we-getting-too-sassy\"\n",
      "}\n"
     ]
    }
   ],
   "source": [
    "def jprint(obj):\n",
    "    # create a formatted string of the Python JSON object\n",
    "    text = json.dumps(obj, sort_keys=True, indent=4)\n",
    "    print(text)\n",
    "\n",
    "first_story = hn[0]\n",
    "jprint(first_story)"
   ]
  },
  {
   "cell_type": "code",
   "execution_count": 7,
   "metadata": {},
   "outputs": [],
   "source": [
    "hn_clean = []\n",
    "\n",
    "for d in hn:\n",
    "    new_d = del_key(d, 'createdAtI')\n",
    "    hn_clean.append(new_d)"
   ]
  },
  {
   "cell_type": "code",
   "execution_count": 8,
   "metadata": {},
   "outputs": [],
   "source": [
    "# using list comprehension \n",
    "\n",
    "hn_clean = [del_key(d, 'createdAtI') for d in hn]"
   ]
  },
  {
   "cell_type": "code",
   "execution_count": 9,
   "metadata": {},
   "outputs": [],
   "source": [
    "urls = [d['url'] for d in hn_clean]"
   ]
  },
  {
   "cell_type": "code",
   "execution_count": 10,
   "metadata": {},
   "outputs": [
    {
     "name": "stdout",
     "output_type": "stream",
     "text": [
      "9279\n"
     ]
    }
   ],
   "source": [
    "has_comments = []\n",
    "\n",
    "for d in hn_clean:\n",
    "    if d['numComments'] > 0:\n",
    "        has_comments.append(d)\n",
    "\n",
    "num_comments = len(has_comments)\n",
    "print(num_comments)"
   ]
  },
  {
   "cell_type": "code",
   "execution_count": 11,
   "metadata": {},
   "outputs": [
    {
     "name": "stdout",
     "output_type": "stream",
     "text": [
      "9279\n"
     ]
    }
   ],
   "source": [
    "has_comments = [d for d in hn_clean if d['numComments'] > 0]\n",
    "\n",
    "num_comments = len(has_comments)\n",
    "print(num_comments)"
   ]
  },
  {
   "cell_type": "code",
   "execution_count": 12,
   "metadata": {},
   "outputs": [],
   "source": [
    "thousand_points = [d for d in hn_clean if d['points'] > 1000]\n",
    "num_thousand_points =len(thousand_points)"
   ]
  },
  {
   "cell_type": "code",
   "execution_count": 14,
   "metadata": {},
   "outputs": [],
   "source": [
    "json_obj = [\n",
    "    {\n",
    "        \"age\": 36,\n",
    "        \"favorite_foods\": [\"Pumpkin\", \"Oatmeal\"],\n",
    "        \"name\": \"Sabine\"\n",
    "    },\n",
    "    {\n",
    "        \"age\": 40,\n",
    "        \"favorite_foods\": [\"Chicken\", \"Pizza\", \"Chocolate\"],\n",
    "        \"name\": \"Zoe\"\n",
    "    },\n",
    "    {\n",
    "        \"age\": 40,\n",
    "        \"favorite_foods\": [\"Caesar Salad\"],\n",
    "        \"name\": \"Heidi\"\n",
    "    }\n",
    "]"
   ]
  },
  {
   "cell_type": "code",
   "execution_count": 15,
   "metadata": {},
   "outputs": [
    {
     "name": "stdout",
     "output_type": "stream",
     "text": [
      "{\n",
      "    \"age\": 36,\n",
      "    \"favorite_foods\": [\n",
      "        \"Pumpkin\",\n",
      "        \"Oatmeal\"\n",
      "    ],\n",
      "    \"name\": \"Sabine\"\n",
      "}\n"
     ]
    }
   ],
   "source": [
    "def get_age(json_dict):\n",
    "    return json_dict['age']\n",
    "\n",
    "youngest = min(json_obj, key=get_age)\n",
    "jprint(youngest)"
   ]
  },
  {
   "cell_type": "code",
   "execution_count": 16,
   "metadata": {},
   "outputs": [],
   "source": [
    "def get_num_comments(story):\n",
    "    return story['numComments']\n",
    "\n",
    "most_comments = max(hn_clean, key=get_num_comments)"
   ]
  },
  {
   "cell_type": "code",
   "execution_count": 17,
   "metadata": {},
   "outputs": [],
   "source": [
    "## lambda functions\n",
    "\n",
    "multiply = lambda a,b: a * b"
   ]
  },
  {
   "cell_type": "code",
   "execution_count": 20,
   "metadata": {},
   "outputs": [
    {
     "data": {
      "text/plain": [
       "[{'team_1': 'Belgium',\n",
       "  'team_2': 'England',\n",
       "  'game_type': '3rd/4th Playoff',\n",
       "  'score': [2, 0]},\n",
       " {'team_1': 'France',\n",
       "  'team_2': 'Croatia',\n",
       "  'game_type': 'Final',\n",
       "  'score': [4, 2]}]"
      ]
     },
     "execution_count": 20,
     "metadata": {},
     "output_type": "execute_result"
    }
   ],
   "source": [
    "# sorted(json_obj, key=lambda d: d['name'])\n",
    "\n",
    "sorted(world_cup_obj, key=lambda d: d['score'])"
   ]
  },
  {
   "cell_type": "code",
   "execution_count": 21,
   "metadata": {},
   "outputs": [
    {
     "name": "stdout",
     "output_type": "stream",
     "text": [
      "['2048', 'Today is The Day We Fight Back', 'Wozniak: “Actually, the movie was largely a lie about me”', 'Microsoft Open Sources C# Compiler', 'Elon Musk: To the People of New Jersey']\n"
     ]
    }
   ],
   "source": [
    "hn_sorted_points = sorted(hn_clean, key=lambda d: d['points'], reverse=True)\n",
    "\n",
    "top_5_titles = [d['title'] for d in hn_sorted_points[:5]]\n",
    "print(top_5_titles)"
   ]
  },
  {
   "cell_type": "code",
   "execution_count": 22,
   "metadata": {},
   "outputs": [],
   "source": [
    "## Reading JSON Files into pandas\n",
    "\n",
    "import pandas as pd\n",
    "\n",
    "hn_df = pd.DataFrame(hn_clean)"
   ]
  },
  {
   "cell_type": "code",
   "execution_count": 23,
   "metadata": {},
   "outputs": [
    {
     "name": "stdout",
     "output_type": "stream",
     "text": [
      "43       [story, author_alamgir_mand, story_7813869, sh...\n",
      "86         [story, author_cweagans, story_7812404, ask_hn]\n",
      "104      [story, author_nightstrike789, story_7812099, ...\n",
      "107      [story, author_ISeemToBeAVerb, story_7812048, ...\n",
      "109         [story, author_Swizec, story_7812018, show_hn]\n",
      "                               ...                        \n",
      "35747      [story, author_rpm4321, story_6994970, show_hn]\n",
      "35759            [story, author_ct, story_6994828, ask_hn]\n",
      "35778    [story, author_ChrisNorstrom, story_6994370, a...\n",
      "35787    [story, author_benjamincburns, story_6994163, ...\n",
      "35792      [story, author_randall, story_6993981, show_hn]\n",
      "Name: tags, Length: 2347, dtype: object\n"
     ]
    }
   ],
   "source": [
    "tags = hn_df['tags']\n",
    "has_four_tags = tags.apply(len) == 4\n",
    "four_tags = tags[has_four_tags]\n",
    "print(four_tags)"
   ]
  },
  {
   "cell_type": "code",
   "execution_count": 24,
   "metadata": {},
   "outputs": [],
   "source": [
    "# def extract_tag(l):\n",
    "#     return l[-1] if len(l) == 4 else None\n",
    "\n",
    "cleaned_tags = tags.apply(lambda l: l[-1] if len(l) == 4 else None)\n",
    "hn_df['tags'] = cleaned_tags"
   ]
  },
  {
   "cell_type": "code",
   "execution_count": null,
   "metadata": {},
   "outputs": [],
   "source": []
  }
 ],
 "metadata": {
  "kernelspec": {
   "display_name": "Python 3",
   "language": "python",
   "name": "python3"
  },
  "language_info": {
   "codemirror_mode": {
    "name": "ipython",
    "version": 3
   },
   "file_extension": ".py",
   "mimetype": "text/x-python",
   "name": "python",
   "nbconvert_exporter": "python",
   "pygments_lexer": "ipython3",
   "version": "3.7.3"
  }
 },
 "nbformat": 4,
 "nbformat_minor": 2
}
