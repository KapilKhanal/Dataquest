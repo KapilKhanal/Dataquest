{
 "cells": [
  {
   "cell_type": "markdown",
   "metadata": {},
   "source": [
    "# Introduction\n",
    "\n",
    "In this mission, we'll explore how queries are executed in SQLite. After exploring this at a high level, we will explore how to create and use indexes for better performance. As our data gets larger and our queries more complex, it's important to be able to tweak the queries we write and optimize a database's schema to ensure that we're getting results back quickly.\n",
    "\n",
    "We'll work with data from the [CIA World Factbook](https://www.cia.gov/library/publications/the-world-factbook/), a compendium of statistics about all of the countries on Earth. We'll be working with the `facts` table in the database. Each row in `facts` represents a single country, and contains several columns, including:\n",
    "\n",
    " - `name` -- the name of the country.\n",
    " - `area` -- the total land and sea area of the country.\n",
    " - `population` -- the population of the country.\n",
    " - `birth_rate` -- the birth rate of the country.\n",
    " - `created_at` -- the date the record was created.\n",
    " - `updated_at` -- the date the record was updated."
   ]
  },
  {
   "cell_type": "markdown",
   "metadata": {},
   "source": [
    "## The Data\n",
    "\n",
    " - Write a query that returns the schema of the facts table and assign the resulting list of tuples to schema.\n",
    " - Use a for loop and a print statement to display each tuple in schema on a separate line."
   ]
  },
  {
   "cell_type": "code",
   "execution_count": 1,
   "metadata": {},
   "outputs": [
    {
     "name": "stdout",
     "output_type": "stream",
     "text": [
      "(0, 'id', 'INTEGER', 1, None, 1)\n",
      "(1, 'code', 'varchar(255)', 1, None, 0)\n",
      "(2, 'name', 'varchar(255)', 1, None, 0)\n",
      "(3, 'area', 'integer', 0, None, 0)\n",
      "(4, 'area_land', 'integer', 0, None, 0)\n",
      "(5, 'area_water', 'integer', 0, None, 0)\n",
      "(6, 'population', 'integer', 0, None, 0)\n",
      "(7, 'population_growth', 'float', 0, None, 0)\n",
      "(8, 'birth_rate', 'float', 0, None, 0)\n",
      "(9, 'death_rate', 'float', 0, None, 0)\n",
      "(10, 'migration_rate', 'float', 0, None, 0)\n"
     ]
    }
   ],
   "source": [
    "import sqlite3\n",
    "conn = sqlite3.connect(\"factbook.db\")\n",
    "schema = conn.execute(\"pragma table_info(facts);\").fetchall()\n",
    "for s in schema:\n",
    "    print(s)"
   ]
  },
  {
   "cell_type": "markdown",
   "metadata": {},
   "source": [
    " - Return the query plan for the query that returns all columns and rows where area exceeds 40000. Assign the results to query_plan_one.\n",
    " - Return the query plan for the query that returns only the area column for all rows where area exceeds 40000. Assign the results to query_plan_two.\n",
    " - Return the query plan for the query that returns the row for the country Czech Republic. Assign the results to query_plan_three.\n",
    " - Use the print function to display each query plan."
   ]
  },
  {
   "cell_type": "code",
   "execution_count": 2,
   "metadata": {},
   "outputs": [
    {
     "name": "stdout",
     "output_type": "stream",
     "text": [
      "[(2, 0, 0, 'SCAN TABLE facts')]\n",
      "[(2, 0, 0, 'SCAN TABLE facts')]\n",
      "[(2, 0, 0, 'SCAN TABLE facts')]\n"
     ]
    }
   ],
   "source": [
    "query_plan_one = conn.execute(\"explain query plan select * from facts where area > 40000;\").fetchall()\n",
    "query_plan_two = conn.execute(\"explain query plan select area from facts where area > 40000;\").fetchall()\n",
    "query_plan_three = conn.execute(\"explain query plan select * from facts where name = 'Czech Republic';\").fetchall()\n",
    "\n",
    "print(query_plan_one)\n",
    "print(query_plan_two)\n",
    "print(query_plan_three)"
   ]
  },
  {
   "cell_type": "markdown",
   "metadata": {},
   "source": [
    " - Return the query plan for the query that selects the row at id value 20 from the facts table.\n",
    " - Assign the query plan to query_plan_four and display the query plan using the print function."
   ]
  },
  {
   "cell_type": "code",
   "execution_count": 3,
   "metadata": {},
   "outputs": [
    {
     "name": "stdout",
     "output_type": "stream",
     "text": [
      "[(2, 0, 0, 'SEARCH TABLE facts USING INTEGER PRIMARY KEY (rowid=?)')]\n"
     ]
    }
   ],
   "source": [
    "query_plan_four = conn.execute(\"explain query plan select * from facts where id = 20;\").fetchall()\n",
    "print(query_plan_four)"
   ]
  },
  {
   "cell_type": "markdown",
   "metadata": {},
   "source": [
    " - Return the query plan for the query that returns all values in the rows in facts where the population exceeds 10000. Assign the resulting query plan to query_plan_six and display using the print function.\n",
    " \n",
    " - Create an index for the population column in the facts table named pop_idx.\n",
    " \n",
    " - Return the query plan for the query that returns all values in the rows in facts where the population exceeds 10000. Assign the resulting query plan to query_plan_seven and display using the print function.\n",
    "\n"
   ]
  },
  {
   "cell_type": "code",
   "execution_count": 4,
   "metadata": {},
   "outputs": [
    {
     "name": "stdout",
     "output_type": "stream",
     "text": [
      "[(2, 0, 0, 'SCAN TABLE facts')]\n",
      "[(3, 0, 0, 'SEARCH TABLE facts USING INDEX pop_idx (population>?)')]\n"
     ]
    }
   ],
   "source": [
    "query_plan_six = conn.execute(\"explain query plan select * from facts where population > 10000 ;\").fetchall()\n",
    "print(query_plan_six)\n",
    "conn.execute(\"create index if not exists pop_idx on facts(population)\")\n",
    "query_plan_seven = conn.execute(\"explain query plan select * from facts where population > 10000 ;\").fetchall()\n",
    "print(query_plan_seven)"
   ]
  },
  {
   "cell_type": "markdown",
   "metadata": {},
   "source": [
    "## Multi-column db indexing"
   ]
  },
  {
   "cell_type": "code",
   "execution_count": 5,
   "metadata": {},
   "outputs": [
    {
     "name": "stdout",
     "output_type": "stream",
     "text": [
      "[(3, 0, 0, 'SEARCH TABLE facts USING INDEX pop_idx (population>?)')]\n"
     ]
    }
   ],
   "source": [
    "# conn = sqlite3.connect(\"factbook.db\")\n",
    "query_plan_one = conn.execute(\"explain query plan select * from facts where population > 1000000 and population_growth < 0.05;\").fetchall()\n",
    "print(query_plan_one)"
   ]
  },
  {
   "cell_type": "markdown",
   "metadata": {},
   "source": [
    "- Create an index called pop_idx for the population column in the facts table.\n",
    "\n",
    "\n",
    " - Create an index called pop_growth_idx for the population_growth column in the facts table.\n",
    "\n",
    " - Return the query plan for a query that returns all rows where population is greater than 1000000 and where population_growth is less than 0.05. We're interested in all of the columns in the rows.\n",
    "\n",
    "- Assign the query plan to query_plan_two and display it using the print function."
   ]
  },
  {
   "cell_type": "code",
   "execution_count": 6,
   "metadata": {},
   "outputs": [
    {
     "name": "stdout",
     "output_type": "stream",
     "text": [
      "[(3, 0, 0, 'SEARCH TABLE facts USING INDEX pop_growth_idx (population_growth<?)')]\n"
     ]
    }
   ],
   "source": [
    "conn.execute(\"create index if not exists pop_idx on facts(population);\").fetchall()\n",
    "conn.execute(\"create index if not exists pop_growth_idx on facts(population_growth);\").fetchall()\n",
    "query_plan_two = conn.execute(\"explain query plan select * from facts where population > 1000000 and population_growth < 0.05;\").fetchall()\n",
    "print(query_plan_two)"
   ]
  },
  {
   "cell_type": "markdown",
   "metadata": {},
   "source": [
    " - Create a multi-column index for population and population_growth named pop_pop_growth_idx with population as the primary key.\n",
    " - Return the query plan for a query that returns all rows where population is greater than 1000000 and where population_growth is less than 0.05. We're interested in all of the columns in the rows.\n",
    " - Assign the returned query plan to query_plan_three and use the print function to display it."
   ]
  },
  {
   "cell_type": "code",
   "execution_count": 7,
   "metadata": {},
   "outputs": [
    {
     "name": "stdout",
     "output_type": "stream",
     "text": [
      "[(3, 0, 0, 'SEARCH TABLE facts USING INDEX pop_pop_growth_idx (population>?)')]\n"
     ]
    }
   ],
   "source": [
    "conn.execute(\"create index if not exists pop_pop_growth_idx on facts(population, population_growth);\")\n",
    "query_plan_three = conn.execute(\"explain query plan select * from facts where population > 1000000 and population_growth < 0.05;\").fetchall()\n",
    "print(query_plan_three)"
   ]
  },
  {
   "cell_type": "markdown",
   "metadata": {},
   "source": [
    "This time, SQLite used the multi-column index pop_pop_growth_idx that we created instead of either pop_growth_idx or pop_idx. SQLite only needed to access the facts table to return the rest of the column values for the rows that met the WHERE criteria. This is only because the pop_pop_growth_idx doesn't contain the other values (besides population and population_growth already).\n",
    "\n",
    "What if we restricted the columns in the SELECT that we want returned to just population and population_growth? In this case, SQLite will not need to interact with the facts table since the pop_pop_growth_idx can service the query. When an index contains all of the information necessary to answer a query, it's called a covering index. Since the index covers for the actual table and can return the requested results to the query, SQLite doesn't need to query the actual table. For many queries, especially as your data gets larger, this can be much more efficient.\n",
    "\n",
    "Let's write a query that uses the index we created as a covering index and return its query plan.\n",
    "."
   ]
  },
  {
   "cell_type": "code",
   "execution_count": 8,
   "metadata": {},
   "outputs": [
    {
     "name": "stdout",
     "output_type": "stream",
     "text": [
      "[(2, 0, 0, 'SEARCH TABLE facts USING COVERING INDEX pop_pop_growth_idx (population>?)')]\n"
     ]
    }
   ],
   "source": [
    "conn.execute(\"create index if not exists pop_pop_growth_idx on facts(population, population_growth);\")\n",
    "query_plan_four = conn.execute(\"explain query plan select population, population_growth from facts where population > 1000000 and population_growth < 0.05;\").fetchall()\n",
    "print(query_plan_four)"
   ]
  },
  {
   "cell_type": "markdown",
   "metadata": {},
   "source": [
    "Covering indexes doesn't apply just to multi-column indexes. If a query we write only touches a column in the database that we have a single-column index for, SQLite will use only the index to service the query. Let's test this by writing a query that can take advantage of just the index, pop_idx, for the population column."
   ]
  },
  {
   "cell_type": "code",
   "execution_count": 9,
   "metadata": {},
   "outputs": [
    {
     "name": "stdout",
     "output_type": "stream",
     "text": [
      "[(2, 0, 0, 'SEARCH TABLE facts USING COVERING INDEX pop_idx (population>?)')]\n"
     ]
    }
   ],
   "source": [
    "conn.execute(\"create index if not exists pop_pop_growth_idx on facts(population, population_growth);\")\n",
    "query_plan_five = conn.execute(\"explain query plan select population from facts where population > 1000000;\").fetchall()\n",
    "\n",
    "print(query_plan_five)"
   ]
  }
 ],
 "metadata": {
  "kernelspec": {
   "display_name": "Python 3",
   "language": "python",
   "name": "python3"
  },
  "language_info": {
   "codemirror_mode": {
    "name": "ipython",
    "version": 3
   },
   "file_extension": ".py",
   "mimetype": "text/x-python",
   "name": "python",
   "nbconvert_exporter": "python",
   "pygments_lexer": "ipython3",
   "version": "3.7.3"
  }
 },
 "nbformat": 4,
 "nbformat_minor": 2
}
