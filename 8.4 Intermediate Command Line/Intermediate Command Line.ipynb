{
 "cells": [
  {
   "cell_type": "code",
   "execution_count": 19,
   "metadata": {},
   "outputs": [
    {
     "name": "stdout",
     "output_type": "stream",
     "text": [
      "AGE1,BURDEN,FMR,FMTBEDRMS,FMTBUILT,TOTSAL\r\n",
      "43,0.513,680,'3 3BR','1980-1989',20000\r\n",
      "44,0.2225915493,760,'4 4BR+','1980-1989',71000\r\n",
      "58,0.2178312657,680,'3 3BR','1980-1989',63000\r\n",
      "22,0.21745562129999998,519,'1 1BR','1980-1989',27040\r\n",
      "48,0.28285714289999997,600,'1 1BR','1980-1989',14000\r\n",
      "42,0.2922857143,788,'3 3BR','1980-1989',42000\r\n",
      "-9,-9.0,702,'2 2BR','1980-1989',-9\r\n",
      "23,0.14475,546,'2 2BR','1980-1989',48000\r\n",
      "51,0.2962,680,'3 3BR','1980-1989',58000\r\n"
     ]
    }
   ],
   "source": [
    "!head Hud_2005.csv"
   ]
  },
  {
   "cell_type": "code",
   "execution_count": 20,
   "metadata": {},
   "outputs": [
    {
     "name": "stdout",
     "output_type": "stream",
     "text": [
      "AGE1,BURDEN,FMR,FMTBEDRMS,FMTBUILT,TOTSAL\r\n",
      "-9,-9.0,1048,'3 3BR','2000-2009',-9\r\n",
      "69,0.1207594937,1048,'3 3BR','2000-2009',0\r\n",
      "45,0.3683076923,757,'3 3BR','1980-1989',26000\r\n",
      "47,0.099419707,847,'4 4BR+','1980-1989',126000\r\n",
      "30,0.1340625,616,'2 2BR','1980-1989',42000\r\n",
      "50,0.2824,605,'1 1BR','1980-1989',15000\r\n",
      "44,0.0885517241,807,'3 3BR','1980-1989',145000\r\n",
      "-9,-9.0,778,'2 2BR','1980-1989',-9\r\n",
      "24,0.07925,599,'2 2BR','1980-1989',96000\r\n"
     ]
    }
   ],
   "source": [
    "!head Hud_2007.csv"
   ]
  },
  {
   "cell_type": "code",
   "execution_count": 21,
   "metadata": {},
   "outputs": [
    {
     "name": "stdout",
     "output_type": "stream",
     "text": [
      "AGE1,BURDEN,FMR,FMTBEDRMS,FMTBUILT,TOTSAL\r\n",
      "82,0.35491926090000003,956,'2 2BR','2000-2009',0\r\n",
      "50,0.047527264699999995,1100,'4 4BR+','1980-1989',123000\r\n",
      "53,0.6027025095,1100,'4 4BR+','1980-1989',28000\r\n",
      "67,0.1039106145,949,'3 3BR','1980-1989',0\r\n",
      "26,0.094019035,737,'2 2BR','1980-1989',96900\r\n",
      "56,0.5564822846,657,'1 1BR','1980-1989',15000\r\n",
      "50,0.1998227609,988,'3 3BR','1980-1989',70001\r\n",
      "26,0.366,773,'2 2BR','1980-1989',20000\r\n",
      "60,0.1165841647,1125,'3 3BR','1980-1989',107000\r\n"
     ]
    }
   ],
   "source": [
    "!head Hud_2013.csv"
   ]
  },
  {
   "cell_type": "code",
   "execution_count": 22,
   "metadata": {},
   "outputs": [],
   "source": [
    "!head -1 Hud_2005.csv > combined_hud.csv"
   ]
  },
  {
   "cell_type": "code",
   "execution_count": 23,
   "metadata": {},
   "outputs": [
    {
     "name": "stdout",
     "output_type": "stream",
     "text": [
      "   46854 Hud_2005.csv\r\n"
     ]
    }
   ],
   "source": [
    "!wc -l Hud_2005.csv\n"
   ]
  },
  {
   "cell_type": "code",
   "execution_count": 24,
   "metadata": {},
   "outputs": [],
   "source": [
    "!tail -46853 Hud_2005.csv >> combined_hud.csv"
   ]
  },
  {
   "cell_type": "code",
   "execution_count": 25,
   "metadata": {},
   "outputs": [
    {
     "name": "stdout",
     "output_type": "stream",
     "text": [
      "AGE1,BURDEN,FMR,FMTBEDRMS,FMTBUILT,TOTSAL\r\n",
      "43,0.513,680,'3 3BR','1980-1989',20000\r\n",
      "44,0.2225915493,760,'4 4BR+','1980-1989',71000\r\n",
      "58,0.2178312657,680,'3 3BR','1980-1989',63000\r\n",
      "22,0.21745562129999998,519,'1 1BR','1980-1989',27040\r\n",
      "48,0.28285714289999997,600,'1 1BR','1980-1989',14000\r\n",
      "42,0.2922857143,788,'3 3BR','1980-1989',42000\r\n",
      "-9,-9.0,702,'2 2BR','1980-1989',-9\r\n",
      "23,0.14475,546,'2 2BR','1980-1989',48000\r\n",
      "51,0.2962,680,'3 3BR','1980-1989',58000\r\n"
     ]
    }
   ],
   "source": [
    "!head combined_hud.csv"
   ]
  },
  {
   "cell_type": "code",
   "execution_count": 26,
   "metadata": {},
   "outputs": [
    {
     "name": "stdout",
     "output_type": "stream",
     "text": [
      "   42730 Hud_2007.csv\r\n"
     ]
    }
   ],
   "source": [
    "!wc -l Hud_2007.csv"
   ]
  },
  {
   "cell_type": "code",
   "execution_count": 27,
   "metadata": {},
   "outputs": [],
   "source": [
    "!tail -42729 Hud_2007.csv >> combined_hud.csv"
   ]
  },
  {
   "cell_type": "code",
   "execution_count": 28,
   "metadata": {},
   "outputs": [
    {
     "name": "stdout",
     "output_type": "stream",
     "text": [
      "   64536 Hud_2013.csv\r\n"
     ]
    }
   ],
   "source": [
    "!wc -l Hud_2013.csv"
   ]
  },
  {
   "cell_type": "code",
   "execution_count": 29,
   "metadata": {},
   "outputs": [],
   "source": [
    "!tail -64535 Hud_2013.csv >> combined_hud.csv"
   ]
  },
  {
   "cell_type": "code",
   "execution_count": 30,
   "metadata": {},
   "outputs": [
    {
     "name": "stdout",
     "output_type": "stream",
     "text": [
      "   19711\r\n"
     ]
    }
   ],
   "source": [
    "!grep '1980-1989' combined_hud.csv | wc -l"
   ]
  },
  {
   "cell_type": "markdown",
   "metadata": {},
   "source": [
    " cvskit:\n",
    " \n",
    " - csvstack: for stacking rows from multiple CSV files.\n",
    " - csvlook: renders CSV in pretty table format.\n",
    " - csvcut: for selecting specific columns from a CSV file.\n",
    " - csvstat: for calculating descriptive statistics for some or all columns.\n",
    " - csvgrep: for filtering tabular data using specific criteria."
   ]
  },
  {
   "cell_type": "code",
   "execution_count": 12,
   "metadata": {},
   "outputs": [
    {
     "name": "stdout",
     "output_type": "stream",
     "text": [
      "/bin/sh: csvstack: command not found\r\n"
     ]
    }
   ],
   "source": [
    "# commands working in command line but not here\n",
    "# because jupyter is looking in /bin/sh\n",
    "# csvkit was installed to conda virtualenv\n",
    "\n",
    "\n",
    "!csvstack -n year -g 2005,2007,2013 Hud_2005.csv Hud_2007.csv Hud_2013.csv > Combined_hud.csv"
   ]
  },
  {
   "cell_type": "code",
   "execution_count": 9,
   "metadata": {},
   "outputs": [
    {
     "name": "stdout",
     "output_type": "stream",
     "text": [
      "/bin/sh: csvlook: command not found\r\n"
     ]
    }
   ],
   "source": [
    "!head -10 Combined_hud.csv | csvlook"
   ]
  },
  {
   "cell_type": "code",
   "execution_count": 9,
   "metadata": {},
   "outputs": [
    {
     "name": "stdout",
     "output_type": "stream",
     "text": [
      "/bin/sh: csvcut: command not found\r\n"
     ]
    }
   ],
   "source": [
    "!csvcut -c 2 Combined_hud.csv | head -10"
   ]
  },
  {
   "cell_type": "code",
   "execution_count": 10,
   "metadata": {},
   "outputs": [
    {
     "name": "stdout",
     "output_type": "stream",
     "text": [
      "/bin/sh: csvstat: command not found\r\n"
     ]
    }
   ],
   "source": [
    "!csvstat --mean Combined_hud.csv"
   ]
  },
  {
   "cell_type": "code",
   "execution_count": 11,
   "metadata": {},
   "outputs": [
    {
     "name": "stdout",
     "output_type": "stream",
     "text": [
      "/bin/sh: csvcut: command not found\r\n"
     ]
    }
   ],
   "source": [
    "!csvcut -n Combined_hud.csv"
   ]
  },
  {
   "cell_type": "code",
   "execution_count": 12,
   "metadata": {},
   "outputs": [
    {
     "name": "stdout",
     "output_type": "stream",
     "text": [
      "/bin/sh: csvcut: command not found\r\n",
      "/bin/sh: csvstat: command not found\r\n"
     ]
    }
   ],
   "source": [
    "!csvcut -c 2 Combined_hud.csv | csvstat"
   ]
  },
  {
   "cell_type": "code",
   "execution_count": 13,
   "metadata": {},
   "outputs": [
    {
     "name": "stdout",
     "output_type": "stream",
     "text": [
      "/bin/sh: csvlook: command not found\r\n",
      "/bin/sh: csvgrep: command not found\r\n"
     ]
    }
   ],
   "source": [
    "!csvgrep -c 2 -m -9 Combined_hud.csv | head -10 | csvlook"
   ]
  },
  {
   "cell_type": "code",
   "execution_count": null,
   "metadata": {},
   "outputs": [],
   "source": []
  }
 ],
 "metadata": {
  "kernelspec": {
   "display_name": "Python 3",
   "language": "python",
   "name": "python3"
  },
  "language_info": {
   "codemirror_mode": {
    "name": "ipython",
    "version": 3
   },
   "file_extension": ".py",
   "mimetype": "text/x-python",
   "name": "python",
   "nbconvert_exporter": "python",
   "pygments_lexer": "ipython3",
   "version": "3.7.3"
  }
 },
 "nbformat": 4,
 "nbformat_minor": 2
}
