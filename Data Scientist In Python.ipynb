{
 "cells": [
  {
   "cell_type": "markdown",
   "metadata": {
    "collapsed": true
   },
   "source": [
    "# Data Scientist In Python - [Dataquest.io](https://www.dataquest.io) "
   ]
  },
  {
   "cell_type": "markdown",
   "metadata": {
    "heading_collapsed": true
   },
   "source": [
    "## Step 1 of 8: Python Introduction\n"
   ]
  },
  {
   "cell_type": "markdown",
   "metadata": {
    "heading_collapsed": true,
    "hidden": true
   },
   "source": [
    "### Course 1/2:  \n",
    "#### Python for Data Science: Fundamentals\n",
    "\n",
    "    - Note: I'd already completed a 4-part Python programming \n",
    "    course on EDx through GTx, CS 1301. This was mainly review. "
   ]
  },
  {
   "cell_type": "markdown",
   "metadata": {
    "hidden": true
   },
   "source": [
    " - Programming in Python\n",
    " - Variables and Data Types\n",
    " - Lists and For Loops\n",
    " - Conditional Statements\n",
    " - Dictionaries and Frequency Tables\n",
    " - Functions: Fundamentals\n",
    " - Functions: Intermediate\n",
    " - Project: Learn and Install Jupyter Notebook\n",
    " - Guided Project: Profitable App Profiles for the App Store and Google Play Markets\n",
    "     - Results in my [github account](https://github.com/orspain/Dataquest/tree/master/Python%20for%20Data%20Science%20Fundamentals)"
   ]
  },
  {
   "cell_type": "markdown",
   "metadata": {
    "heading_collapsed": true,
    "hidden": true
   },
   "source": [
    "### Course 2/2: Python for Data Science: Intermediate"
   ]
  },
  {
   "cell_type": "markdown",
   "metadata": {
    "hidden": true
   },
   "source": [
    " - Cleaning and Preparing Data in Python\n",
    " - Python Data Analysis Basics\n",
    " - Object-Oriented Python\n",
    " - Working with Dates and Times in Python\n",
    " - Guided Project: Exploring Hacker News Posts\n",
    "      - Results in my [github account](https://github.com/orspain/Dataquest/tree/master/Python%20for%20Data%20Science%20Intermediate)"
   ]
  },
  
  {
   "cell_type": "markdown",
   "metadata": {
    "heading_collapsed": true
   },
   "source": [
    "## Step 2 of 8: Data Analysis and Visualization"
   ]
  },
  {
   "cell_type": "markdown",
   "metadata": {
    "heading_collapsed": true,
    "hidden": true
   },
   "source": [
    "### Course 1 of 6: NumPy and pandas Fundamentals"
   ]
  },
  {
   "cell_type": "markdown",
   "metadata": {
    "hidden": true
   },
   "source": [
    " - Intro to NumPy\n",
    " - Boolean Indexing with NumPy\n",
    " - Intro to pandas\n",
    " - Exploring Data with pandas: Fundamentals\n",
    " - Exploring Data with pandas: Intermediate\n",
    " - Data Cleaning Basics\n",
    " - Guided Project: Exploring Ebay Car Sales Data\n",
    "     - Results in my github account"
   ]
  },
  {
   "cell_type": "markdown",
   "metadata": {
    "heading_collapsed": true,
    "hidden": true
   },
   "source": [
    "### Course 2 of 6: Exploratory Data Visualization"
   ]
  },
  {
   "cell_type": "markdown",
   "metadata": {
    "hidden": true
   },
   "source": [
    " - Line charts\n",
    " - Multiple plots\n",
    " - Bar plots and scatter plots\n",
    " - Histograms and box plots\n",
    " - Guided Project: Visualize Earnings Based on College Majors\n",
    "     - results in my github account"
   ]
  },
  {
   "cell_type": "markdown",
   "metadata": {
    "heading_collapsed": true,
    "hidden": true
   },
   "source": [
    "### Course 3 of 6: Storytelling through Data Visualization"
   ]
  },
  {
   "cell_type": "markdown",
   "metadata": {
    "hidden": true
   },
   "source": [
    " - Improving Plot Aesthetics\n",
    " - Color, Layout, and Annotations\n",
    " - Guided Project: Visualizing the Gender Gap in College Degrees\n",
    "   - Results in my github account\n",
    " - Conditional Plots\n",
    " - Visualizing Geographic Data"
   ]
  },
  {
   "cell_type": "markdown",
   "metadata": {
    "heading_collapsed": true,
    "hidden": true
   },
   "source": [
    "### Course 4 of 6: Data Cleaning and Analysis"
   ]
  },
  {
   "cell_type": "markdown",
   "metadata": {
    "hidden": true
   },
   "source": [
    " - Data Aggregation\n",
    " - Combining Data With pandas\n",
    " - Working With Strings In pandas\n",
    " - Working With Missing And Duplicate Data\n",
    " - Guided Project: Clean and Analyze Employee Exit Surveys\n",
    "     - Results in my github account"
   ]
  },
  {
   "cell_type": "markdown",
   "metadata": {
    "heading_collapsed": true,
    "hidden": true
   },
   "source": [
    "### Course 5 of 6: Data Cleaning: Advanced"
   ]
  },
  {
   "cell_type": "markdown",
   "metadata": {
    "hidden": true
   },
   "source": [
    " - Regular Expression Basics\n",
    " - Advanced Regular Expressions\n",
    " - List Comprehensions and Lambda Functions\n",
    " - Working with Missing Data"
   ]
  },
  {
   "cell_type": "markdown",
   "metadata": {
    "heading_collapsed": true,
    "hidden": true
   },
   "source": [
    "### Course 6 of 6: Data Cleaning Project Walkthrough"
   ]
  },
  {
   "cell_type": "markdown",
   "metadata": {
    "hidden": true
   },
   "source": [
    " - Data Cleaning Walkthrough\n",
    " - Data Cleaning Walkthrough: Combining the Data\n",
    " - Data Cleaning Walkthrough: Analyzing and Visualizing the Data\n",
    " - Guided Project: Analyzing NYC High School Data\n",
    "   - Results in my github account\n",
    " - Challenge: Cleaning Data\n",
    " - Guided Project: Star Wars Survey"
   ]
  },
  {
   "cell_type": "markdown",
   "metadata": {
    "hidden": true
   },
  
   },
   "source": [
    "## Step 3 of 8: The Command Line"
   ]
  },
  {
   "cell_type": "markdown",
   "metadata": {
    "heading_collapsed": true,
    "hidden": true
   },
   "source": [
    "### Course 1 of 2: Elements of the Command Line"
   ]
  },
  {
   "cell_type": "markdown",
   "metadata": {
    "hidden": true
   },
   "source": [
    " - Intro to the Command Line\n",
    " - The Filesystem\n",
    " - Modifying the Filesystem\n",
    " - Glob Patterns and Wildcards\n",
    " - Users and Permissions"
   ]
  },
  {
   "cell_type": "markdown",
   "metadata": {
    "heading_collapsed": true,
    "hidden": true
   },
   "source": [
    "### Course 2 of 2: Text Processing in the Command Line"
   ]
  },
  {
   "cell_type": "markdown",
   "metadata": {
    "hidden": true
   },
   "source": [
    " - Getting Help and Reading Documentation\n",
    " - File Inspection\n",
    " - Text Processing\n",
    " - Redirection and Pipelines\n",
    " - Standard Streams and File Descriptors"
   ]
  },
  {
   "cell_type": "markdown",
   "metadata": {
    "heading_collapsed": true
   },
   "source": [
    "## Step 4 of 8: Working with Data Sources"
   ]
  },
  {
   "cell_type": "markdown",
   "metadata": {
    "heading_collapsed": true,
    "hidden": true
   },
   "source": [
    "### Course 1 of 4: SQL Fundamentals"
   ]
  },
  {
   "cell_type": "markdown",
   "metadata": {
    "hidden": true
   },
   "source": [
    " - Intro to SQL\n",
    " - Summary Statistics\n",
    " - Group Summary Statistics\n",
    " - Subqueries\n",
    " - Querying SQLite from Python\n",
    " - Guided Project: Analyzing CIA Factbook Data Using SQLite and Python"
   ]
  },
  {
   "cell_type": "markdown",
   "metadata": {
    "heading_collapsed": true,
    "hidden": true
   },
   "source": [
    "### Course 2 of 4: SQL Intermediate: Table Relations and Joins"
   ]
  },
  {
   "cell_type": "markdown",
   "metadata": {
    "hidden": true
   },
   "source": [
    " - Joining Data in SQL\n",
    " - Intermediate Joins in SQL\n",
    " - Building and Organizing Complex Queries\n",
    " - Guided Project: Answering Business Questions Using SQL\n",
    "   - Results in my github account\n",
    " - Table Relations and Normalization\n",
    " - Guided Project: Designing and Creating a Database"
   ]
  },
  {
   "cell_type": "markdown",
   "metadata": {
    "heading_collapsed": true,
    "hidden": true
   },
   "source": [
    "### Course 3 of 4: SQL Databases: Advanced"
   ]
  },
  {
   "cell_type": "markdown",
   "metadata": {
    "hidden": true
   },
   "source": [
    " - Using PostgreSQL\n",
    " - Command Line PostgreSQL\n",
    " - Project: PostgreSQL installation\n",
    " - Introduction to Indexing\n",
    " - Multi-Column Indexing"
   ]
  },
  {
   "cell_type": "markdown",
   "metadata": {
    "heading_collapsed": true,
    "hidden": true
   },
   "source": [
    "### Course 4 of 4: APIs and Webscraping"
   ]
  },
  {
   "cell_type": "markdown",
   "metadata": {
    "hidden": true
   },
   "source": [
    " - Working with APIs\n",
    " - Intermediate APIs\n",
    " - Challenge: Working with the reddit API\n",
    " - Web Scraping"
   ]
  },
  {
   "cell_type": "markdown",
   "metadata": {
    "heading_collapsed": true
   },
   "source": [
    "## Step 5 of 8: Probability and Statistics"
   ]
  },
  {
   "cell_type": "markdown",
   "metadata": {
    "heading_collapsed": true,
    "hidden": true
   },
   "source": [
    "### Course 1 of 5: Statistics Fundamentals"
   ]
  },
  {
   "cell_type": "markdown",
   "metadata": {
    "hidden": true
   },
   "source": [
    " - Sampling\n",
    " - Variables in Statistics\n",
    " - Frequency Distributions\n",
    " - Visualizing Frequency Distributions\n",
    " - Comparing Frequency Distributions\n",
    " - Guided Project: Investigating Fandango Movie Ratings"
   ]
  },
  {
   "cell_type": "markdown",
   "metadata": {
    "heading_collapsed": true,
    "hidden": true
   },
   "source": [
    "### Course 2 of 5: Statistics Intermediate: Averages and Variability"
   ]
  },
  {
   "cell_type": "markdown",
   "metadata": {
    "hidden": true
   },
   "source": [
    " - The Mean\n",
    " - The Weighted Mean and the Median\n",
    " - The Mode\n",
    " - Measures of Variability\n",
    " - Z-scores\n",
    " - Guided Project: Finding the Best Markets to Advertise in\n",
    "   - Results in my github account"
   ]
  },
  {
   "cell_type": "markdown",
   "metadata": {
    "heading_collapsed": true,
    "hidden": true
   },
   "source": [
    "### Course 3 of 5: Probability Fundamentals"
   ]
  },
  {
   "cell_type": "markdown",
   "metadata": {
    "hidden": true
   },
   "source": [
    " - Estimating Probability\n",
    " - Probability Rules\n",
    " - Solving Complex Probability Problems\n",
    " - Permutations and Combinations\n",
    " - Guided Project: Mobile App for Lottery Addiction\n",
    "   - Results in my github account"
   ]
  },
  {
   "cell_type": "markdown",
   "metadata": {
    "heading_collapsed": true,
    "hidden": true
   },
   "source": [
    "### Course 4 of 5: Conditional Probability"
   ]
  },
  {
   "cell_type": "markdown",
   "metadata": {
    "hidden": true
   },
   "source": [
    " - Conditional Probability Fundamentals\n",
    " - Conditional Probability Intermediate\n",
    " - Bayes Theorem\n",
    " - The Naive Bayes Theorem\n",
    " - Guided Project: Building a Spam Filter with Naive Bayes\n",
    "   - Results in my github account"
   ]
  },
  {
   "cell_type": "markdown",
   "metadata": {
    "heading_collapsed": true,
    "hidden": true
   },
   "source": [
    "### Course 5 of 5: Hypothesis Testing Fundamentals"
   ]
  },
  {
   "cell_type": "markdown",
   "metadata": {
    "hidden": true
   },
   "source": [
    " - Significance Testing\n",
    " - Chi-squared Tests\n",
    " - Multi category Chi-squared Tests\n",
    " - Guided Project: Winning Jeopardy\n",
    "   - Results in my github account"
   ]
  },
  {
   "cell_type": "markdown",
   "metadata": {
    "heading_collapsed": true
   },
   "source": [
    "## Step 6 of 8: Machine Learning Intro"
   ]
  },
  {
   "cell_type": "markdown",
   "metadata": {
    "heading_collapsed": true,
    "hidden": true
   },
   "source": [
    "### Course 1 of 6: Machine Learning Fundamentals"
   ]
  },
  {
   "cell_type": "markdown",
   "metadata": {
    "hidden": true
   },
   "source": [
    " - Intro to K-nearest Neighbors\n",
    " - Evaluating Model Performance\n",
    " - Multivariate K-nearest Neighbors\n",
    " - Hyperparameter Optimization\n",
    " - Cross Validation\n",
    " - Guided Project: Predicting Car Prices\n",
    "   - Results in my github account"
   ]
  },
  {
   "cell_type": "markdown",
   "metadata": {
    "heading_collapsed": true,
    "hidden": true
   },
   "source": [
    "### Course 2 of 6: Calculus for Machine Learning"
   ]
  },
  {
   "cell_type": "markdown",
   "metadata": {
    "hidden": true
   },
   "source": [
    " - Understanding Linear and Nonlinear Functions\n",
    " - Understanding Limits\n",
    " - Finding Extreme Points"
   ]
  },
  {
   "cell_type": "markdown",
   "metadata": {
    "heading_collapsed": true,
    "hidden": true
   },
   "source": [
    "### Course 3 of 6: Linear Algebra for Machine Learning"
   ]
  },
  {
   "cell_type": "markdown",
   "metadata": {
    "hidden": true
   },
   "source": [
    " - Linear Systems\n",
    " - Vectors\n",
    " - Matrix Algebra\n",
    " - Solution Sets"
   ]
  },
  {
   "cell_type": "markdown",
   "metadata": {
    "heading_collapsed": true,
    "hidden": true
   },
   "source": [
    "### Course 4 of 6: Linear Regression for Machine Learning"
   ]
  },
  {
   "cell_type": "markdown",
   "metadata": {
    "hidden": true
   },
   "source": [
    " - The Linear Regression Model\n",
    " - Feature Selection\n",
    " - Gradient Descent\n",
    " - Ordinary Least Squares\n",
    " - Processing and Transforming Features\n",
    " - Guided Project: Predicting House Sale Prices"
   ]
  },
  {
   "cell_type": "markdown",
   "metadata": {
    "hidden": true
   },
   "source": [
    "### Course 5 of 6: Machine Learning in Python Intermediate"
   ]
  },
  {
   "cell_type": "markdown",
   "metadata": {
    "hidden": true
   },
   "source": [
    " - Logistic Regression\n",
    " - Intro to evaluating binary classifiers\n",
    " - Multiclass classification\n",
    " - Overfitting\n",
    " - Clustering basics\n",
    " - K-means clustering\n",
    " - Guided Project: Predicting the Stock Market\n",
    "   - Results in my github account"
   ]
  },
  {
   "cell_type": "markdown",
   "metadata": {
    "hidden": true
   },
   "source": [
    "### Course 6 of 6: Decision Trees"
   ]
  },
  {
   "cell_type": "markdown",
   "metadata": {
    "hidden": true
   },
   "source": [
    " - Intro to Decision Trees\n",
    " - Building a Decision Tree\n",
    " - Applying a Decision Tree\n",
    " - Intro to Random Forests\n",
    " - Guided Project: Predicting Bike Rentals\n",
    "   - Results in my github account"
   ]
  },
  {
   "cell_type": "markdown",
   "metadata": {
    "heading_collapsed": true
   },
   "source": [
    "## Step 7 of 8: Machine Learning Intermediate"
   ]
  },
  {
   "cell_type": "markdown",
   "metadata": {
    "heading_collapsed": true,
    "hidden": true
   },
   "source": [
    "### Course 1 of 5: Deep Learning Fundamentals"
   ]
  },
  {
   "cell_type": "markdown",
   "metadata": {
    "hidden": true
   },
   "source": [
    " - Representing Neural Networks\n",
    " - Nonlinear Activation Functions\n",
    " - Hidden Layers\n",
    " - Guided Project: Building a Handwritten Digits Classifier\n",
    "     - Results in my github account "
   ]
  },
  {
   "cell_type": "markdown",
   "metadata": {
    "heading_collapsed": true,
    "hidden": true
   },
   "source": [
    "### Course 2 of 5: Machine Learning Project"
   ]
  },
  {
   "cell_type": "markdown",
   "metadata": {
    "hidden": true
   },
   "source": [
    " - Machine Learning Project Walkthrough: Data Cleaning \n",
    " - Machine Learning Project Walkthrough: Preparing the Features\n",
    " - Machine Learning Project Walkthrough: Making Predictions"
   ]
  },
  {
   "cell_type": "markdown",
   "metadata": {
    "heading_collapsed": true,
    "hidden": true
   },
   "source": [
    "### Course 3 of 5: Kaggle Fundamentals"
   ]
  },
  {
   "cell_type": "markdown",
   "metadata": {
    "hidden": true
   },
   "source": [
    " - Getting Started with Kaggle\n",
    " - Feature Preparation, Selection, and Engineering\n",
    " - Model Selection and Tuning\n",
    " - Guided Project: Creating a Kaggle Workflow\n",
    "   - Results "
   ]
  },
  {
   "cell_type": "markdown",
   "metadata": {
    "heading_collapsed": true,
    "hidden": true
   },
   "source": [
    "### Course 4 of 5: Exploring Topics in Data Science"
   ]
  },
  {
   "cell_type": "markdown",
   "metadata": {
    "hidden": true
   },
   "source": [
    " - Naive Bayes for Sentiment Analysis\n",
    " - An Intro to K-Nearest Neighbors"
   ]
  },
  {
   "cell_type": "markdown",
   "metadata": {
    "hidden": true
   },
   "source": [
    "### Course 5 of 5: Natural Language Processing"
   ]
  },
  {
   "cell_type": "markdown",
   "metadata": {
    "hidden": true
   },
   "source": [
    " - Intro to NLP"
   ]
  },
  {
   "cell_type": "markdown",
   "metadata": {},
   "source": [
    "## Step 8 of 8: Advanced Topics in Data Science"
   ]
  },
  {
   "cell_type": "markdown",
   "metadata": {
    "heading_collapsed": true
   },
   "source": [
    "### Course 1 of 6: Functions - Advanced"
   ]
  },
  {
   "cell_type": "markdown",
   "metadata": {
    "hidden": true
   },
   "source": [
    " - Best Practices for Writing Functions\n",
    " - Context Managers\n",
    " - Intro to Decorators\n",
    " - Decorators: Advanced"
   ]
  },
  {
   "cell_type": "markdown",
   "metadata": {
    "heading_collapsed": true
   },
   "source": [
    "### Course 2 of 6: Data Structures and Algorithms"
   ]
  },
  {
   "cell_type": "markdown",
   "metadata": {
    "hidden": true
   },
   "source": [
    " - Memory and Unicode\n",
    " - Algorithms\n",
    " - Binary Search\n",
    " - Data Structures\n",
    " - Recursion and Advanced Data Structures\n",
    " - Guided Project: Investigating Airplane Accidents\n",
    "    - Results"
   ]
  },
  {
   "cell_type": "markdown",
   "metadata": {
    "heading_collapsed": true
   },
   "source": [
    "### Course 3 of 6: Python Programming: Advanced"
   ]
  },
  {
   "cell_type": "markdown",
   "metadata": {
    "hidden": true
   },
   "source": [
    " - OOP\n",
    " - Exception Handling\n",
    " - Lambda Functions\n",
    " - Intro to Computer Arch\n",
    " - Parallel Processing"
   ]
  },
  {
   "cell_type": "markdown",
   "metadata": {
    "heading_collapsed": true
   },
   "source": [
    "### Course 4 of 6: Command Line Intermediate"
   ]
  },
  {
   "cell_type": "markdown",
   "metadata": {
    "hidden": true
   },
   "source": [
    " - Working with programs\n",
    " - Command Line Python Scripting\n",
    " - Challenge: Working with the Command Line\n",
    " - Working with Jupyter Console\n",
    " - Piping and redirecting output\n",
    " - Challenge: Data munging using the Command Line\n",
    " - Data Cleaning and Exploration using Csvkit"
   ]
  },
  {
   "cell_type": "markdown",
   "metadata": {
    "heading_collapsed": true
   },
   "source": [
    "### Course 5 of 6: Git and Version Control"
   ]
  },
  {
   "cell_type": "markdown",
   "metadata": {
    "hidden": true
   },
   "source": [
    " - Intro to Git\n",
    " - Git Remotes\n",
    " - Git Branches\n",
    " - Merge Conflicts\n",
    " - Project: Git installation and GitHub integration"
   ]
  },
  {
   "cell_type": "markdown",
   "metadata": {
    "heading_collapsed": true
   },
   "source": [
    "### Course 6 of 6: Spark and Map-reduce"
   ]
  },
  {
   "cell_type": "markdown",
   "metadata": {
    "hidden": true
   },
   "source": [
    " - Intro to Spark\n",
    " - Project: Spark Installation and Jupyter Notebook integration\n",
    " - Transformations and Actions\n",
    " - Challenge: Transforming Hamlet into a Data Set\n",
    " - Spark DataFrames\n",
    " - Spark SQL"
   ]
  },
  {
   "cell_type": "code",
   "execution_count": null,
   "metadata": {
    "hidden": true
   },
   "outputs": [],
   "source": []
  }
 ],
 "metadata": {
  "kernelspec": {
   "display_name": "Python 3",
   "language": "python",
   "name": "python3"
  },
  "language_info": {
   "codemirror_mode": {
    "name": "ipython",
    "version": 3
   },
   "file_extension": ".py",
   "mimetype": "text/x-python",
   "name": "python",
   "nbconvert_exporter": "python",
   "pygments_lexer": "ipython3",
   "version": "3.7.5"
  }
 },
 "nbformat": 4,
 "nbformat_minor": 2
}
