{
 "cells": [
  {
   "cell_type": "code",
   "execution_count": null,
   "metadata": {},
   "outputs": [],
   "source": [
    "kobe_position = \"\"\n",
    "\n",
    "# Find Kobe in the data set\n",
    "for row in nba:\n",
    "    if row[0] == \"Kobe Bryant\":\n",
    "        kobe_position = row[1]"
   ]
  },
  {
   "cell_type": "code",
   "execution_count": null,
   "metadata": {},
   "outputs": [],
   "source": [
    "# player_age returns the age of a player in our NBA data set\n",
    "def player_age(name):\n",
    "    for row in nba:\n",
    "        if row[0] == name:\n",
    "            return row[2]\n",
    "    return -1\n",
    "    \n",
    "allen_age = player_age(\"Ray Allen\")\n",
    "durant_age = player_age(\"Kevin Durant\")\n",
    "shaq_age = player_age(\"Shaquille O'Neal\")"
   ]
  },
  {
   "cell_type": "code",
   "execution_count": null,
   "metadata": {},
   "outputs": [],
   "source": [
    "# Implementation A: Convert degrees Celcius to degrees Fahrenheit\n",
    "def celcius_to_fahrenheit(degrees):\n",
    "    step_1 = degrees * 1.8\n",
    "    step_2 = step_1 + 32\n",
    "    return step_2\n",
    "\n",
    "# Implementation B: Reverse a list\n",
    "def reverse(ls):\n",
    "    length = len(ls)\n",
    "    new_list = []\n",
    "    for i in range(length):\n",
    "        new_list[i] = ls[length - i - 1]\n",
    "    return new_list\n",
    "\n",
    "# Implementation C: Print a blastoff message after a countdown\n",
    "def blastoff(message):\n",
    "    count = 10\n",
    "    for i in range(count):\n",
    "        print(count - i)\n",
    "    print(message)\n",
    "\n",
    "not_constant = \"B\""
   ]
  },
  {
   "cell_type": "code",
   "execution_count": null,
   "metadata": {},
   "outputs": [],
   "source": [
    "# Find the length of a list\n",
    "def length(ls):\n",
    "    count = 0\n",
    "    for elem in ls:\n",
    "        count = count + 1\n",
    "length_time_complexity = \"linear\"\n",
    "\n",
    "# Check whether a list is empty -- Implementation 1\n",
    "def is_empty_1(ls):\n",
    "    if length(ls) == 0:\n",
    "        return True\n",
    "    else:\n",
    "        return False\n",
    "is_empty_1_complexity = \"linear\"\n",
    "\n",
    "# Check whether a list is empty -- Implementation 2\n",
    "def is_empty_2(ls):\n",
    "    for element in ls:\n",
    "        return False\n",
    "    return True\n",
    "is_empty_2_complexity = \"constant\""
   ]
  },
  {
   "cell_type": "code",
   "execution_count": 1,
   "metadata": {},
   "outputs": [
    {
     "ename": "NameError",
     "evalue": "name 'nba' is not defined",
     "output_type": "error",
     "traceback": [
      "\u001b[0;31m---------------------------------------------------------------------------\u001b[0m",
      "\u001b[0;31mNameError\u001b[0m                                 Traceback (most recent call last)",
      "\u001b[0;32m<ipython-input-1-ffa8988d8f8b>\u001b[0m in \u001b[0;36m<module>\u001b[0;34m\u001b[0m\n\u001b[1;32m      6\u001b[0m \u001b[0;34m\u001b[0m\u001b[0m\n\u001b[1;32m      7\u001b[0m \u001b[0;31m# The length of the data set\u001b[0m\u001b[0;34m\u001b[0m\u001b[0;34m\u001b[0m\u001b[0;34m\u001b[0m\u001b[0m\n\u001b[0;32m----> 8\u001b[0;31m \u001b[0mlength\u001b[0m \u001b[0;34m=\u001b[0m \u001b[0mlen\u001b[0m\u001b[0;34m(\u001b[0m\u001b[0mnba\u001b[0m\u001b[0;34m)\u001b[0m\u001b[0;34m\u001b[0m\u001b[0;34m\u001b[0m\u001b[0m\n\u001b[0m\u001b[1;32m      9\u001b[0m \u001b[0;34m\u001b[0m\u001b[0m\n\u001b[1;32m     10\u001b[0m \u001b[0;31m# Implement the player_age function. For now, just return what the instructions specify\u001b[0m\u001b[0;34m\u001b[0m\u001b[0;34m\u001b[0m\u001b[0;34m\u001b[0m\u001b[0m\n",
      "\u001b[0;31mNameError\u001b[0m: name 'nba' is not defined"
     ]
    }
   ],
   "source": [
    "# Binary search  O(log(n))\n",
    "\n",
    "# A function to extract a player's last name\n",
    "def format_name(name):\n",
    "    return name.split(\" \")[1] + \", \" + name.split(\" \")[0]\n",
    "\n",
    "# The length of the data set\n",
    "length = len(nba)\n",
    "\n",
    "# Implement the player_age function. For now, just return what the instructions specify\n",
    "def player_age(name):\n",
    "    name = format_name(name)\n",
    "    # Set the initial upper bound of the search\n",
    "    upper_bound = length - 1\n",
    "    # Set the initial lower bound of the search\n",
    "    lower_bound = 0\n",
    "    # Set the index of the first split (remember to use math.floor)\n",
    "    index = math.floor((upper_bound + lower_bound) / 2)\n",
    "    # First guess at index (remember to format the guess)\n",
    "    guess = format_name(nba[index][0])\n",
    "    while name != guess and upper_bound >= lower_bound:\n",
    "        if name < guess:\n",
    "            # Change the appropriate bound\n",
    "            upper_bound = index - 1\n",
    "        else:\n",
    "            lower_bound = index + 1\n",
    "            # Set the index of our next guess\n",
    "        index = math.floor((lower_bound + upper_bound) / 2)\n",
    "        # Retrieve and format our next guess\n",
    "        guess = format_name(nba[index][0])\n",
    "    if name == guess:\n",
    "        # Return the age of the player at index (column index 2 in data set)\n",
    "        return nba[index][2]\n",
    "    else:\n",
    "        # Return -1, because the function didn't find our player\n",
    "        return -1\n",
    "    \n",
    "curry_age = player_age(\"Stephen Curry\")\n",
    "griffin_age = player_age(\"Blake Griffin\")\n",
    "jordan_age = player_age(\"Michael Jordan\")"
   ]
  },
  {
   "cell_type": "code",
   "execution_count": null,
   "metadata": {},
   "outputs": [],
   "source": []
  }
 ],
 "metadata": {
  "kernelspec": {
   "display_name": "Python 3",
   "language": "python",
   "name": "python3"
  },
  "language_info": {
   "codemirror_mode": {
    "name": "ipython",
    "version": 3
   },
   "file_extension": ".py",
   "mimetype": "text/x-python",
   "name": "python",
   "nbconvert_exporter": "python",
   "pygments_lexer": "ipython3",
   "version": "3.7.3"
  }
 },
 "nbformat": 4,
 "nbformat_minor": 2
}
