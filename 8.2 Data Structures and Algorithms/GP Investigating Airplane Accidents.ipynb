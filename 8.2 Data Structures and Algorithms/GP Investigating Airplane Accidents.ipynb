{
 "cells": [
  {
   "cell_type": "markdown",
   "metadata": {},
   "source": [
    "# Intro\n",
    "\n",
    "Investigating Airplane Accidents\n",
    "\n",
    "In this project, I will be working with a data set containing 77,282 aviation accidents that occured in the U.S., and the metadata associated with them. The data is stored in the `AviationData.txt` file coming from the National Transportation Safety Board (NTSB).\n",
    "\n",
    "I'm going to walkthrough this project by:\n",
    "\n",
    " - Cleaning the data.\n",
    "\n",
    " - Using algorithms to:\n",
    "   - Search for a string like \"LAX94LA336\" through rows.\n",
    "\n",
    "   - Create a hash table a search for the \"LAX9LA336\" again, to compare time complexity between methods \n",
    "\n",
    "   - Investigate the states where most accidents occured.\n",
    "\n",
    "   - Calculate the amount of falalities and serious injuries by month.\n",
    "\n",
    "   - Calculate the worst air carriers.\n",
    "\n",
    "   - Find the biggest percentages of accidents occuring in adverse weather conditions."
   ]
  },
  {
   "cell_type": "markdown",
   "metadata": {},
   "source": [
    "## The Data\n",
    "\n",
    "In the text file, each entry is delimited by a new line. Each data point is separated by a pipe character. So we'll read the file in and do some preliminary cleaning."
   ]
  },
  {
   "cell_type": "code",
   "execution_count": 14,
   "metadata": {},
   "outputs": [
    {
     "name": "stdout",
     "output_type": "stream",
     "text": [
      "20150908X74637 | Accident | CEN15LA402 | 09/08/2015 | Freeport, IL | United States | 42.246111 | -89.581945 | KFEP | albertus Airport | Non-Fatal | Substantial | Unknown | N24TL | CLARKE REGINALD W | DRAGONFLY MK |  |  |  | Part 91: General Aviation |  | Personal |  |  | 1 |  |  | VMC | TAKEOFF | Preliminary | 09/09/2015 | \n",
      "\n",
      "['20150908X74637', 'Accident', 'CEN15LA402', '09/08/2015', 'Freeport, IL', 'United States', '42.246111', '-89.581945', 'KFEP', 'albertus Airport', 'Non-Fatal', 'Substantial', 'Unknown', 'N24TL', 'CLARKE REGINALD W', 'DRAGONFLY MK', '', '', '', 'Part 91: General Aviation', '', 'Personal', '', '', '1', '', '', 'VMC', 'TAKEOFF', 'Preliminary', '09/09/2015', '']\n"
     ]
    }
   ],
   "source": [
    "aviation_list = []\n",
    "aviation_data = []\n",
    "\n",
    "with open('AviationData.txt', 'r') as file:\n",
    "    for line in file:\n",
    "        aviation_data.append(line)\n",
    "        text = line.split('|')\n",
    "        words = []\n",
    "        for word in text:\n",
    "            word = word.strip()\n",
    "            words.append(word)\n",
    "        aviation_list.append(words)\n",
    "\n",
    "print(aviation_data[1]) # 0th row contains the headers\n",
    "        \n",
    "print(aviation_list[1])"
   ]
  },
  {
   "cell_type": "code",
   "execution_count": 15,
   "metadata": {},
   "outputs": [
    {
     "name": "stdout",
     "output_type": "stream",
     "text": [
      "['20001218X45447', 'Accident', 'LAX94LA336', '07/19/1962', 'BRIDGEPORT, CA', 'United States', '', '', '', '', 'Fatal(4)', 'Destroyed', '', 'N5069P', 'PIPER', 'PA24-180', 'No', '1', 'Reciprocating', '', '', 'Personal', '', '4', '0', '0', '0', 'UNK', 'UNKNOWN', 'Probable Cause', '09/19/1996', '']\n"
     ]
    }
   ],
   "source": [
    "def linear_search(code):\n",
    "    lax_code = []    \n",
    "    for row in aviation_list:\n",
    "        for item in row:\n",
    "            if item == code:\n",
    "                lax_code.append(row)\n",
    "    return lax_code\n",
    "\n",
    "\n",
    "lin_search = linear_search('LAX94LA336')\n",
    "\n",
    "print(lin_search[0])"
   ]
  },
  {
   "cell_type": "markdown",
   "metadata": {},
   "source": [
    "## Hash table - dictionary \n",
    "\n",
    "We'll now store the data in a dictionary:\n",
    "\n",
    " - Create an empty list and name it aviation_dict_list.\n",
    " -  Loop through each item in aviation_data and split it on the pipe character (|).\n",
    " - Convert the split row to a dictionary. The dictionary should use the columns names as keys, and their values as its own values. Here's an example of a single item:\n",
    " - {\"Event Id\": \"20150908X74637\", \"Investigation Type\": \"Accident\", ...}\n",
    " - Append the result to aviation_dict_list.\n",
    " - Create an empty list and name it lax_dict.\n",
    " - Search through aviation_dict_list for LAX94LA336. This value could be in any key in any dictionary.\n",
    " - When you find the value, append the entire dictionary to lax_dict."
   ]
  },
  {
   "cell_type": "code",
   "execution_count": 16,
   "metadata": {},
   "outputs": [
    {
     "data": {
      "text/plain": [
       "{'Event Id': '20150906X32704',\n",
       " 'Investigation Type': 'Accident',\n",
       " 'Accident Number': 'ERA15LA339',\n",
       " 'Event Date': '09/05/2015',\n",
       " 'Location': 'Laconia, NH',\n",
       " 'Country': 'United States',\n",
       " 'Latitude': '43.606389',\n",
       " 'Longitude': '-71.452778',\n",
       " 'Airport Code': 'LCI',\n",
       " 'Airport Name': 'Laconia Municipal Airport',\n",
       " 'Injury Severity': 'Fatal(1)',\n",
       " 'Aircraft Damage': 'Substantial',\n",
       " 'Aircraft Category': 'Weight-Shift',\n",
       " 'Registration Number': 'N2264X',\n",
       " 'Make': 'EVOLUTION AIRCRAFT INC',\n",
       " 'Model': 'REVO',\n",
       " 'Amateur Built': 'No',\n",
       " 'Number of Engines': '1',\n",
       " 'Engine Type': 'Reciprocating',\n",
       " 'FAR Description': 'Part 91: General Aviation',\n",
       " 'Schedule': '',\n",
       " 'Purpose of Flight': 'Personal',\n",
       " 'Air Carrier': '',\n",
       " 'Total Fatal Injuries': '1',\n",
       " 'Total Serious Injuries': '',\n",
       " 'Total Minor Injuries': '',\n",
       " 'Total Uninjured': '',\n",
       " 'Weather Condition': 'VMC',\n",
       " 'Broad Phase of Flight': 'MANEUVERING',\n",
       " 'Report Status': 'Preliminary',\n",
       " 'Publication Date': '09/10/2015',\n",
       " '': ''}"
      ]
     },
     "execution_count": 16,
     "metadata": {},
     "output_type": "execute_result"
    }
   ],
   "source": [
    "def dictionary(l):\n",
    "    # Clean input and create a list of keys for a dictionary    \n",
    "    not_yet_keys = l[0].split('|')\n",
    "    keys = []\n",
    "    for key in not_yet_keys:\n",
    "        key = key.strip()\n",
    "        keys.append(key)\n",
    "    \n",
    "    # Get the values for the keys\n",
    "    values = []\n",
    "    for n in range(1, len(l)):\n",
    "        not_yet_values = l[n].split('|')\n",
    "        clean_values = []\n",
    "        for value in not_yet_values:\n",
    "            value = value.strip()\n",
    "            clean_values.append(value)\n",
    "        values.append(clean_values)\n",
    "     \n",
    "    # Pair the values to the keys\n",
    "    aviation_dict_list = []\n",
    "    for y in range(0, len(values)):\n",
    "        paired = {}\n",
    "        for x in range(0, len(keys)):        \n",
    "            paired[keys[x]] = values[y][x]\n",
    "        aviation_dict_list.append(paired)    \n",
    "    return aviation_dict_list\n",
    "        \n",
    "\n",
    "        \n",
    "aviation_dict_list = dictionary(aviation_data)\n",
    "aviation_dict_list[1]"
   ]
  },
  {
   "cell_type": "code",
   "execution_count": 17,
   "metadata": {},
   "outputs": [
    {
     "data": {
      "text/plain": [
       "{'Event Id': '20001218X45447',\n",
       " 'Investigation Type': 'Accident',\n",
       " 'Accident Number': 'LAX94LA336',\n",
       " 'Event Date': '07/19/1962',\n",
       " 'Location': 'BRIDGEPORT, CA',\n",
       " 'Country': 'United States',\n",
       " 'Latitude': '',\n",
       " 'Longitude': '',\n",
       " 'Airport Code': '',\n",
       " 'Airport Name': '',\n",
       " 'Injury Severity': 'Fatal(4)',\n",
       " 'Aircraft Damage': 'Destroyed',\n",
       " 'Aircraft Category': '',\n",
       " 'Registration Number': 'N5069P',\n",
       " 'Make': 'PIPER',\n",
       " 'Model': 'PA24-180',\n",
       " 'Amateur Built': 'No',\n",
       " 'Number of Engines': '1',\n",
       " 'Engine Type': 'Reciprocating',\n",
       " 'FAR Description': '',\n",
       " 'Schedule': '',\n",
       " 'Purpose of Flight': 'Personal',\n",
       " 'Air Carrier': '',\n",
       " 'Total Fatal Injuries': '4',\n",
       " 'Total Serious Injuries': '0',\n",
       " 'Total Minor Injuries': '0',\n",
       " 'Total Uninjured': '0',\n",
       " 'Weather Condition': 'UNK',\n",
       " 'Broad Phase of Flight': 'UNKNOWN',\n",
       " 'Report Status': 'Probable Cause',\n",
       " 'Publication Date': '09/19/1996',\n",
       " '': ''}"
      ]
     },
     "execution_count": 17,
     "metadata": {},
     "output_type": "execute_result"
    }
   ],
   "source": [
    "def dict_search(dict_list, target):\n",
    "    lax_dict = []\n",
    "    for x in range(0, len(dict_list)):\n",
    "        for value in dict_list[x].values():\n",
    "            if value == target:\n",
    "                lax_dict.append(dict_list[x])\n",
    "    return lax_dict\n",
    "\n",
    "\n",
    "lax_dict = dict_search(aviation_dict_list, \"LAX94LA336\")\n",
    "\n",
    "lax_dict[0]"
   ]
  },
  {
   "cell_type": "markdown",
   "metadata": {},
   "source": [
    "The order of this search is linear O(n) because we still had to loop through the first list. However this is more efficient than looping two lists."
   ]
  },
  {
   "cell_type": "markdown",
   "metadata": {},
   "source": [
    "## Accidents by US State\n",
    "\n",
    " - Count up how many accidents occurred in each U.S. state, and assign the result to state_accidents.\n",
    " - parse the state by splitting the Location field and extracting the state.\n",
    " - Sort state_accidents, and extract the name of the state with the most aviation accidents."
   ]
  },
  {
   "cell_type": "code",
   "execution_count": 18,
   "metadata": {},
   "outputs": [
    {
     "data": {
      "text/plain": [
       "[('CA', 8032), ('FL', 5118), ('TX', 5112), ('AK', 5049), ('AZ', 2502)]"
      ]
     },
     "execution_count": 18,
     "metadata": {},
     "output_type": "execute_result"
    }
   ],
   "source": [
    "from collections import Counter\n",
    "\n",
    "def most_state_accidents(data):\n",
    "    state_accidents = []\n",
    "    for x in range(0, len(data)):\n",
    "        state_accidents.append(data[x]['Location'][-2:])\n",
    "    state_count = Counter(state_accidents)\n",
    "    return state_accidents, state_count.most_common(5)\n",
    "\n",
    "state_accidents, accident_prone_states = most_state_accidents(aviation_dict_list)\n",
    "\n",
    "accident_prone_states"
   ]
  },
  {
   "cell_type": "markdown",
   "metadata": {},
   "source": [
    "The states with the highest number of aiplane accidents are: \n",
    "- California, \n",
    "- Florida, \n",
    "- Texas, \n",
    "- Alaska, \n",
    "- Arizona. \n",
    "\n",
    "We're not able to create a comparison between states as we don't have statistics that show successful flights or flight hours. From our research we know that most accidents occur during take-off or landing.\n",
    "\n",
    "Next, we will look at which months have the most accidents."
   ]
  },
  {
   "cell_type": "markdown",
   "metadata": {},
   "source": [
    "# Fatalities & Injuries by Month"
   ]
  },
  {
   "cell_type": "code",
   "execution_count": 19,
   "metadata": {},
   "outputs": [
    {
     "data": {
      "text/plain": [
       "[('July 1982', 433), ('August 1983', 421), ('July 1983', 413)]"
      ]
     },
     "execution_count": 19,
     "metadata": {},
     "output_type": "execute_result"
    }
   ],
   "source": [
    "def worst_month_accidents(data):\n",
    "    months = []\n",
    "    change_month = {\"01\":\"January\",\n",
    "                    \"02\":\"February\",\n",
    "                    \"03\":\"March\",\n",
    "                    \"04\":\"April\",\n",
    "                    \"05\":\"May\",\n",
    "                    \"06\":\"June\",\n",
    "                    \"07\":\"July\",\n",
    "                    \"08\":\"August\",\n",
    "                    \"09\":\"September\",\n",
    "                    \"10\":\"October\",\n",
    "                    \"11\":\"November\",\n",
    "                    \"12\":\"December\"}\n",
    "    \n",
    "    for x in range(0, len(data)):\n",
    "        month = data[x]['Event Date'][0:2]\n",
    "        try:\n",
    "            month = change_month[month]\n",
    "        except KeyError:\n",
    "            month = data[x]['Event Id'][4:6]\n",
    "            month = change_month[month]\n",
    "        if data[x]['Event Date'] != '':\n",
    "            year = data[x]['Event Date'][-4:]\n",
    "        else:\n",
    "            year = data[x]['Event Id'][0:4]\n",
    "        months.append(month + ' ' + year)\n",
    "        \n",
    "    worst_months = Counter(months)\n",
    "    return worst_months, worst_months.most_common(3)\n",
    "\n",
    "month_count_accidents, worst_3_months_acc = worst_month_accidents(aviation_dict_list)\n",
    "\n",
    "worst_3_months_acc"
   ]
  },
  {
   "cell_type": "markdown",
   "metadata": {},
   "source": [
    "The worst months were in the summer of 1983. We'd have to do a bit of external research to find out why this occurred. \n",
    "\n",
    "## Worst months for injuries\n",
    "\n",
    "We'll now take a look at the worst injuries by month:"
   ]
  },
  {
   "cell_type": "code",
   "execution_count": 20,
   "metadata": {},
   "outputs": [
    {
     "data": {
      "text/plain": [
       "[('January 2007', 102), ('July 2002', 71), ('June 2010', 5)]"
      ]
     },
     "execution_count": 20,
     "metadata": {},
     "output_type": "execute_result"
    }
   ],
   "source": [
    "def worst_month_injuries(data):\n",
    "    injuries_by_month = {}\n",
    "    change_month = {\"01\":\"January\",\n",
    "                    \"02\":\"February\",\n",
    "                    \"03\":\"March\",\n",
    "                    \"04\":\"April\",\n",
    "                    \"05\":\"May\",\n",
    "                    \"06\":\"June\",\n",
    "                    \"07\":\"July\",\n",
    "                    \"08\":\"August\",\n",
    "                    \"09\":\"September\",\n",
    "                    \"10\":\"October\",\n",
    "                    \"11\":\"November\",\n",
    "                    \"12\":\"December\"}\n",
    "    for x in range(0, len(data)):\n",
    "        injuries = 0\n",
    "        month = data[x]['Event Date'][0:2]\n",
    "        try: \n",
    "            month = change_month[month]\n",
    "        except KeyError:\n",
    "            month = data[x]['Event Id'][4:6]\n",
    "            month = change_month[month]\n",
    "        if data[x]['Event Date'] != '':\n",
    "            year = data[x]['Event Date'][-4:]\n",
    "        else:\n",
    "            year = data[x]['Event Id'][0:4]\n",
    "        month = month + ' ' + year\n",
    "        fatal = data[x]['Total Fatal Injuries']\n",
    "        serious = data[x]['Total Serious Injuries']\n",
    "        # Skip the blanks        \n",
    "        if fatal:\n",
    "            injuries += int(fatal)\n",
    "        if serious:\n",
    "            injuries += int(serious)\n",
    "        injuries_by_month[month] = injuries\n",
    "        injuries_by_month = Counter(injuries_by_month)        \n",
    "        \n",
    "    return injuries_by_month, injuries_by_month.most_common(3)\n",
    "           \n",
    "month_count_injuries, worst_3_months_inj  = worst_month_injuries(aviation_dict_list)\n",
    "\n",
    "worst_3_months_inj"
   ]
  },
  {
   "cell_type": "markdown",
   "metadata": {},
   "source": [
    "## Summary\n",
    "\n",
    "Again we have two summer months, possibly this is when most people are on vacation and take more trips. We also see a winter month here. \n",
    "\n",
    "Next steps:\n",
    "\n",
    " - Map out accidents using the cartopy library for matplotlib.\n",
    " - Count the number of accidents by air carrier.\n",
    " - Count the number of accidents by airplane make and model.\n",
    " - Figure out what percentage of accidents occur under adverse weather conditions."
   ]
  },
  {
   "cell_type": "code",
   "execution_count": 23,
   "metadata": {},
   "outputs": [
    {
     "data": {
      "text/plain": [
       "[('CESSNA', 16611),\n",
       " ('PIPER', 9183),\n",
       " ('Cessna', 7739),\n",
       " ('Piper', 4096),\n",
       " ('BEECH', 3031)]"
      ]
     },
     "execution_count": 23,
     "metadata": {},
     "output_type": "execute_result"
    }
   ],
   "source": [
    "# Makes with the most accidents\n",
    "\n",
    "def most_makes_accidents(data):\n",
    "    makes_accidents = []\n",
    "    for x in range(0, len(data)):\n",
    "        makes_accidents.append(data[x]['Make'])\n",
    "    make_count = Counter(makes_accidents)\n",
    "    return makes_accidents, make_count.most_common(5)\n",
    "\n",
    "make_accidents, accident_prone_makes = most_makes_accidents(aviation_dict_list)\n",
    "\n",
    "accident_prone_makes"
   ]
  },
  {
   "cell_type": "code",
   "execution_count": 22,
   "metadata": {},
   "outputs": [
    {
     "data": {
      "text/plain": [
       "[('152', 2251),\n",
       " ('172', 1164),\n",
       " ('172N', 1121),\n",
       " ('PA-28-140', 900),\n",
       " ('172M', 771)]"
      ]
     },
     "execution_count": 22,
     "metadata": {},
     "output_type": "execute_result"
    }
   ],
   "source": [
    "# Models with the most accidents\n",
    "\n",
    "def most_model_accidents(data):\n",
    "    model_accidents = []\n",
    "    for x in range(0, len(data)):\n",
    "        model_accidents.append(data[x]['Model'])\n",
    "    model_count = Counter(model_accidents)\n",
    "    return model_accidents, model_count.most_common(5)\n",
    "\n",
    "model_accidents, accident_prone_models = most_model_accidents(aviation_dict_list)\n",
    "\n",
    "accident_prone_models\n"
   ]
  },
  {
   "cell_type": "markdown",
   "metadata": {},
   "source": [
    "## Summary\n",
    "\n",
    "The [Cessna 152](https://en.wikipedia.org/wiki/Cessna_152) is a single-engine aircraft and is frequently used for training. It makes sense that there would be more accidents. Piper and Beech also make small aircraft, typically these aren't used in commercial flights. \n",
    "\n",
    "It might be interesting to see what the most common model involved in accidents is among commercial aircraft. "
   ]
  },
  {
   "cell_type": "code",
   "execution_count": 38,
   "metadata": {},
   "outputs": [
    {
     "name": "stdout",
     "output_type": "stream",
     "text": [
      "[('UNITED AIRLINES', 49), ('AMERICAN AIRLINES', 41), ('CONTINENTAL AIRLINES', 25), ('USAIR', 24), ('DELTA AIR LINES INC', 23), ('AMERICAN AIRLINES, INC.', 22), ('SOUTHWEST AIRLINES CO', 21), ('CONTINENTAL AIRLINES, INC.', 19), ('UNITED AIR LINES INC', 14), ('US AIRWAYS INC', 12)]\n"
     ]
    }
   ],
   "source": [
    "# Airlines with the most accidents\n",
    "def air_carriers_acc(n, data):\n",
    "    air_carriers = []\n",
    "    for i in range(0, len(data)):\n",
    "        air_carrier = data[i]['Air Carrier']\n",
    "        if air_carrier != '':\n",
    "            air_carriers.append(air_carrier)\n",
    "    ac_count = Counter(air_carriers)\n",
    "    return ac_count.most_common(n)\n",
    "\n",
    "top_10 = air_carriers_acc(10, aviation_dict_list)\n",
    "print(top_10)"
   ]
  },
  {
   "cell_type": "markdown",
   "metadata": {},
   "source": [
    "## Findings\n",
    "\n",
    "We have to be careful here as some of the companies were incorporated and appear twice. \n",
    "\n",
    "American Airlines has the ties for most accidents (63) with United Airlines and United Air Lines Inc, however we know that United and Continental merged around 2010. \n",
    "\n",
    "If we were to count United Airlines, United Air Lines Inc, and Continental Airlines, Inc. together, we have a total of 82. "
   ]
  },
  {
   "cell_type": "code",
   "execution_count": 39,
   "metadata": {},
   "outputs": [
    {
     "data": {
      "text/plain": [
       "[('BOEING', 454),\n",
       " ('PIPER', 284),\n",
       " ('Cessna', 207),\n",
       " ('BEECH', 204),\n",
       " ('Boeing', 181)]"
      ]
     },
     "execution_count": 39,
     "metadata": {},
     "output_type": "execute_result"
    }
   ],
   "source": [
    "# Modified most_makes_accidents to find commercial flights\n",
    "def most_commercial_accidents(data):\n",
    "    makes_accidents = []\n",
    "    for x in range(0, len(data)):\n",
    "        air_carrier = data[x]['Air Carrier']\n",
    "        make = data[x]['Make']\n",
    "        \n",
    "        if air_carrier != '' and make != 'CESSNA' :\n",
    "            makes_accidents.append(data[x]['Make'])\n",
    "            \n",
    "    make_count = Counter(makes_accidents)\n",
    "    return makes_accidents, make_count.most_common(5)\n",
    "\n",
    "make_accidents, accident_prone_makes = most_commercial_accidents(aviation_dict_list)\n",
    "\n",
    "accident_prone_makes"
   ]
  },
  {
   "cell_type": "markdown",
   "metadata": {},
   "source": [
    "It looks like we need to clean the data further! We should change all to lower case. However for now it's sufficient.\n",
    "\n",
    "Boeing is very likely the most common aircraft among commercial carriers in the US. Even if we filtered further by Boeing models the results would probably not tell us too much. \n",
    "\n",
    "It's somewhat of a suprise to see that Cessna continues to be among the top, even with commercial flights."
   ]
  },
  {
   "cell_type": "code",
   "execution_count": 11,
   "metadata": {},
   "outputs": [
    {
     "name": "stdout",
     "output_type": "stream",
     "text": [
      "[('VMC', 89.024469145068), ('IMC', 7.220403462688112), ('UNK', 1.1969306815388)]\n"
     ]
    }
   ],
   "source": [
    "# Accidents by weather condition\n",
    "def worst_weather(data):\n",
    "    weathers = []\n",
    "    for i in range(0, len(data)):\n",
    "        weather = data[i]['Weather Condition']\n",
    "        if weather != '':\n",
    "            weathers.append(weather)\n",
    "    weather_count = Counter(weathers)\n",
    "    percentage = [(x, weather_count[x]/len(data)*100) for x in weather_count]\n",
    "    return sorted(percentage, key=lambda x: x[1], reverse=True) \n",
    "\n",
    "worst_weather = worst_weather(aviation_dict_list)\n",
    "print(worst_weather) "
   ]
  },
  {
   "cell_type": "markdown",
   "metadata": {},
   "source": [
    "Interestingly there are more accidents in Visual Meteorological Conditions than in Instrument Meteorological Conditions. So although weather may be a factor, it's not particularly related to accident cause based on our data."
   ]
  },
  {
   "cell_type": "code",
   "execution_count": 26,
   "metadata": {},
   "outputs": [
    {
     "data": {
      "text/plain": [
       "[('LANDING', 18569),\n",
       " ('TAKEOFF', 14751),\n",
       " ('CRUISE', 10598),\n",
       " ('MANEUVERING', 9502),\n",
       " ('APPROACH', 7513)]"
      ]
     },
     "execution_count": 26,
     "metadata": {},
     "output_type": "execute_result"
    }
   ],
   "source": [
    "# Accidents by Flight Phase\n",
    "def maniobra_accidents(data):\n",
    "    maneuvers_accidents = []\n",
    "    for x in range(0, len(data)):\n",
    "        maneuvers_accidents.append(data[x]['Broad Phase of Flight'])\n",
    "    maniobra_count = Counter(maneuvers_accidents)\n",
    "    return maneuvers_accidents, maniobra_count.most_common(5)\n",
    "\n",
    "maneuvers_accidents, accident_prone_moves = maniobra_accidents(aviation_dict_list)\n",
    "\n",
    "accident_prone_moves\n",
    " "
   ]
  },
  {
   "cell_type": "markdown",
   "metadata": {},
   "source": [
    "As expected most of the accidents occurred during take-off or landing. "
   ]
  }
 ],
 "metadata": {
  "kernelspec": {
   "display_name": "Python 3",
   "language": "python",
   "name": "python3"
  },
  "language_info": {
   "codemirror_mode": {
    "name": "ipython",
    "version": 3
   },
   "file_extension": ".py",
   "mimetype": "text/x-python",
   "name": "python",
   "nbconvert_exporter": "python",
   "pygments_lexer": "ipython3",
   "version": "3.7.3"
  }
 },
 "nbformat": 4,
 "nbformat_minor": 2
}
